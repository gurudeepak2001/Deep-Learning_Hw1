{
 "cells": [
  {
   "cell_type": "code",
   "execution_count": 2,
   "id": "183b86d4",
   "metadata": {
    "tags": []
   },
   "outputs": [],
   "source": [
    "import torch\n",
    "import torch.nn as nn\n",
    "import torch.nn.functional as F\n",
    "from torch.utils.data import DataLoader\n",
    "from torchvision import datasets, transforms\n",
    "\n",
    "import numpy as np\n",
    "import pandas as pd\n",
    "import matplotlib.pyplot as plt\n",
    "\n",
    "# Enable inline plotting for Jupyter note.\n",
    "%matplotlib inline\n"
   ]
  },
  {
   "cell_type": "code",
   "execution_count": 3,
   "id": "83180882",
   "metadata": {
    "tags": []
   },
   "outputs": [],
   "source": [
    "# Create a tensor with 200.\n",
    "X = torch.linspace(-10, 10, 200).reshape(-1, 1)\n"
   ]
  },
  {
   "cell_type": "code",
   "execution_count": 5,
   "id": "3034c199",
   "metadata": {
    "tags": []
   },
   "outputs": [],
   "source": [
    "# Calculate y using PyTorch operations. \n",
    "y=(np.sin(5*(np.pi*X)))/((5*(np.pi*X)))\n",
    "# Handleing error.\n",
    "y = torch.where(X == 0, torch.tensor(1.0), torch.sin(5 * torch.pi * X) / (5 * torch.pi * X))\n"
   ]
  },
  {
   "cell_type": "code",
   "execution_count": 7,
   "id": "17ec743c",
   "metadata": {
    "tags": []
   },
   "outputs": [],
   "source": [
    "# Function to calculate trainable parameters in a model.\n",
    "def calculate_parameters(model):\n",
    "    total_params = sum(param.numel() for param in model.parameters() if param.requires_grad)\n",
    "    return total_params\n"
   ]
  },
  {
   "cell_type": "code",
   "execution_count": 8,
   "id": "b48b2fc5",
   "metadata": {
    "tags": []
   },
   "outputs": [],
   "source": [
    "#Creating Model\n",
    "class Model(nn.Module):\n",
    "    def __init__(self, in_features=1, h1=4, h2=8, out_features=1):\n",
    "        super(Model, self).__init__()\n",
    "        self.fc1 = nn.Linear(in_features, h1)\n",
    "        self.fc2 = nn.Linear(h1, h2)\n",
    "        self.fc3 = nn.Linear(h2, out_features)\n",
    "        \n",
    "    def forward(self, x):\n",
    "        x = F.relu(self.fc1(x))\n",
    "        x = F.relu(self.fc2(x))\n",
    "        x = self.fc3(x)\n",
    "        return x\n"
   ]
  },
  {
   "cell_type": "code",
   "execution_count": 9,
   "id": "8ff622ad",
   "metadata": {
    "tags": []
   },
   "outputs": [
    {
     "name": "stdout",
     "output_type": "stream",
     "text": [
      "Model(\n",
      "  (fc1): Linear(in_features=1, out_features=4, bias=True)\n",
      "  (fc2): Linear(in_features=4, out_features=8, bias=True)\n",
      "  (fc3): Linear(in_features=8, out_features=1, bias=True)\n",
      ")\n"
     ]
    }
   ],
   "source": [
    "model=Model()\n",
    "print(model)"
   ]
  },
  {
   "cell_type": "code",
   "execution_count": 10,
   "id": "dc53be56",
   "metadata": {
    "tags": []
   },
   "outputs": [
    {
     "name": "stdout",
     "output_type": "stream",
     "text": [
      "57\n"
     ]
    }
   ],
   "source": [
    "# Calculate the number of parameters in the model\n",
    "modelparams = calculate_parameters(model)\n",
    "print(modelparams)\n"
   ]
  },
  {
   "cell_type": "code",
   "execution_count": 26,
   "id": "34995be7",
   "metadata": {
    "tags": []
   },
   "outputs": [],
   "source": [
    "# Calculate the consistency for each layer\n",
    "lay1_cons = 1 * 4\n",
    "lay2_cons = 4 * 8\n",
    "lay3_cons = 8 * 1\n",
    "tot_mod_cons = lay1_cons + lay2_cons + lay3_cons\n",
    "\n",
    "\n",
    "\n"
   ]
  },
  {
   "cell_type": "code",
   "execution_count": 27,
   "id": "51cca39b",
   "metadata": {
    "tags": []
   },
   "outputs": [],
   "source": [
    "crit_loss = nn.CrossEntropyLoss()"
   ]
  },
  {
   "cell_type": "code",
   "execution_count": 28,
   "id": "70fcd7b8",
   "metadata": {
    "tags": []
   },
   "outputs": [],
   "source": [
    "# Adam optimizer \n",
    "optimizer = torch.optim.Adam(model.parameters(), lr=0.001)\n"
   ]
  },
  {
   "cell_type": "code",
   "execution_count": 34,
   "id": "4df63b65",
   "metadata": {
    "tags": []
   },
   "outputs": [],
   "source": [
    "no_iterations=8\n",
    "epochs = 30\n",
    "epoch_num=round(epochs/3)\n",
    "mod_losses = []\n",
    "c=0\n",
    "lay2_weights_tensor = torch.zeros((no_iterations * epoch_num, lay2_cons))\n",
    "whole_mod_weights_tensor = torch.zeros((no_iterations * epoch_num, tot_mod_cons))\n",
    "loss_tensor = torch.zeros((no_iterations * epoch_num, 1))\n",
    "for train in range(no_iterations):\n",
    "    model=Model()\n",
    "    crit_loss = nn.CrossEntropyLoss()\n",
    "    optim = torch.optim.Adam(model.parameters(), lr=0.001)\n",
    "    for i in range(epochs):\n",
    "        i+=1\n",
    "        # feed forward\n",
    "        y_pred = model.forward(X)\n",
    "        # compute error\n",
    "        trn_loss = crit_loss(y_pred, y)\n",
    "        mod_losses.append(trn_loss)\n",
    "        \n",
    "        optim.zero_grad()\n",
    "        trn_loss.backward()\n",
    "        optim.step()\n",
    "        \n",
    "        # for every 3 epochs, collect weights and loss of the model\n",
    "        if i % 3 == 0:\n",
    "            # collect weights of the model\n",
    "            lay1_weights = torch.reshape(torch.flatten(model.fc1.weight), (1, lay1_cons))\n",
    "            lay2_weights  = torch.reshape(torch.flatten(model.fc2.weight), (1, lay2_cons))\n",
    "            lay3_weights  = torch.reshape(torch.flatten(model.fc3.weight), (1, lay3_cons))\n",
    "            # Combine all layers weights for the whole model\n",
    "            sum_lay1_lay2 = torch.cat((lay2_weights , lay1_weights), dim=1)\n",
    "            whole_mod_weights = torch.cat((sum_lay1_lay2, lay3_weights), dim=1)\n",
    "            # Save weights and loss \n",
    "            whole_mod_weights_tensor[c] = whole_mod_weights\n",
    "            lay2_weights_tensor[c] = lay2_weights\n",
    "            loss_tensor[c] = trn_loss\n",
    "            c += 1"
   ]
  },
  {
   "cell_type": "code",
   "execution_count": 35,
   "id": "674cfba1",
   "metadata": {
    "tags": []
   },
   "outputs": [],
   "source": [
    "import numpy as np\n",
    "\n",
    "def PcaImplem(input_array, dimensions_to_return):\n",
    "    m, n = input_array.shape\n",
    "    \n",
    "    means_input = np.mean(input_array, axis=0)\n",
    "    normalized_input = input_array - means_input\n",
    "    \n",
    "    covariance_matrix = np.dot(normalized_input.T, normalized_input)\n",
    "    eigenvalues, eigenvectors = np.linalg.eig(covariance_matrix)\n",
    "    \n",
    "    pairs = [(np.abs(eigenvalues[i]), eigenvectors[:, i]) for i in range(n)]\n",
    "    pairs.sort(key=lambda x: x[0], reverse=True)\n",
    "    \n",
    "    selected_features = np.array([value[1] for value in pairs[:dimensions_to_return]])\n",
    "    reduced_dimension_data = np.dot(normalized_input, selected_features.T)\n",
    "    \n",
    "    return reduced_dimension_data\n",
    "\n"
   ]
  },
  {
   "cell_type": "code",
   "execution_count": 38,
   "id": "b7518241",
   "metadata": {
    "tags": []
   },
   "outputs": [],
   "source": [
    "layer2_reduced = lay2_weights_tensor.detach().cpu().numpy()\n",
    "whole_model_reduced = whole_mod_weights_tensor.detach().cpu().numpy()\n",
    "loss_vector = loss_tensor.detach().cpu().numpy()\n",
    "\n",
    "layer2_reduced = PcaImplem(layer2_reduced, 2)\n",
    "whole_model_reduced = PcaImplem(whole_model_reduced, 2)\n",
    "\n"
   ]
  },
  {
   "cell_type": "code",
   "execution_count": 46,
   "id": "5f5499d3",
   "metadata": {
    "tags": []
   },
   "outputs": [
    {
     "data": {
      "image/png": "[encoded data removed]",
      "text/plain": [
       "<Figure size 640x480 with 1 Axes>"
      ]
     },
     "metadata": {},
     "output_type": "display_data"
    }
   ],
   "source": [
    "import matplotlib.pyplot as plt\n",
    "\n",
    "# Plot optimization of Layer 2 of Neural Network.\n",
    "color_symbols = ['o', 's', '^', 'D', 'X', 'P', '*']\n",
    "color_names = [\"orange\", \"skyblue\", \"lime\", \"crimson\", \"teal\", \"gray\", \"violet\"]\n",
    "counter = 0\n",
    "color_index = 0\n",
    "\n",
    "for point in lay2_reduced:\n",
    "    if (counter % 10) == 0 and counter != 0:\n",
    "        color_index = (color_index + 1) % len(color_symbols)\n",
    "        \n",
    "    plt.scatter(point[0], point[1], color=color_names[color_index], marker=color_symbols[color_index], label=f\"Loss: {round(loss_vector[counter][0], 2)}\" if counter % 10 == 0 else \"\")\n",
    "    counter += 1\n",
    "\n",
    "plt.title(\"Optimization of Layer 2\")\n",
    "plt.xlabel(\"Component 1\")\n",
    "plt.ylabel(\"Component 2\")\n",
    "plt.legend(loc='upper right')\n",
    "plt.grid(True)\n",
    "plt.show()\n"
   ]
  },
  {
   "cell_type": "code",
   "execution_count": 45,
   "id": "0b82a04b",
   "metadata": {
    "tags": []
   },
   "outputs": [
    {
     "data": {
      "image/png": "[encoded data removed]",
      "text/plain": [
       "<Figure size 640x480 with 1 Axes>"
      ]
     },
     "metadata": {},
     "output_type": "display_data"
    }
   ],
   "source": [
    "import matplotlib.pyplot as plt\n",
    "\n",
    "# Define color lists\n",
    "colour_list = ['y*', 'b*', 'g*', 'r*', 'c*', 'k*', 'm*']\n",
    "colour_name_list = [\"yellow\", \"blue\", \"green\", \"red\", \"cyan\", \"black\", \"purple\"]\n",
    "\n",
    "# Plot optimization of Whole Model of Neural Network\n",
    "counter = 0\n",
    "color_index = 0\n",
    "\n",
    "for point in whole_mod_red:\n",
    "    if (counter % 10) == 0 and counter != 0:\n",
    "        color_index = (color_index + 1) % len(colour_list)\n",
    "        \n",
    "    plt.plot(point[0], point[1], colour_list[color_index])\n",
    "    plt.annotate(str(round(loss_vector[counter][0], 2)), (point[0], point[1]), color=colour_name_list[color_index])\n",
    "    counter += 1\n",
    "\n",
    "plt.title(\"Weights Optimization of Whole Model\")\n",
    "plt.xlabel(\" Component 1\")\n",
    "plt.ylabel(\" Component 2\")\n",
    "plt.grid(True)\n",
    "plt.show()\n",
    "\n"
   ]
  },
  {
   "cell_type": "code",
   "execution_count": null,
   "id": "b37640e2",
   "metadata": {},
   "outputs": [],
   "source": []
  }
 ],
 "metadata": {
  "kernelspec": {
   "display_name": "Python 3 (ipykernel)",
   "language": "python",
   "name": "python3"
  },
  "language_info": {
   "codemirror_mode": {
    "name": "ipython",
    "version": 3
   },
   "file_extension": ".py",
   "mimetype": "text/x-python",
   "name": "python",
   "nbconvert_exporter": "python",
   "pygments_lexer": "ipython3",
   "version": "3.11.5"
  }
 },
 "nbformat": 4,
 "nbformat_minor": 5
}
