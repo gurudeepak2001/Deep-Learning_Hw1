{
 "cells": [
  {
   "cell_type": "code",
   "execution_count": 50,
   "id": "1d133a72",
   "metadata": {
    "tags": []
   },
   "outputs": [],
   "source": [
    "\n",
    "import numpy as np\n",
    "import torch\n",
    "import torchvision as tv\n",
    "from torchvision import transforms, datasets\n",
    "import torch.nn as nn\n",
    "import torch.nn.functional as F\n",
    "import torch.optim as optim\n",
    "import matplotlib.pyplot as plt\n",
    "# Enable inline plotting for Jupyter note.\n",
    "%matplotlib inline"
   ]
  },
  {
   "cell_type": "code",
   "execution_count": 51,
   "id": "1ff30450",
   "metadata": {
    "tags": []
   },
   "outputs": [],
   "source": [
    "\n",
    "sim_in = 20 * torch.rand((1000, 1)) - 10 \n",
    "ground_truth = np.cos(sim_in.numpy())     "
   ]
  },
  {
   "cell_type": "code",
   "execution_count": 52,
   "id": "c9eca80d",
   "metadata": {
    "tags": []
   },
   "outputs": [],
   "source": [
    "\n",
    "def calculate_params(input_model):\n",
    "    total_params = sum(param.numel() for param in input_model.parameters() if param.requires_grad)\n",
    "    return total_params\n"
   ]
  },
  {
   "cell_type": "code",
   "execution_count": 53,
   "id": "1f0f1633",
   "metadata": {
    "tags": []
   },
   "outputs": [],
   "source": [
    "\n",
    "import torch.nn as nn\n",
    "import torch.nn.functional as F\n",
    "\n",
    "class NeuralOptimizer(nn.Module):\n",
    "    def __init__(self):\n",
    "        super(NeuralOptimizer, self).__init__()\n",
    "        self.fc1 = nn.Linear(1, 9)\n",
    "        self.fc2 = nn.Linear(9, 6)\n",
    "        self.fc3 = nn.Linear(6, 1)\n",
    "\n",
    "    def forward(self, x):\n",
    "        x = F.relu(self.fc1(x))\n",
    "        x = F.relu(self.fc2(x))\n",
    "        x = self.fc3(x)\n",
    "        return x\n"
   ]
  },
  {
   "cell_type": "code",
   "execution_count": 54,
   "id": "a7e0846b",
   "metadata": {
    "tags": []
   },
   "outputs": [],
   "source": [
    "\n",
    "optim_net = NeuralOptimizer() \n",
    "cost_function = nn.MSELoss()   \n",
    "optimizer = torch.optim.Adam(optim_net.parameters(), lr=0.001)  \n"
   ]
  },
  {
   "cell_type": "code",
   "execution_count": 55,
   "id": "56b8801e",
   "metadata": {
    "tags": []
   },
   "outputs": [],
   "source": [
    "def min_ratio(w):\n",
    "    positive_count = sum(1 for x in w if x > 0)\n",
    "    total_count = len(w)\n",
    "    return positive_count / total_count if total_count > 0 else 0\n"
   ]
  },
  {
   "cell_type": "code",
   "execution_count": 56,
   "id": "5f6a2ff7",
   "metadata": {
    "tags": []
   },
   "outputs": [],
   "source": [
    "def calculate_grad_norm(model):\n",
    "    grad_norms = []\n",
    "    \n",
    "    for layer in model.modules():\n",
    "        if isinstance(layer, nn.Linear):\n",
    "            if layer.weight.grad is not None:  \n",
    "                grad_norm = layer.weight.grad.norm(2).item()\n",
    "                grad_norms.append(grad_norm)\n",
    "    \n",
    "    return np.mean(grad_norms) if grad_norms else 0  \n"
   ]
  },
  {
   "cell_type": "code",
   "execution_count": 57,
   "id": "e1034637-acb6-406b-be79-9d67126a0ba4",
   "metadata": {
    "tags": []
   },
   "outputs": [],
   "source": [
    "ground_truth_tensor = torch.tensor(ground_truth, dtype=torch.float32)\n",
    "\n",
    "min_ratio_list = []\n",
    "loss_list = []\n",
    "train_count = 100\n",
    "\n",
    "for i in range(train_count):\n",
    "    EPOCHS = 1000\n",
    "    total_loss = 0\n",
    "    \n",
    "    optim_net = NeuralOptimizer()  \n",
    "    cost_function = nn.MSELoss()  \n",
    "    optimizer = torch.optim.Adam(optim_net.parameters(), lr=0.001)\n",
    "    \n",
    "    for epoch in range(EPOCHS):\n",
    "        optim_net.zero_grad()\n",
    "        output = optim_net(sim_in)\n",
    "        output = output.view_as(ground_truth_tensor)\n",
    "        loss = cost_function(output, ground_truth_tensor)\n",
    "        \n",
    "        with torch.no_grad():\n",
    "            total_loss += loss.item()\n",
    "        \n",
    "        loss.backward()\n",
    "        optimizer.step()\n",
    "\n",
    "    loss_list.append(total_loss / len(sim_in))\n",
    "\n",
    "    num_params = calculate_params(optim_net)\n",
    "    \n",
    "    H = torch.zeros((num_params, num_params))\n",
    "\n",
    "    y_hat = optim_net(sim_in)\n",
    "    loss = ((y_hat - sim_in)**2).mean()\n",
    "\n",
    "    J = torch.autograd.grad(loss, list(optim_net.parameters()), create_graph=True)\n",
    "    J = torch.cat([j.flatten() for j in J])\n",
    "\n",
    "    for idx in range(num_params):\n",
    "        grad_params = torch.autograd.grad(J[idx], list(optim_net.parameters()), retain_graph=True)\n",
    "        H[idx] = torch.cat([g.flatten() for g in grad_params])\n",
    "\n",
    "    eigenvalues, _ = np.linalg.eig(H.detach().numpy())\n",
    "    min_ratio_list.append(min_ratio(eigenvalues))\n"
   ]
  },
  {
   "cell_type": "code",
   "execution_count": 58,
   "id": "148e82a4",
   "metadata": {
    "tags": []
   },
   "outputs": [],
   "source": [
    "num_params = calculate_params(optim_net)\n"
   ]
  },
  {
   "cell_type": "code",
   "execution_count": 59,
   "id": "71c49b76",
   "metadata": {
    "tags": []
   },
   "outputs": [],
   "source": [
    "num_params = calculate_params(optim_net)\n",
    "\n",
    "H = torch.zeros((num_params, num_params))\n",
    "\n",
    "y_hat = optim_net(sim_in)\n",
    "y = sim_in\n",
    "loss = ((y_hat - y)**2).mean()\n",
    "\n",
    "J = torch.autograd.grad(loss, list(optim_net.parameters()), create_graph=True)\n",
    "J = torch.cat([j.flatten() for j in J])\n",
    "\n",
    "for i in range(num_params):\n",
    "    grad_params = torch.autograd.grad(J[i], list(optim_net.parameters()), retain_graph=True)\n",
    "    H[i] = torch.cat([g.flatten() for g in grad_params])\n"
   ]
  },
  {
   "cell_type": "code",
   "execution_count": 60,
   "id": "ec5ac242",
   "metadata": {
    "tags": []
   },
   "outputs": [
    {
     "data": {
      "image/png": "[encoded data removed]",
      "text/plain": [
       "<Figure size 640x480 with 1 Axes>"
      ]
     },
     "metadata": {},
     "output_type": "display_data"
    }
   ],
   "source": [
    "import matplotlib.pyplot as plt\n",
    "\n",
    "# Create a scatter plot of Minimal Ratio vs Loss with new labels and colors\n",
    "plt.scatter(min_ratio_list, loss_list, color='green', alpha=1)\n",
    "\n",
    "# Adding new labels and title\n",
    "plt.xlabel('Min Ratio')\n",
    "plt.ylabel('Model Loss')\n",
    "plt.title('Min Ratio vs Model Loss')\n",
    "\n",
    "# Show the plot\n",
    "plt.show()\n"
   ]
  },
  {
   "cell_type": "code",
   "execution_count": null,
   "id": "aae53b70-e9e2-498b-a12d-033ee821f172",
   "metadata": {},
   "outputs": [],
   "source": []
  },
  {
   "cell_type": "code",
   "execution_count": null,
   "id": "c4ef4f63-8d9c-4e93-93ef-314e192f119a",
   "metadata": {},
   "outputs": [],
   "source": []
  },
  {
   "cell_type": "code",
   "execution_count": null,
   "id": "05bd314a-6da8-47fc-88be-11120d5d868e",
   "metadata": {},
   "outputs": [],
   "source": []
  }
 ],
 "metadata": {
  "kernelspec": {
   "display_name": "Python 3 (ipykernel)",
   "language": "python",
   "name": "python3"
  },
  "language_info": {
   "codemirror_mode": {
    "name": "ipython",
    "version": 3
   },
   "file_extension": ".py",
   "mimetype": "text/x-python",
   "name": "python",
   "nbconvert_exporter": "python",
   "pygments_lexer": "ipython3",
   "version": "3.11.5"
  }
 },
 "nbformat": 4,
 "nbformat_minor": 5
}
