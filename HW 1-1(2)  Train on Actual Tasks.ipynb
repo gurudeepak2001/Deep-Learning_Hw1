{
 "cells": [
  {
   "cell_type": "code",
   "execution_count": 2,
   "id": "3cc3f6f5-6dfa-43f1-9421-9b067fec9c8d",
   "metadata": {
    "tags": []
   },
   "outputs": [
    {
     "name": "stdout",
     "output_type": "stream",
     "text": [
      "Defaulting to user installation because normal site-packages is not writeable\n",
      "Requirement already satisfied: torch in ./.local/lib/python3.11/site-packages (2.4.1)\n",
      "Requirement already satisfied: torchvision in ./.local/lib/python3.11/site-packages (0.19.1)\n",
      "Requirement already satisfied: torchaudio in ./.local/lib/python3.11/site-packages (2.4.1)\n",
      "Requirement already satisfied: filelock in /software/slurm/spackages/linux-rocky8-x86_64/gcc-12.2.0/anaconda3-2023.09-0-3mhml42fa64byxqyd5fig5tbih625dp2/lib/python3.11/site-packages (from torch) (3.9.0)\n",
      "Requirement already satisfied: typing-extensions>=4.8.0 in ./.local/lib/python3.11/site-packages (from torch) (4.12.2)\n",
      "Requirement already satisfied: sympy in /software/slurm/spackages/linux-rocky8-x86_64/gcc-12.2.0/anaconda3-2023.09-0-3mhml42fa64byxqyd5fig5tbih625dp2/lib/python3.11/site-packages (from torch) (1.11.1)\n",
      "Requirement already satisfied: networkx in /software/slurm/spackages/linux-rocky8-x86_64/gcc-12.2.0/anaconda3-2023.09-0-3mhml42fa64byxqyd5fig5tbih625dp2/lib/python3.11/site-packages (from torch) (3.1)\n",
      "Requirement already satisfied: jinja2 in /software/slurm/spackages/linux-rocky8-x86_64/gcc-12.2.0/anaconda3-2023.09-0-3mhml42fa64byxqyd5fig5tbih625dp2/lib/python3.11/site-packages (from torch) (3.1.2)\n",
      "Requirement already satisfied: fsspec in /software/slurm/spackages/linux-rocky8-x86_64/gcc-12.2.0/anaconda3-2023.09-0-3mhml42fa64byxqyd5fig5tbih625dp2/lib/python3.11/site-packages (from torch) (2023.4.0)\n",
      "Requirement already satisfied: nvidia-cuda-nvrtc-cu12==12.1.105 in ./.local/lib/python3.11/site-packages (from torch) (12.1.105)\n",
      "Requirement already satisfied: nvidia-cuda-runtime-cu12==12.1.105 in ./.local/lib/python3.11/site-packages (from torch) (12.1.105)\n",
      "Requirement already satisfied: nvidia-cuda-cupti-cu12==12.1.105 in ./.local/lib/python3.11/site-packages (from torch) (12.1.105)\n",
      "Requirement already satisfied: nvidia-cudnn-cu12==9.1.0.70 in ./.local/lib/python3.11/site-packages (from torch) (9.1.0.70)\n",
      "Requirement already satisfied: nvidia-cublas-cu12==12.1.3.1 in ./.local/lib/python3.11/site-packages (from torch) (12.1.3.1)\n",
      "Requirement already satisfied: nvidia-cufft-cu12==11.0.2.54 in ./.local/lib/python3.11/site-packages (from torch) (11.0.2.54)\n",
      "Requirement already satisfied: nvidia-curand-cu12==10.3.2.106 in ./.local/lib/python3.11/site-packages (from torch) (10.3.2.106)\n",
      "Requirement already satisfied: nvidia-cusolver-cu12==11.4.5.107 in ./.local/lib/python3.11/site-packages (from torch) (11.4.5.107)\n",
      "Requirement already satisfied: nvidia-cusparse-cu12==12.1.0.106 in ./.local/lib/python3.11/site-packages (from torch) (12.1.0.106)\n",
      "Requirement already satisfied: nvidia-nccl-cu12==2.20.5 in ./.local/lib/python3.11/site-packages (from torch) (2.20.5)\n",
      "Requirement already satisfied: nvidia-nvtx-cu12==12.1.105 in ./.local/lib/python3.11/site-packages (from torch) (12.1.105)\n",
      "Requirement already satisfied: triton==3.0.0 in ./.local/lib/python3.11/site-packages (from torch) (3.0.0)\n",
      "Requirement already satisfied: nvidia-nvjitlink-cu12 in ./.local/lib/python3.11/site-packages (from nvidia-cusolver-cu12==11.4.5.107->torch) (12.6.68)\n",
      "Requirement already satisfied: numpy in /software/slurm/spackages/linux-rocky8-x86_64/gcc-12.2.0/anaconda3-2023.09-0-3mhml42fa64byxqyd5fig5tbih625dp2/lib/python3.11/site-packages (from torchvision) (1.24.3)\n",
      "Requirement already satisfied: pillow!=8.3.*,>=5.3.0 in /software/slurm/spackages/linux-rocky8-x86_64/gcc-12.2.0/anaconda3-2023.09-0-3mhml42fa64byxqyd5fig5tbih625dp2/lib/python3.11/site-packages (from torchvision) (9.4.0)\n",
      "Requirement already satisfied: MarkupSafe>=2.0 in /software/slurm/spackages/linux-rocky8-x86_64/gcc-12.2.0/anaconda3-2023.09-0-3mhml42fa64byxqyd5fig5tbih625dp2/lib/python3.11/site-packages (from jinja2->torch) (2.1.1)\n",
      "Requirement already satisfied: mpmath>=0.19 in /software/slurm/spackages/linux-rocky8-x86_64/gcc-12.2.0/anaconda3-2023.09-0-3mhml42fa64byxqyd5fig5tbih625dp2/lib/python3.11/site-packages (from sympy->torch) (1.3.0)\n",
      "Note: you may need to restart the kernel to use updated packages.\n"
     ]
    }
   ],
   "source": [
    "pip install torch torchvision torchaudio\n"
   ]
  },
  {
   "cell_type": "code",
   "execution_count": 1,
   "id": "a1520a66",
   "metadata": {
    "tags": []
   },
   "outputs": [],
   "source": [
    "import torch\n",
    "import torch.nn as nn\n",
    "import torch.nn.functional as F\n",
    "from torch.utils.data import DataLoader\n",
    "from torchvision import datasets, transforms\n",
    "\n",
    "import numpy as np\n",
    "import pandas as pd\n",
    "import matplotlib.pyplot as plt\n",
    "%matplotlib inline"
   ]
  },
  {
   "cell_type": "code",
   "execution_count": 2,
   "id": "7ce90d87-caac-4638-bb86-46a5a2f9a23f",
   "metadata": {
    "tags": []
   },
   "outputs": [],
   "source": [
    "from torchvision import datasets, transforms\n",
    "from torch.utils.data import DataLoader\n",
    "\n",
    "# Define a transformation to convert images to tensors\n",
    "transform = transforms.ToTensor()\n",
    "\n",
    "# Download and load the training and testing data for MNIST\n",
    "train_dataset = datasets.MNIST(root='Home Work./data', train=True, download=True, transform=transform)\n",
    "test_dataset = datasets.MNIST(root='Home Work./data', train=False, download=True, transform=transform)\n",
    "\n",
    "# Create data loaders for both training and testing datasets\n",
    "train_loader = DataLoader(dataset=train_dataset, batch_size=10, shuffle=True)\n",
    "test_loader = DataLoader(dataset=test_dataset, batch_size=10, shuffle=False)\n"
   ]
  },
  {
   "cell_type": "code",
   "execution_count": 3,
   "id": "6a13d304",
   "metadata": {
    "tags": []
   },
   "outputs": [
    {
     "data": {
      "text/plain": [
       "Dataset MNIST\n",
       "    Number of datapoints: 60000\n",
       "    Root location: Home Work./data\n",
       "    Split: Train\n",
       "    StandardTransform\n",
       "Transform: ToTensor()"
      ]
     },
     "execution_count": 3,
     "metadata": {},
     "output_type": "execute_result"
    }
   ],
   "source": [
    "train_dataset"
   ]
  },
  {
   "cell_type": "code",
   "execution_count": 4,
   "id": "9a3b753d",
   "metadata": {
    "tags": []
   },
   "outputs": [
    {
     "data": {
      "text/plain": [
       "Dataset MNIST\n",
       "    Number of datapoints: 10000\n",
       "    Root location: Home Work./data\n",
       "    Split: Test\n",
       "    StandardTransform\n",
       "Transform: ToTensor()"
      ]
     },
     "execution_count": 4,
     "metadata": {},
     "output_type": "execute_result"
    }
   ],
   "source": [
    "test_dataset"
   ]
  },
  {
   "cell_type": "code",
   "execution_count": 5,
   "id": "ce1f3f72",
   "metadata": {
    "tags": []
   },
   "outputs": [],
   "source": [
    "convul1 = nn.Conv2d(1, 8, 3, 1)\n",
    "convul2 = nn.Conv2d(8, 18, 3, 1)"
   ]
  },
  {
   "cell_type": "code",
   "execution_count": 6,
   "id": "0dc38e3d-3976-4f28-99fb-3d53e0cae7a6",
   "metadata": {
    "tags": []
   },
   "outputs": [],
   "source": [
    "import torch\n",
    "import torch.nn as nn\n",
    "import torch.nn.functional as F\n",
    "\n",
    "class ConvNet(nn.Module):\n",
    "    def __init__(self):\n",
    "        super(ConvNet, self).__init__()\n",
    "        # Convolutional layers\n",
    "        self.conv1 = nn.Conv2d(in_channels=1, out_channels=8, kernel_size=3, stride=1)\n",
    "        self.conv2 = nn.Conv2d(in_channels=8, out_channels=18, kernel_size=3, stride=1)\n",
    "        \n",
    "        # Fully connected layers\n",
    "        self.fc1 = nn.Linear(in_features=5*5*18, out_features=18)\n",
    "        self.fc2 = nn.Linear(in_features=18, out_features=10)\n",
    "                \n",
    "    def forward(self, x):\n",
    "        # Apply first convolution followed by ReLU and max pooling\n",
    "        x = F.relu(self.conv1(x))\n",
    "        x = F.max_pool2d(x, kernel_size=2, stride=2)\n",
    "        \n",
    "        # Apply second convolution followed by ReLU and max pooling\n",
    "        x = F.relu(self.conv2(x))\n",
    "        x = F.max_pool2d(x, kernel_size=2, stride=2)\n",
    "        \n",
    "        # Flatten the tensor before passing to fully connected layers\n",
    "        x = x.view(-1, 5*5*18)\n",
    "        \n",
    "        # Apply fully connected layers with ReLU in between\n",
    "        x = F.relu(self.fc1(x))\n",
    "        x = self.fc2(x)\n",
    "        \n",
    "        # Apply log softmax to the final output\n",
    "        return F.log_softmax(x, dim=1)\n"
   ]
  },
  {
   "cell_type": "code",
   "execution_count": 7,
   "id": "c7a17cc1",
   "metadata": {
    "tags": []
   },
   "outputs": [
    {
     "name": "stdout",
     "output_type": "stream",
     "text": [
      "ConvNet(\n",
      "  (conv1): Conv2d(1, 8, kernel_size=(3, 3), stride=(1, 1))\n",
      "  (conv2): Conv2d(8, 18, kernel_size=(3, 3), stride=(1, 1))\n",
      "  (fc1): Linear(in_features=450, out_features=18, bias=True)\n",
      "  (fc2): Linear(in_features=18, out_features=10, bias=True)\n",
      ")\n"
     ]
    }
   ],
   "source": [
    "model1 = ConvNet()\n",
    "print(model1)\n"
   ]
  },
  {
   "cell_type": "code",
   "execution_count": 8,
   "id": "7ff76e74",
   "metadata": {
    "tags": []
   },
   "outputs": [],
   "source": [
    "crit_loss1 = nn.CrossEntropyLoss()\n",
    "optim1 = torch.optim.Adam(model1.parameters(), lr=0.001)\n"
   ]
  },
  {
   "cell_type": "code",
   "execution_count": 9,
   "id": "496ade81",
   "metadata": {
    "tags": []
   },
   "outputs": [
    {
     "name": "stdout",
     "output_type": "stream",
     "text": [
      "Epoch 1/20 => Train Loss: 0.2374, Train Accuracy: 0.9242, Test Loss: 0.0770, Test Accuracy: 0.9766\n",
      "Epoch 2/20 => Train Loss: 0.0795, Train Accuracy: 0.9751, Test Loss: 0.0501, Test Accuracy: 0.9834\n",
      "Epoch 3/20 => Train Loss: 0.0616, Train Accuracy: 0.9813, Test Loss: 0.0524, Test Accuracy: 0.9826\n",
      "Epoch 4/20 => Train Loss: 0.0511, Train Accuracy: 0.9841, Test Loss: 0.0420, Test Accuracy: 0.9857\n",
      "Epoch 5/20 => Train Loss: 0.0451, Train Accuracy: 0.9858, Test Loss: 0.0398, Test Accuracy: 0.9865\n",
      "Epoch 6/20 => Train Loss: 0.0404, Train Accuracy: 0.9868, Test Loss: 0.0529, Test Accuracy: 0.9823\n",
      "Epoch 7/20 => Train Loss: 0.0354, Train Accuracy: 0.9891, Test Loss: 0.0350, Test Accuracy: 0.9881\n",
      "Epoch 8/20 => Train Loss: 0.0337, Train Accuracy: 0.9892, Test Loss: 0.0391, Test Accuracy: 0.9873\n",
      "Epoch 9/20 => Train Loss: 0.0314, Train Accuracy: 0.9897, Test Loss: 0.0366, Test Accuracy: 0.9884\n",
      "Epoch 10/20 => Train Loss: 0.0290, Train Accuracy: 0.9912, Test Loss: 0.0326, Test Accuracy: 0.9885\n",
      "Epoch 11/20 => Train Loss: 0.0268, Train Accuracy: 0.9914, Test Loss: 0.0359, Test Accuracy: 0.9889\n",
      "Epoch 12/20 => Train Loss: 0.0247, Train Accuracy: 0.9919, Test Loss: 0.0372, Test Accuracy: 0.9887\n",
      "Epoch 13/20 => Train Loss: 0.0237, Train Accuracy: 0.9924, Test Loss: 0.0382, Test Accuracy: 0.9883\n",
      "Epoch 14/20 => Train Loss: 0.0233, Train Accuracy: 0.9926, Test Loss: 0.0366, Test Accuracy: 0.9889\n",
      "Epoch 15/20 => Train Loss: 0.0209, Train Accuracy: 0.9930, Test Loss: 0.0428, Test Accuracy: 0.9882\n",
      "Epoch 16/20 => Train Loss: 0.0196, Train Accuracy: 0.9938, Test Loss: 0.0448, Test Accuracy: 0.9878\n",
      "Epoch 17/20 => Train Loss: 0.0183, Train Accuracy: 0.9941, Test Loss: 0.0578, Test Accuracy: 0.9846\n",
      "Epoch 18/20 => Train Loss: 0.0185, Train Accuracy: 0.9936, Test Loss: 0.0509, Test Accuracy: 0.9872\n",
      "Epoch 19/20 => Train Loss: 0.0165, Train Accuracy: 0.9941, Test Loss: 0.0677, Test Accuracy: 0.9812\n",
      "Epoch 20/20 => Train Loss: 0.0169, Train Accuracy: 0.9943, Test Loss: 0.0443, Test Accuracy: 0.9894\n"
     ]
    }
   ],
   "source": [
    "# Define the number of epochs\n",
    "epochs = 20\n",
    "\n",
    "\n",
    "train_losses1 = []\n",
    "test_losses1 = []\n",
    "train_correct1 = []\n",
    "test_correct1 = []\n",
    "\n",
    "# Loop over each epoch\n",
    "for epoch in range(epochs):\n",
    "    train_corr1 = 0\n",
    "    test_corr1 = 0\n",
    "    total_train_loss = 0  # Initialize train loss accumulator\n",
    "\n",
    "    # Training phase\n",
    "    model1.train()  # Set the model in training mode\n",
    "    for batch_idx, (x_train, y_train) in enumerate(train_loader):\n",
    "        \n",
    "        # Forward pass: Compute predictions and loss\n",
    "        y_pred = model1(x_train)\n",
    "        loss = crit_loss1(y_pred, y_train)\n",
    "\n",
    "        # Get predicted labels and calculate correct predictions for the batch\n",
    "        predicted = torch.max(y_pred.data, 1)[1]\n",
    "        batch_corr = (predicted == y_train).sum().item()  # Convert to scalar\n",
    "        train_corr1 += batch_corr\n",
    "\n",
    "        # Backpropagation and optimization\n",
    "        optim1.zero_grad()  # Zero out previous gradients\n",
    "        loss.backward()  # Backpropagate the loss\n",
    "        optim1.step()  # Update model parameters\n",
    "\n",
    "        total_train_loss += loss.item()  # Accumulate the loss for this batch\n",
    "\n",
    "    # Store the average training loss and correct predictions after each epoch\n",
    "    train_losses1.append(total_train_loss / len(train_loader))\n",
    "    train_correct1.append(train_corr1)\n",
    "    \n",
    "    # Testing phase (with no gradient computation)\n",
    "    model1.eval()  # Set the model in evaluation mode\n",
    "    total_test_loss = 0  # Initialize test loss accumulator\n",
    "    with torch.no_grad():\n",
    "        for batch_idx, (x_test, y_test) in enumerate(test_loader):\n",
    "            # Forward pass: Compute predictions and loss for test set\n",
    "            y_val = model1(x_test)\n",
    "            loss = crit_loss1(y_val, y_test)\n",
    "            total_test_loss += loss.item()\n",
    "\n",
    "          \n",
    "            predicted = torch.max(y_val.data, 1)[1]\n",
    "            test_corr1 += (predicted == y_test).sum().item()\n",
    "\n",
    "   \n",
    "    test_losses1.append(total_test_loss / len(test_loader))\n",
    "    test_correct1.append(test_corr1)\n",
    "    \n",
    "    \n",
    "    print(f'Epoch {epoch + 1}/{epochs} => Train Loss: {train_losses1[-1]:.4f}, '\n",
    "          f'Train Accuracy: {train_corr1 / len(train_loader.dataset):.4f}, '\n",
    "          f'Test Loss: {test_losses1[-1]:.4f}, '\n",
    "          f'Test Accuracy: {test_corr1 / len(test_loader.dataset):.4f}')\n"
   ]
  },
  {
   "cell_type": "code",
   "execution_count": 10,
   "id": "7ee6ffe4",
   "metadata": {
    "tags": []
   },
   "outputs": [],
   "source": [
    "train_losses1=torch.tensor(train_losses1)"
   ]
  },
  {
   "cell_type": "code",
   "execution_count": null,
   "id": "c079e949",
   "metadata": {
    "tags": []
   },
   "outputs": [],
   "source": [
    "################################## Training Actual Tasks, CNN with MNIST model 2 #############################"
   ]
  },
  {
   "cell_type": "code",
   "execution_count": 11,
   "id": "0860c8fb",
   "metadata": {
    "tags": []
   },
   "outputs": [],
   "source": [
    "\n",
    "\n",
    "\n",
    "con1 = nn.Conv2d(in_channels=1, out_channels=6, kernel_size=4, stride=1)\n",
    "\n",
    "con2 = nn.Conv2d(in_channels=6, out_channels=16, kernel_size=4, stride=1)\n"
   ]
  },
  {
   "cell_type": "code",
   "execution_count": 12,
   "id": "334eb92a",
   "metadata": {
    "tags": []
   },
   "outputs": [],
   "source": [
    "\n",
    "\n",
    "class ConvolNetwork2(nn.Module):\n",
    "    def __init__(self):\n",
    "        super(ConvolNetwork2, self).__init__()\n",
    "        \n",
    "        # Define the first convolutional layer: input (1 channel), output (6 channels), kernel size 4x4\n",
    "        self.convul1 = nn.Conv2d(in_channels=1, out_channels=6, kernel_size=4, stride=1)\n",
    "        \n",
    "     \n",
    "        self.convul2 = nn.Conv2d(in_channels=6, out_channels=16, kernel_size=4, stride=1)\n",
    "        \n",
    "     \n",
    "        self.fc1 = nn.Linear(in_features=4*4*16, out_features=16)\n",
    "        \n",
    "      \n",
    "        self.fc2 = nn.Linear(in_features=16, out_features=14)\n",
    "        \n",
    "        \n",
    "        self.fc3 = nn.Linear(in_features=14, out_features=10)\n",
    "                \n",
    "    def forward(self, y):\n",
    "        # Apply first convolutional layer followed by ReLU activation and max pooling\n",
    "        y = F.relu(self.convul1(y))\n",
    "        y = F.max_pool2d(y, kernel_size=2, stride=2)\n",
    "        \n",
    "        # Apply second convolutional layer ing\n",
    "        y = F.relu(self.convul2(y))\n",
    "        y = F.max_pool2d(y, kernel_size=2, stride=2)\n",
    "        \n",
    "        # Flatten the output from the convolutional layers\n",
    "        y = y.view(-1, 4*4*16)\n",
    "        \n",
    "        # Pass through fully connected layers with ReLU activations\n",
    "        y = F.relu(self.fc1(y))\n",
    "        y = F.relu(self.fc2(y))\n",
    "        \n",
    "        # Final output layer with log softmax for classification\n",
    "        y = self.fc3(y)\n",
    "        return F.log_softmax(y, dim=1)\n"
   ]
  },
  {
   "cell_type": "code",
   "execution_count": 14,
   "id": "c2df1bfe",
   "metadata": {
    "tags": []
   },
   "outputs": [
    {
     "name": "stdout",
     "output_type": "stream",
     "text": [
      "ConvolNetwork2(\n",
      "  (convul1): Conv2d(1, 6, kernel_size=(4, 4), stride=(1, 1))\n",
      "  (convul2): Conv2d(6, 16, kernel_size=(4, 4), stride=(1, 1))\n",
      "  (fc1): Linear(in_features=256, out_features=16, bias=True)\n",
      "  (fc2): Linear(in_features=16, out_features=14, bias=True)\n",
      "  (fc3): Linear(in_features=14, out_features=10, bias=True)\n",
      ")\n"
     ]
    }
   ],
   "source": [
    "model2 = ConvolNetwork2()\n",
    "print(model2)\n"
   ]
  },
  {
   "cell_type": "code",
   "execution_count": 16,
   "id": "1ec36607",
   "metadata": {
    "tags": []
   },
   "outputs": [],
   "source": [
    "import torch.nn as nn\n",
    "import torch.optim as optim\n",
    "\n",
    "# Define the loss function (CrossEntropyLoss is appropriate for classification tasks)\n",
    "crit_loss2 = nn.CrossEntropyLoss()\n",
    "\n",
    "# Define the Adam optimizer with a learning rate of 0.001\n",
    "optim2 = optim.Adam(model2.parameters(), lr=0.001)\n"
   ]
  },
  {
   "cell_type": "code",
   "execution_count": 17,
   "id": "2752b41f",
   "metadata": {
    "tags": []
   },
   "outputs": [
    {
     "name": "stdout",
     "output_type": "stream",
     "text": [
      "Epoch 1/20 => Train Loss: 0.2506, Train Accuracy: 0.9205, Test Loss: 0.1065, Test Accuracy: 0.9671\n",
      "Epoch 2/20 => Train Loss: 0.0966, Train Accuracy: 0.9709, Test Loss: 0.0721, Test Accuracy: 0.9759\n",
      "Epoch 3/20 => Train Loss: 0.0750, Train Accuracy: 0.9777, Test Loss: 0.0565, Test Accuracy: 0.9825\n",
      "Epoch 4/20 => Train Loss: 0.0632, Train Accuracy: 0.9806, Test Loss: 0.0514, Test Accuracy: 0.9842\n",
      "Epoch 5/20 => Train Loss: 0.0544, Train Accuracy: 0.9831, Test Loss: 0.0467, Test Accuracy: 0.9866\n",
      "Epoch 6/20 => Train Loss: 0.0481, Train Accuracy: 0.9850, Test Loss: 0.0507, Test Accuracy: 0.9838\n",
      "Epoch 7/20 => Train Loss: 0.0439, Train Accuracy: 0.9866, Test Loss: 0.0439, Test Accuracy: 0.9865\n",
      "Epoch 8/20 => Train Loss: 0.0402, Train Accuracy: 0.9875, Test Loss: 0.0483, Test Accuracy: 0.9850\n",
      "Epoch 9/20 => Train Loss: 0.0373, Train Accuracy: 0.9882, Test Loss: 0.0374, Test Accuracy: 0.9881\n",
      "Epoch 10/20 => Train Loss: 0.0348, Train Accuracy: 0.9889, Test Loss: 0.0391, Test Accuracy: 0.9886\n",
      "Epoch 11/20 => Train Loss: 0.0318, Train Accuracy: 0.9900, Test Loss: 0.0478, Test Accuracy: 0.9859\n",
      "Epoch 12/20 => Train Loss: 0.0302, Train Accuracy: 0.9905, Test Loss: 0.0416, Test Accuracy: 0.9880\n",
      "Epoch 13/20 => Train Loss: 0.0299, Train Accuracy: 0.9903, Test Loss: 0.0401, Test Accuracy: 0.9877\n",
      "Epoch 14/20 => Train Loss: 0.0272, Train Accuracy: 0.9915, Test Loss: 0.0472, Test Accuracy: 0.9867\n",
      "Epoch 15/20 => Train Loss: 0.0258, Train Accuracy: 0.9915, Test Loss: 0.0503, Test Accuracy: 0.9862\n",
      "Epoch 16/20 => Train Loss: 0.0247, Train Accuracy: 0.9923, Test Loss: 0.0470, Test Accuracy: 0.9879\n",
      "Epoch 17/20 => Train Loss: 0.0239, Train Accuracy: 0.9922, Test Loss: 0.0501, Test Accuracy: 0.9871\n",
      "Epoch 18/20 => Train Loss: 0.0221, Train Accuracy: 0.9931, Test Loss: 0.0470, Test Accuracy: 0.9870\n",
      "Epoch 19/20 => Train Loss: 0.0221, Train Accuracy: 0.9930, Test Loss: 0.0517, Test Accuracy: 0.9856\n",
      "Epoch 20/20 => Train Loss: 0.0211, Train Accuracy: 0.9930, Test Loss: 0.0488, Test Accuracy: 0.9878\n"
     ]
    }
   ],
   "source": [
    "epochs = 20\n",
    "train_losses2 = []\n",
    "test_losses2 = []\n",
    "train_correct2 = []\n",
    "test_correct2 = []\n",
    "\n",
    "for i in range(epochs):\n",
    "    train_corr2 = 0\n",
    "    test_corr2 = 0\n",
    "    total_train_loss2 = 0  # Initialize variable to accumulate training loss\n",
    "    \n",
    "    # Training the batches\n",
    "    model2.train()  \n",
    "    for b, (x_train, y_train) in enumerate(train_loader):\n",
    "        \n",
    "        \n",
    "        y_pred2 = model2(x_train)\n",
    "        \n",
    "        \n",
    "        loss2 = crit_loss2(y_pred2, y_train)\n",
    "        \n",
    "       \n",
    "        predicted2 = torch.max(y_pred2.data, 1)[1]\n",
    "        batch_corr2 = (predicted2 == y_train).sum().item()  r\n",
    "        train_corr2 += batch_corr2\n",
    "        \n",
    "        optim2.zero_grad()  \n",
    "        loss2.backward()  \n",
    "        optim2.step()  \n",
    "        \n",
    "        total_train_loss2 += loss2.item()  \n",
    "    \n",
    "   \n",
    "    train_losses2.append(total_train_loss2 / len(train_loader)) \n",
    "    train_correct2.append(train_corr2)\n",
    "    \n",
    "    model2.eval()  \n",
    "    total_test_loss2 = 0  \n",
    "    with torch.no_grad():  \n",
    "        for b, (x_test, y_test) in enumerate(test_loader):\n",
    "            \n",
    "            \n",
    "            y_val = model2(x_test)\n",
    "            \n",
    "            \n",
    "            predicted2 = torch.max(y_val.data, 1)[1]\n",
    "            test_corr2 += (predicted2 == y_test).sum().item()  \n",
    "            \n",
    "         \n",
    "            loss2 = crit_loss2(y_val, y_test)\n",
    "            total_test_loss2 += loss2.item()\n",
    "    \n",
    "   \n",
    "    test_losses2.append(total_test_loss2 / len(test_loader))  \n",
    "    test_correct2.append(test_corr2)\n",
    "    \n",
    "   \n",
    "    print(f'Epoch {i + 1}/{epochs} => Train Loss: {train_losses2[-1]:.4f}, '\n",
    "          f'Train Accuracy: {train_corr2 / len(train_loader.dataset):.4f}, '\n",
    "          f'Test Loss: {test_losses2[-1]:.4f}, '\n",
    "          f'Test Accuracy: {test_corr2 / len(test_loader.dataset):.4f}')\n"
   ]
  },
  {
   "cell_type": "code",
   "execution_count": 25,
   "id": "875f81ef",
   "metadata": {
    "tags": []
   },
   "outputs": [],
   "source": [
    "# If train_losses2 is already a tensor, use clone().detach() instead of torch.tensor()\n",
    "train_losses2 = train_losses2.clone().detach()\n"
   ]
  },
  {
   "cell_type": "code",
   "execution_count": 31,
   "id": "e8a08245",
   "metadata": {
    "tags": []
   },
   "outputs": [
    {
     "data": {
      "image/png": "[encoded data removed]",
      "text/plain": [
       "<Figure size 640x480 with 1 Axes>"
      ]
     },
     "metadata": {},
     "output_type": "display_data"
    }
   ],
   "source": [
    "### Plotting training loss on all models  \n",
    "plt.plot(train_losses1.detach().numpy(),'r', label='training loss mod1')\n",
    "plt.plot(train_losses2.detach().numpy(),'g', label='training loss mod2')\n",
    "plt.title('Training Loss Comparison')\n",
    "plt.legend();"
   ]
  },
  {
   "cell_type": "code",
   "execution_count": 34,
   "id": "49917681",
   "metadata": {
    "tags": []
   },
   "outputs": [
    {
     "data": {
      "image/png": "[encoded data removed]",
      "text/plain": [
       "<Figure size 640x480 with 1 Axes>"
      ]
     },
     "metadata": {},
     "output_type": "display_data"
    }
   ],
   "source": [
    "import matplotlib.pyplot as plt\n",
    "plt.plot([t / 600 for t in train_correct1], 'r', label='Accuracy Model 1')\n",
    "plt.plot([t / 600 for t in train_correct2], 'g', label='Accuracy Model 2')\n",
    "\n",
    "plt.title('Training Accuracy Comparison')\n",
    "plt.legend()\n",
    "plt.show()\n"
   ]
  }
 ],
 "metadata": {
  "kernelspec": {
   "display_name": "Python 3 (ipykernel)",
   "language": "python",
   "name": "python3"
  },
  "language_info": {
   "codemirror_mode": {
    "name": "ipython",
    "version": 3
   },
   "file_extension": ".py",
   "mimetype": "text/x-python",
   "name": "python",
   "nbconvert_exporter": "python",
   "pygments_lexer": "ipython3",
   "version": "3.11.5"
  },
  "toc-autonumbering": true,
  "toc-showmarkdowntxt": true
 },
 "nbformat": 4,
 "nbformat_minor": 5
}
