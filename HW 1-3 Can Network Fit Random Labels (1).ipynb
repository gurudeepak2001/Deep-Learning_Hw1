{
 "cells": [
  {
   "cell_type": "code",
   "execution_count": 1,
   "id": "05f3a1b8",
   "metadata": {
    "tags": []
   },
   "outputs": [],
   "source": [
    "import torch\n",
    "import torch.nn as nn\n",
    "import torch.nn.functional as F\n",
    "from torch.utils.data import DataLoader\n",
    "from torchvision import datasets, transforms\n",
    "\n",
    "import numpy as np\n",
    "import pandas as pd\n",
    "import matplotlib.pyplot as plt\n",
    "\n",
    "# Enable inline plotting for Jupyter note.\n",
    "%matplotlib inline"
   ]
  },
  {
   "cell_type": "code",
   "execution_count": 2,
   "id": "f63983f6",
   "metadata": {
    "tags": []
   },
   "outputs": [],
   "source": [
    "transform = transforms.ToTensor()"
   ]
  },
  {
   "cell_type": "code",
   "execution_count": 3,
   "id": "8964a97f",
   "metadata": {
    "tags": []
   },
   "outputs": [
    {
     "data": {
      "text/plain": [
       "60000"
      ]
     },
     "execution_count": 3,
     "metadata": {},
     "output_type": "execute_result"
    }
   ],
   "source": [
    "train_data_set = datasets.MNIST(root='Home Work./data', train=True, download=True, transform=transform)\n",
    "test_data_set = datasets.MNIST(root='Home Work./data', train=False, download=True, transform=transform)\n",
    "len(train_data_set)"
   ]
  },
  {
   "cell_type": "code",
   "execution_count": 4,
   "id": "3edb4486",
   "metadata": {
    "tags": []
   },
   "outputs": [
    {
     "data": {
      "text/plain": [
       "Dataset MNIST\n",
       "    Number of datapoints: 10000\n",
       "    Root location: Home Work./data\n",
       "    Split: Test\n",
       "    StandardTransform\n",
       "Transform: ToTensor()"
      ]
     },
     "execution_count": 4,
     "metadata": {},
     "output_type": "execute_result"
    }
   ],
   "source": [
    "test_data_set"
   ]
  },
  {
   "cell_type": "code",
   "execution_count": 5,
   "id": "92fa3e38",
   "metadata": {
    "tags": []
   },
   "outputs": [],
   "source": [
    "# Randomly shuffle the labels for training and testing datasets\n",
    "rand_labels_train = torch.tensor(np.random.randint(0, 10, len(train_data_set)))\n",
    "train_data_set.targets = rand_labels_train\n",
    "\n",
    "rand_labels_test = torch.tensor(np.random.randint(0, 10, len(test_data_set)))\n",
    "test_data_set.targets = rand_labels_test\n"
   ]
  },
  {
   "cell_type": "code",
   "execution_count": 6,
   "id": "55477839",
   "metadata": {
    "tags": []
   },
   "outputs": [],
   "source": [
    "# Create data loaders for training and testing\n",
    "train_loader = DataLoader(train_data_set, batch_size=50, shuffle=True)\n",
    "test_loader = DataLoader(test_data_set, batch_size=50, shuffle=True)\n"
   ]
  },
  {
   "cell_type": "code",
   "execution_count": 7,
   "id": "42b1c1ab",
   "metadata": {
    "tags": []
   },
   "outputs": [],
   "source": [
    "import torch.nn as nn\n",
    "import torch.nn.functional as F\n",
    "\n",
    "class DNModel(nn.Module):\n",
    "    def __init__(self, input_size=784, hidden1_size=120, hidden2_size=120, hidden3_size=16, output_size=10):\n",
    "        super().__init__()\n",
    "        self.fc1 = nn.Linear(input_size, hidden1_size)\n",
    "        self.fc2 = nn.Linear(hidden1_size, hidden2_size)\n",
    "        self.fc3 = nn.Linear(hidden2_size, hidden3_size)\n",
    "        self.output_layer = nn.Linear(hidden3_size, output_size)\n",
    "        \n",
    "    def forward(self, x):\n",
    "        x = F.relu(self.fc1(x))\n",
    "        x = F.relu(self.fc2(x))\n",
    "        x = F.relu(self.fc3(x))\n",
    "        x = self.output_layer(x)\n",
    "        return x\n"
   ]
  },
  {
   "cell_type": "code",
   "execution_count": 8,
   "id": "cec446f9",
   "metadata": {
    "tags": []
   },
   "outputs": [
    {
     "name": "stdout",
     "output_type": "stream",
     "text": [
      "DNModel(\n",
      "  (fc1): Linear(in_features=784, out_features=120, bias=True)\n",
      "  (fc2): Linear(in_features=120, out_features=120, bias=True)\n",
      "  (fc3): Linear(in_features=120, out_features=16, bias=True)\n",
      "  (output_layer): Linear(in_features=16, out_features=10, bias=True)\n",
      ")\n"
     ]
    }
   ],
   "source": [
    "dn_model=DNModel()\n",
    "print(dn_model)"
   ]
  },
  {
   "cell_type": "code",
   "execution_count": 9,
   "id": "380efac9",
   "metadata": {
    "tags": []
   },
   "outputs": [],
   "source": [
    "CriterionLoss = nn.CrossEntropyLoss()"
   ]
  },
  {
   "cell_type": "code",
   "execution_count": 10,
   "id": "6f98564a",
   "metadata": {
    "tags": []
   },
   "outputs": [],
   "source": [
    "optim = torch.optim.Adam(dn_model.parameters(), lr=0.001)"
   ]
  },
  {
   "cell_type": "code",
   "execution_count": 11,
   "id": "85b0ea14",
   "metadata": {
    "tags": []
   },
   "outputs": [
    {
     "name": "stdout",
     "output_type": "stream",
     "text": [
      "Epoch 1/30, Train Loss: 2.3018, Test Loss: 2.3009\n",
      "Epoch 2/30, Train Loss: 2.3014, Test Loss: 2.3005\n",
      "Epoch 3/30, Train Loss: 2.3043, Test Loss: 2.3004\n",
      "Epoch 4/30, Train Loss: 2.3021, Test Loss: 2.3058\n",
      "Epoch 5/30, Train Loss: 2.3065, Test Loss: 2.3023\n",
      "Epoch 6/30, Train Loss: 2.2965, Test Loss: 2.3072\n",
      "Epoch 7/30, Train Loss: 2.2976, Test Loss: 2.3034\n",
      "Epoch 8/30, Train Loss: 2.2864, Test Loss: 2.3004\n",
      "Epoch 9/30, Train Loss: 2.2933, Test Loss: 2.3203\n",
      "Epoch 10/30, Train Loss: 2.2703, Test Loss: 2.3015\n",
      "Epoch 11/30, Train Loss: 2.3192, Test Loss: 2.2968\n",
      "Epoch 12/30, Train Loss: 2.2548, Test Loss: 2.3239\n",
      "Epoch 13/30, Train Loss: 2.2880, Test Loss: 2.3318\n",
      "Epoch 14/30, Train Loss: 2.2945, Test Loss: 2.3208\n",
      "Epoch 15/30, Train Loss: 2.2493, Test Loss: 2.3650\n",
      "Epoch 16/30, Train Loss: 2.2314, Test Loss: 2.3684\n",
      "Epoch 17/30, Train Loss: 2.3061, Test Loss: 2.3208\n",
      "Epoch 18/30, Train Loss: 2.2703, Test Loss: 2.3879\n",
      "Epoch 19/30, Train Loss: 2.2357, Test Loss: 2.3593\n",
      "Epoch 20/30, Train Loss: 2.2498, Test Loss: 2.4378\n",
      "Epoch 21/30, Train Loss: 2.3117, Test Loss: 2.2705\n",
      "Epoch 22/30, Train Loss: 2.1663, Test Loss: 2.4552\n",
      "Epoch 23/30, Train Loss: 2.2118, Test Loss: 2.3414\n",
      "Epoch 24/30, Train Loss: 2.2816, Test Loss: 2.3643\n",
      "Epoch 25/30, Train Loss: 2.2924, Test Loss: 2.4204\n",
      "Epoch 26/30, Train Loss: 2.2328, Test Loss: 2.5027\n",
      "Epoch 27/30, Train Loss: 2.1197, Test Loss: 2.3474\n",
      "Epoch 28/30, Train Loss: 2.2827, Test Loss: 2.3875\n",
      "Epoch 29/30, Train Loss: 2.2310, Test Loss: 2.3942\n",
      "Epoch 30/30, Train Loss: 2.1945, Test Loss: 2.5908\n"
     ]
    }
   ],
   "source": [
    "epochs = 30\n",
    "train_losses = []\n",
    "test_losses = []\n",
    "\n",
    "for epoch in range(epochs):\n",
    "    # Training phase\n",
    "    for batch, (X_train, y_train) in enumerate(train_loader):\n",
    "        y_pred = dn_model(X_train.view(X_train.size(0), -1))  # Flatten X_train\n",
    "        loss = CriterionLoss(y_pred, y_train)\n",
    "\n",
    "        # Update model parameters\n",
    "        optim.zero_grad()\n",
    "        loss.backward()\n",
    "        optim.step()\n",
    "\n",
    "    train_losses.append(loss.item())\n",
    "    \n",
    "   \n",
    "    with torch.no_grad():\n",
    "        for batch, (X_test, y_test) in enumerate(test_loader):\n",
    "            y_val = dn_model(X_test.view(X_test.size(0), -1))\n",
    "\n",
    "  \n",
    "    test_loss = CriterionLoss(y_val, y_test)\n",
    "    test_losses.append(test_loss.item())\n",
    "    print(f'Epoch {epoch + 1}/{epochs}, Train Loss: {train_losses[-1]:.4f}, Test Loss: {test_losses[-1]:.4f}')\n",
    "\n"
   ]
  },
  {
   "cell_type": "code",
   "execution_count": 12,
   "id": "0e99200d",
   "metadata": {
    "tags": []
   },
   "outputs": [],
   "source": [
    "train_losses=torch.tensor(train_losses)\n",
    "test_losses=torch.tensor(test_losses)"
   ]
  },
  {
   "cell_type": "code",
   "execution_count": 13,
   "id": "b167e8e6",
   "metadata": {
    "tags": []
   },
   "outputs": [
    {
     "data": {
      "image/png": "[encoded data removed]",
      "text/plain": [
       "<Figure size 640x480 with 1 Axes>"
      ]
     },
     "metadata": {},
     "output_type": "display_data"
    }
   ],
   "source": [
    "import matplotlib.pyplot as plt\n",
    "\n",
    "# Visualize losses for the MNIST dataset\n",
    "plt.plot(range(epochs), train_losses, 'red', label='Training Loss')\n",
    "plt.plot(range(epochs), test_losses, 'green', label='Testing Loss')\n",
    "plt.title(\"Loss Over Epochs\")\n",
    "plt.xlabel(\"Epochs\")\n",
    "plt.ylabel(\"Loss\")\n",
    "plt.legend(loc=\"upper right\")\n",
    "plt.grid(True)\n",
    "plt.show()\n"
   ]
  }
 ],
 "metadata": {
  "kernelspec": {
   "display_name": "Python 3 (ipykernel)",
   "language": "python",
   "name": "python3"
  },
  "language_info": {
   "codemirror_mode": {
    "name": "ipython",
    "version": 3
   },
   "file_extension": ".py",
   "mimetype": "text/x-python",
   "name": "python",
   "nbconvert_exporter": "python",
   "pygments_lexer": "ipython3",
   "version": "3.11.5"
  }
 },
 "nbformat": 4,
 "nbformat_minor": 5
}
