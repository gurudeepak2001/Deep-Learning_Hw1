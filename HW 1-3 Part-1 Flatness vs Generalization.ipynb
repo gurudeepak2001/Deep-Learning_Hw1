{
 "cells": [
  {
   "cell_type": "code",
   "execution_count": 6,
   "id": "b9b6dc9d",
   "metadata": {
    "tags": []
   },
   "outputs": [],
   "source": [
    "import torch\n",
    "import torch.nn as nn\n",
    "import torch.nn.functional as F\n",
    "from torch.utils.data import DataLoader\n",
    "from torchvision import datasets, transforms\n",
    "\n",
    "import numpy as np\n",
    "import matplotlib.pyplot as plt\n",
    "# Enable inline plotting for Jupyter note.\n",
    "%matplotlib inline"
   ]
  },
  {
   "cell_type": "code",
   "execution_count": 7,
   "id": "e18b41eb",
   "metadata": {
    "tags": []
   },
   "outputs": [],
   "source": [
    "transform = transforms.ToTensor()"
   ]
  },
  {
   "cell_type": "code",
   "execution_count": 8,
   "id": "9e4219f9",
   "metadata": {
    "tags": []
   },
   "outputs": [],
   "source": [
    "train_data_set = datasets.MNIST(root='Home Work', train=True, download=True, transform=transform)\n",
    "test_data_set = datasets.MNIST(root='Home Work', train=False, download=True, transform=transform)"
   ]
  },
  {
   "cell_type": "code",
   "execution_count": 9,
   "id": "ecb81b56",
   "metadata": {
    "tags": []
   },
   "outputs": [
    {
     "data": {
      "text/plain": [
       "Dataset MNIST\n",
       "    Number of datapoints: 60000\n",
       "    Root location: Home Work\n",
       "    Split: Train\n",
       "    StandardTransform\n",
       "Transform: ToTensor()"
      ]
     },
     "execution_count": 9,
     "metadata": {},
     "output_type": "execute_result"
    }
   ],
   "source": [
    "train_data_set"
   ]
  },
  {
   "cell_type": "code",
   "execution_count": 10,
   "id": "b154d153",
   "metadata": {
    "tags": []
   },
   "outputs": [
    {
     "data": {
      "text/plain": [
       "Dataset MNIST\n",
       "    Number of datapoints: 10000\n",
       "    Root location: Home Work\n",
       "    Split: Test\n",
       "    StandardTransform\n",
       "Transform: ToTensor()"
      ]
     },
     "execution_count": 10,
     "metadata": {},
     "output_type": "execute_result"
    }
   ],
   "source": [
    "test_data_set"
   ]
  },
  {
   "cell_type": "code",
   "execution_count": 11,
   "id": "a130ff17",
   "metadata": {
    "tags": []
   },
   "outputs": [],
   "source": [
    "# Define batch sizes for training and testing\n",
    "batch_sizes = [64, 1024]\n",
    "\n",
    "# Create DataLoader objects for the training and test datasets with batch size 64.\n",
    "train_loader_small = DataLoader(train_data_set, batch_size=batch_sizes[0], shuffle=True)\n",
    "test_loader_small = DataLoader(test_data_set, batch_size=batch_sizes[0], shuffle=True)\n",
    "\n",
    "# Create DataLoader objects for the training and test datasets with batch size 1024.\n",
    "train_loader_large = DataLoader(train_data_set, batch_size=batch_sizes[1], shuffle=True)\n",
    "test_loader_large = DataLoader(test_data_set, batch_size=batch_sizes[1], shuffle=True)\n"
   ]
  },
  {
   "cell_type": "code",
   "execution_count": 13,
   "id": "cea0fb62",
   "metadata": {
    "tags": []
   },
   "outputs": [],
   "source": [
    "# Function to calculate the total number of trainable parameters in a given model\n",
    "def calculate_trainable_params(model):\n",
    "    total_trainable_params = sum(param.numel() for param in model.parameters() if param.requires_grad)\n",
    "    return total_trainable_params\n"
   ]
  },
  {
   "cell_type": "code",
   "execution_count": 14,
   "id": "727ad4b9",
   "metadata": {
    "tags": []
   },
   "outputs": [],
   "source": [
    "import torch.nn as nn\n",
    "import torch.nn.functional as F\n",
    "\n",
    "class SimpleFeedforwardNN(nn.Module):\n",
    "    def __init__(self, input_size=784, hidden_size1=20, hidden_size2=40, output_size=10):\n",
    "        super(SimpleFeedforwardNN, self).__init__()\n",
    "        # Defining the layers of the model\n",
    "        self.fc1 = nn.Linear(input_size, hidden_size1)    \n",
    "        self.fc2 = nn.Linear(hidden_size1, hidden_size2)\n",
    "        self.output_layer = nn.Linear(hidden_size2, output_size)\n",
    "        \n",
    "    def forward(self, x):\n",
    "        # Forward pass through the layers with ReLU activations\n",
    "        x = F.relu(self.fc1(x))  # ReLU after first layer\n",
    "        x = F.relu(self.fc2(x))  # ReLU after second layer\n",
    "        x = self.output_layer(x) # Output layer (no activation applied)\n",
    "        return x\n"
   ]
  },
  {
   "cell_type": "code",
   "execution_count": 16,
   "id": "a0efa2a2",
   "metadata": {
    "tags": []
   },
   "outputs": [],
   "source": [
    "model1 = SimpleFeedforwardNN()  # Instantiates  SimpleFeedforwardNN class\n"
   ]
  },
  {
   "cell_type": "code",
   "execution_count": 17,
   "id": "0fed4b6f",
   "metadata": {
    "tags": []
   },
   "outputs": [
    {
     "name": "stdout",
     "output_type": "stream",
     "text": [
      "Total number of trainable parameters in model1: 16950\n"
     ]
    }
   ],
   "source": [
    "model1params = calculate_trainable_params(model1)  \n",
    "print(f\"Total number of trainable parameters in model1: {model1params}\")\n"
   ]
  },
  {
   "cell_type": "code",
   "execution_count": 19,
   "id": "ea55a682",
   "metadata": {
    "tags": []
   },
   "outputs": [],
   "source": [
    "# Define the loss function for classification\n",
    "criterion = nn.CrossEntropyLoss()\n"
   ]
  },
  {
   "cell_type": "code",
   "execution_count": 22,
   "id": "b128ef94",
   "metadata": {
    "tags": []
   },
   "outputs": [],
   "source": [
    "# Initialize the optimizer for model1\n",
    "adam_optimizer = torch.optim.Adam(model1.parameters(), lr=0.001)\n"
   ]
  },
  {
   "cell_type": "code",
   "execution_count": 25,
   "id": "b24d9185",
   "metadata": {
    "tags": []
   },
   "outputs": [
    {
     "name": "stdout",
     "output_type": "stream",
     "text": [
      "Epoch 1/10, Train Loss: 0.0398, Train Correct: 58768, Test Loss: 0.2238, Test Correct: 9664, Train Accuracy: 97.95%, Test Accuracy: 96.64%\n",
      "Epoch 2/10, Train Loss: 0.0070, Train Correct: 58877, Test Loss: 0.0628, Test Correct: 9678, Train Accuracy: 98.13%, Test Accuracy: 96.78%\n",
      "Epoch 3/10, Train Loss: 0.0108, Train Correct: 58883, Test Loss: 0.0884, Test Correct: 9680, Train Accuracy: 98.14%, Test Accuracy: 96.80%\n",
      "Epoch 4/10, Train Loss: 0.0196, Train Correct: 58914, Test Loss: 0.4977, Test Correct: 9681, Train Accuracy: 98.19%, Test Accuracy: 96.81%\n",
      "Epoch 5/10, Train Loss: 0.1692, Train Correct: 58983, Test Loss: 0.3187, Test Correct: 9659, Train Accuracy: 98.31%, Test Accuracy: 96.59%\n",
      "Epoch 6/10, Train Loss: 0.0064, Train Correct: 59002, Test Loss: 0.1278, Test Correct: 9667, Train Accuracy: 98.34%, Test Accuracy: 96.67%\n",
      "Epoch 7/10, Train Loss: 0.0664, Train Correct: 59010, Test Loss: 0.1488, Test Correct: 9666, Train Accuracy: 98.35%, Test Accuracy: 96.66%\n",
      "Epoch 8/10, Train Loss: 0.0199, Train Correct: 59053, Test Loss: 0.0963, Test Correct: 9684, Train Accuracy: 98.42%, Test Accuracy: 96.84%\n",
      "Epoch 9/10, Train Loss: 0.0299, Train Correct: 59054, Test Loss: 0.1028, Test Correct: 9673, Train Accuracy: 98.42%, Test Accuracy: 96.73%\n",
      "Epoch 10/10, Train Loss: 0.0141, Train Correct: 59106, Test Loss: 0.1003, Test Correct: 9666, Train Accuracy: 98.51%, Test Accuracy: 96.66%\n"
     ]
    }
   ],
   "source": [
    "epochs = 10\n",
    "train_correct = []\n",
    "test_correct = []\n",
    "train_losses = []\n",
    "test_losses = []\n",
    "\n",
    "for epoch in range(epochs):\n",
    "    train_correct_count = 0\n",
    "    test_correct_count = 0\n",
    "\n",
    "    for batch_idx, (X_train, y_train) in enumerate(train_loader_small):\n",
    "        \n",
    "        y_pred = model1(X_train.view(-1, 784))\n",
    "        train_loss = criterion(y_pred, y_train)\n",
    "        \n",
    "        predicted_labels = torch.max(y_pred.data, 1)[1]\n",
    "        batch_correct = (predicted_labels == y_train).sum()\n",
    "        train_correct_count += batch_correct\n",
    "        \n",
    "        adam_optimizer.zero_grad()\n",
    "        train_loss.backward()\n",
    "        adam_optimizer.step()\n",
    "    \n",
    "    train_losses.append(train_loss.item())\n",
    "    train_correct.append(train_correct_count)\n",
    "    \n",
    "    with torch.no_grad():\n",
    "        for batch_idx, (X_test, y_test) in enumerate(test_loader_small):\n",
    "            \n",
    "            y_val = model1(X_test.view(-1, 784))\n",
    "            \n",
    "            predicted_labels = torch.max(y_val.data, 1)[1]\n",
    "            test_correct_count += (predicted_labels == y_test).sum()\n",
    "    \n",
    "    test_loss = criterion(y_val, y_test)\n",
    "    test_losses.append(test_loss.item())\n",
    "    test_correct.append(test_correct_count)\n",
    "\n",
    "    # Calculating accuracy.\n",
    "    train_accuracy = train_correct_count / len(train_data_set) * 100\n",
    "    test_accuracy = test_correct_count / len(test_data_set) * 100\n",
    "\n",
    "    # Print epoch details.\n",
    "    print(f'Epoch {epoch+1}/{epochs}, '\n",
    "          f'Train Loss: {train_loss.item():.4f}, Train Correct: {train_correct_count}, '\n",
    "          f'Test Loss: {test_loss.item():.4f}, Test Correct: {test_correct_count}, '\n",
    "          f'Train Accuracy: {train_accuracy:.2f}%, Test Accuracy: {test_accuracy:.2f}%')\n"
   ]
  },
  {
   "cell_type": "code",
   "execution_count": 26,
   "id": "d538ae21",
   "metadata": {
    "tags": []
   },
   "outputs": [],
   "source": [
    "train_loss_list=[]"
   ]
  },
  {
   "cell_type": "code",
   "execution_count": 31,
   "id": "8e97afc7",
   "metadata": {
    "tags": []
   },
   "outputs": [],
   "source": [
    "for i in range(len(train_losses)):\n",
    "    train_loss_list.append(train_losses[i])\n"
   ]
  },
  {
   "cell_type": "code",
   "execution_count": 32,
   "id": "4599e3eb",
   "metadata": {
    "tags": []
   },
   "outputs": [],
   "source": [
    "test_loss_list=[]"
   ]
  },
  {
   "cell_type": "code",
   "execution_count": 39,
   "id": "e3c95410",
   "metadata": {
    "tags": []
   },
   "outputs": [],
   "source": [
    "for i in range(len(test_losses)):\n",
    "     test_loss_list.append(test_losses[i])"
   ]
  },
  {
   "cell_type": "code",
   "execution_count": null,
   "id": "9f712d0a-d0d0-4f41-806a-03d81328cfbe",
   "metadata": {},
   "outputs": [],
   "source": []
  },
  {
   "cell_type": "code",
   "execution_count": 40,
   "id": "3c5eebb2",
   "metadata": {
    "tags": []
   },
   "outputs": [],
   "source": [
    "train_accuracy_list=[]"
   ]
  },
  {
   "cell_type": "code",
   "execution_count": 41,
   "id": "98eed812",
   "metadata": {
    "tags": []
   },
   "outputs": [],
   "source": [
    "for i in range(len(train_correct)):\n",
    "     train_accuracy_list.append(train_correct[i].detach().numpy()/600)"
   ]
  },
  {
   "cell_type": "code",
   "execution_count": 42,
   "id": "023798a2",
   "metadata": {
    "tags": []
   },
   "outputs": [],
   "source": [
    "test_accuracy_list=[]"
   ]
  },
  {
   "cell_type": "code",
   "execution_count": 44,
   "id": "40889da5",
   "metadata": {
    "tags": []
   },
   "outputs": [],
   "source": [
    "for i in range(len(test_correct)):\n",
    "     test_accuracy_list.append(test_correct[i].detach().numpy()/100)"
   ]
  },
  {
   "cell_type": "code",
   "execution_count": null,
   "id": "be901d5b",
   "metadata": {},
   "outputs": [],
   "source": []
  },
  {
   "cell_type": "code",
   "execution_count": null,
   "id": "e02bc461",
   "metadata": {},
   "outputs": [],
   "source": []
  },
  {
   "cell_type": "code",
   "execution_count": 22,
   "id": "547c18ec",
   "metadata": {},
   "outputs": [],
   "source": [
    "####################################------Moodel 2 with batch size 1024--------###################################"
   ]
  },
  {
   "cell_type": "code",
   "execution_count": 45,
   "id": "9bbf91f1",
   "metadata": {
    "tags": []
   },
   "outputs": [],
   "source": [
    "import torch.nn as nn\n",
    "import torch.nn.functional as F\n",
    "\n",
    "class FeedforwardNN(nn.Module):\n",
    "    def __init__(self, input_size=784, hidden_size1=20, hidden_size2=40, output_size=10):\n",
    "        super(FeedforwardNN, self).__init__()\n",
    "        self.fc1 = nn.Linear(input_size, hidden_size1)\n",
    "        self.fc2 = nn.Linear(hidden_size1, hidden_size2)\n",
    "        self.output_layer = nn.Linear(hidden_size2, output_size)\n",
    "        \n",
    "    def forward(self, x):\n",
    "        x = F.relu(self.fc1(x))\n",
    "        x = F.relu(self.fc2(x))\n",
    "        x = self.output_layer(x)\n",
    "        return x\n"
   ]
  },
  {
   "cell_type": "code",
   "execution_count": 46,
   "id": "0e7a1bad",
   "metadata": {
    "tags": []
   },
   "outputs": [],
   "source": [
    "model2 = FeedforwardNN()  # Instantiate the rephrased FeedforwardNN class\n"
   ]
  },
  {
   "cell_type": "code",
   "execution_count": 47,
   "id": "22b63d97",
   "metadata": {
    "tags": []
   },
   "outputs": [
    {
     "name": "stdout",
     "output_type": "stream",
     "text": [
      "Total number of trainable parameters in model2: 16950\n"
     ]
    }
   ],
   "source": [
    "model2params = calculate_trainable_params(model2)  # Using the rephrased calculate_trainable_params function\n",
    "print(f\"Total number of trainable parameters in model2: {model2params}\")\n"
   ]
  },
  {
   "cell_type": "code",
   "execution_count": 48,
   "id": "100d0618",
   "metadata": {
    "tags": []
   },
   "outputs": [
    {
     "data": {
      "text/plain": [
       "FeedforwardNN(\n",
       "  (fc1): Linear(in_features=784, out_features=20, bias=True)\n",
       "  (fc2): Linear(in_features=20, out_features=40, bias=True)\n",
       "  (output_layer): Linear(in_features=40, out_features=10, bias=True)\n",
       ")"
      ]
     },
     "execution_count": 48,
     "metadata": {},
     "output_type": "execute_result"
    }
   ],
   "source": [
    "model2"
   ]
  },
  {
   "cell_type": "code",
   "execution_count": 50,
   "id": "f7e7099c",
   "metadata": {
    "tags": []
   },
   "outputs": [],
   "source": [
    "\n",
    "criterion2 = nn.CrossEntropyLoss()\n"
   ]
  },
  {
   "cell_type": "code",
   "execution_count": 51,
   "id": "95fc183c",
   "metadata": {
    "tags": []
   },
   "outputs": [],
   "source": [
    "\n",
    "adam_optimizer2 = torch.optim.Adam(model2.parameters(), lr=0.001)\n"
   ]
  },
  {
   "cell_type": "code",
   "execution_count": 52,
   "id": "e0359e8b",
   "metadata": {
    "tags": []
   },
   "outputs": [
    {
     "name": "stdout",
     "output_type": "stream",
     "text": [
      "Epoch 1/10, Train Loss: 1.0077, Train Correct: 32222, Test Loss: 0.9007, Test Correct: 8093, Train Accuracy: 53.70%, Test Accuracy: 80.93%\n",
      "Epoch 2/10, Train Loss: 0.5082, Train Correct: 50554, Test Loss: 0.4836, Test Correct: 8825, Train Accuracy: 84.26%, Test Accuracy: 88.25%\n",
      "Epoch 3/10, Train Loss: 0.3311, Train Correct: 53349, Test Loss: 0.3536, Test Correct: 9030, Train Accuracy: 88.92%, Test Accuracy: 90.30%\n",
      "Epoch 4/10, Train Loss: 0.3108, Train Correct: 54286, Test Loss: 0.2857, Test Correct: 9126, Train Accuracy: 90.48%, Test Accuracy: 91.26%\n",
      "Epoch 5/10, Train Loss: 0.3455, Train Correct: 54806, Test Loss: 0.2977, Test Correct: 9193, Train Accuracy: 91.34%, Test Accuracy: 91.93%\n",
      "Epoch 6/10, Train Loss: 0.2875, Train Correct: 55248, Test Loss: 0.2638, Test Correct: 9264, Train Accuracy: 92.08%, Test Accuracy: 92.64%\n",
      "Epoch 7/10, Train Loss: 0.2472, Train Correct: 55493, Test Loss: 0.2398, Test Correct: 9272, Train Accuracy: 92.49%, Test Accuracy: 92.72%\n",
      "Epoch 8/10, Train Loss: 0.2883, Train Correct: 55735, Test Loss: 0.2497, Test Correct: 9326, Train Accuracy: 92.89%, Test Accuracy: 93.26%\n",
      "Epoch 9/10, Train Loss: 0.2295, Train Correct: 55941, Test Loss: 0.1939, Test Correct: 9349, Train Accuracy: 93.24%, Test Accuracy: 93.49%\n",
      "Epoch 10/10, Train Loss: 0.2653, Train Correct: 56193, Test Loss: 0.2093, Test Correct: 9399, Train Accuracy: 93.65%, Test Accuracy: 93.99%\n"
     ]
    }
   ],
   "source": [
    "epochs = 10\n",
    "train_losses2 = []\n",
    "test_losses2 = []\n",
    "train_correct2 = []\n",
    "test_correct2 = []\n",
    "\n",
    "for epoch in range(epochs):\n",
    "    train_correct_count = 0\n",
    "    test_correct_count = 0\n",
    "\n",
    "    for batch_idx, (X_train, y_train) in enumerate(train_loader_large):\n",
    "        \n",
    "        y_pred = model2(X_train.view(-1, 784))\n",
    "        train_loss = criterion2(y_pred, y_train)\n",
    "        \n",
    "        predicted_labels = torch.max(y_pred.data, 1)[1]\n",
    "        batch_correct = (predicted_labels == y_train).sum()\n",
    "        train_correct_count += batch_correct\n",
    "        \n",
    "        adam_optimizer2.zero_grad()\n",
    "        train_loss.backward()\n",
    "        adam_optimizer2.step()\n",
    "    \n",
    "    train_losses2.append(train_loss.item())\n",
    "    train_correct2.append(train_correct_count)\n",
    "    \n",
    "    with torch.no_grad():\n",
    "        for batch_idx, (X_test, y_test) in enumerate(test_loader_large):\n",
    "            \n",
    "            y_val = model2(X_test.view(-1, 784))\n",
    "            \n",
    "            predicted_labels = torch.max(y_val.data, 1)[1]\n",
    "            test_correct_count += (predicted_labels == y_test).sum()\n",
    "    \n",
    "    test_loss = criterion2(y_val, y_test)\n",
    "    test_losses2.append(test_loss.item())\n",
    "    test_correct2.append(test_correct_count)\n",
    "\n",
    "    train_accuracy = train_correct_count / len(train_data_set) * 100\n",
    "    test_accuracy = test_correct_count / len(test_data_set) * 100\n",
    "\n",
    "    print(f'Epoch {epoch+1}/{epochs}, '\n",
    "          f'Train Loss: {train_loss.item():.4f}, Train Correct: {train_correct_count}, '\n",
    "          f'Test Loss: {test_loss.item():.4f}, Test Correct: {test_correct_count}, '\n",
    "          f'Train Accuracy: {train_accuracy:.2f}%, Test Accuracy: {test_accuracy:.2f}%')\n"
   ]
  },
  {
   "cell_type": "code",
   "execution_count": 53,
   "id": "66ef772b",
   "metadata": {
    "tags": []
   },
   "outputs": [],
   "source": [
    "for i in range(len(train_losses2)):  # Update to train_losses2 if using the rephrased version\n",
    "    train_loss_list.append(train_losses2[i])\n"
   ]
  },
  {
   "cell_type": "code",
   "execution_count": 54,
   "id": "efdaee1e",
   "metadata": {
    "tags": []
   },
   "outputs": [],
   "source": [
    "for i in range(len(test_losses2)):  # Update to test_losses2 if using the rephrased version\n",
    "    test_loss_list.append(test_losses2[i])\n"
   ]
  },
  {
   "cell_type": "code",
   "execution_count": 55,
   "id": "fc359aa5",
   "metadata": {
    "tags": []
   },
   "outputs": [],
   "source": [
    "for i in range(len(train_correct2)):  # Update to train_correct2 if using the rephrased version\n",
    "    train_accuracy_list.append(train_correct2[i] / 600)\n"
   ]
  },
  {
   "cell_type": "code",
   "execution_count": 57,
   "id": "873ac6fa",
   "metadata": {
    "tags": []
   },
   "outputs": [],
   "source": [
    "for i in range(len(test_correct2)):\n",
    "     test_accuracy_list.append(test_correct2[i].detach().numpy()/100)"
   ]
  },
  {
   "cell_type": "code",
   "execution_count": null,
   "id": "dd4414e4",
   "metadata": {},
   "outputs": [],
   "source": []
  },
  {
   "cell_type": "code",
   "execution_count": 58,
   "id": "ae228804",
   "metadata": {
    "tags": []
   },
   "outputs": [],
   "source": [
    "import numpy as np\n",
    "\n",
    "\n",
    "alpa = np.linspace(-1.0, 2.0, num=20)\n",
    "thetaArr = []\n",
    "\n",
    "\n",
    "params1 = list(model1.parameters())\n",
    "params2 = list(model2.parameters())\n",
    "\n",
    "\n",
    "for i in range(len(alpa)):\n",
    "    interpolated_params = []\n",
    "    for param1, param2 in zip(params1, params2):\n",
    "        theta = (1 - alpa[i]) * param1 + alpa[i] * param2\n",
    "        interpolated_params.append(theta)\n",
    "    thetaArr.append(interpolated_params)\n"
   ]
  },
  {
   "cell_type": "code",
   "execution_count": 60,
   "id": "b6fa6c50",
   "metadata": {
    "tags": []
   },
   "outputs": [
    {
     "data": {
      "image/png": "[encoded data removed]",
      "text/plain": [
       "<Figure size 640x480 with 2 Axes>"
      ]
     },
     "metadata": {},
     "output_type": "display_data"
    }
   ],
   "source": [
    "import matplotlib.pyplot as plt\n",
    "\n",
    "fig, ax1 = plt.subplots()\n",
    "ax2 = ax1.twinx()\n",
    "\n",
    "ax1.plot(alpa, train_loss_list, 'b', label='Train Loss')\n",
    "ax1.plot(alpa, test_loss_list, 'b--', label='Test Loss')\n",
    "\n",
    "ax2.plot(alpa, train_accuracy_list, 'r', label='Train Accuracy')\n",
    "ax2.plot(alpa, test_accuracy_list, 'r--', label='Test Accuracy')\n",
    "\n",
    "ax1.set_title('Loss and Accuracy vs. Interpolation Ratio (lr=0.001)')\n",
    "ax1.set_xlabel('alpha (Interpolation Ratio)')\n",
    "ax1.set_ylabel('Loss', color='b')\n",
    "ax2.set_ylabel('Accuracy', color='r')\n",
    "\n",
    "ax1.legend(loc='upper left')\n",
    "ax2.legend(loc='upper right')\n",
    "\n",
    "plt.show()\n"
   ]
  },
  {
   "cell_type": "code",
   "execution_count": null,
   "id": "2dac0f36",
   "metadata": {},
   "outputs": [],
   "source": []
  },
  {
   "cell_type": "code",
   "execution_count": null,
   "id": "a60ad10e",
   "metadata": {},
   "outputs": [],
   "source": []
  },
  {
   "cell_type": "code",
   "execution_count": null,
   "id": "bf500c04",
   "metadata": {},
   "outputs": [],
   "source": []
  },
  {
   "cell_type": "code",
   "execution_count": 36,
   "id": "acab074d",
   "metadata": {},
   "outputs": [],
   "source": [
    "###########################---------Models with lr=0.01---------######################### "
   ]
  },
  {
   "cell_type": "code",
   "execution_count": 61,
   "id": "cee7466d",
   "metadata": {
    "tags": []
   },
   "outputs": [],
   "source": [
    "import torch.nn as nn\n",
    "import torch.nn.functional as F\n",
    "\n",
    "class FeedForwardModel(nn.Module):\n",
    "    def __init__(self, input_size=784, hidden_layer1=20, hidden_layer2=40, output_size=10):\n",
    "        super(FeedForwardModel, self).__init__()\n",
    "        self.fc1 = nn.Linear(input_size, hidden_layer1)\n",
    "        self.fc2 = nn.Linear(hidden_layer1, hidden_layer2)\n",
    "        self.output_layer = nn.Linear(hidden_layer2, output_size)\n",
    "        \n",
    "    def forward(self, x):\n",
    "        x = F.relu(self.fc1(x))\n",
    "        x = F.relu(self.fc2(x))\n",
    "        x = self.output_layer(x)\n",
    "        return x\n"
   ]
  },
  {
   "cell_type": "code",
   "execution_count": 62,
   "id": "8e2e052f",
   "metadata": {
    "tags": []
   },
   "outputs": [],
   "source": [
    "model_one = FeedForwardModel() "
   ]
  },
  {
   "cell_type": "code",
   "execution_count": 63,
   "id": "009581d4",
   "metadata": {
    "tags": []
   },
   "outputs": [],
   "source": [
    "criterion_one = nn.CrossEntropyLoss()\n"
   ]
  },
  {
   "cell_type": "code",
   "execution_count": 64,
   "id": "4455d466",
   "metadata": {
    "tags": []
   },
   "outputs": [],
   "source": [
    "adam_optimizer_one = torch.optim.Adam(model_one.parameters(), lr=0.01)\n"
   ]
  },
  {
   "cell_type": "code",
   "execution_count": 66,
   "id": "a29d0288-50c6-4500-b587-371101138851",
   "metadata": {
    "tags": []
   },
   "outputs": [
    {
     "name": "stdout",
     "output_type": "stream",
     "text": [
      "Downloading http://yann.lecun.com/exdb/mnist/train-images-idx3-ubyte.gz\n",
      "Failed to download (trying next):\n",
      "HTTP Error 403: Forbidden\n",
      "\n",
      "Downloading https://ossci-datasets.s3.amazonaws.com/mnist/train-images-idx3-ubyte.gz\n",
      "Downloading https://ossci-datasets.s3.amazonaws.com/mnist/train-images-idx3-ubyte.gz to ./data/MNIST/raw/train-images-idx3-ubyte.gz\n"
     ]
    },
    {
     "name": "stderr",
     "output_type": "stream",
     "text": [
      "100%|██████████| 9912422/9912422 [00:00<00:00, 45383822.40it/s]\n"
     ]
    },
    {
     "name": "stdout",
     "output_type": "stream",
     "text": [
      "Extracting ./data/MNIST/raw/train-images-idx3-ubyte.gz to ./data/MNIST/raw\n",
      "\n",
      "Downloading http://yann.lecun.com/exdb/mnist/train-labels-idx1-ubyte.gz\n",
      "Failed to download (trying next):\n",
      "HTTP Error 403: Forbidden\n",
      "\n",
      "Downloading https://ossci-datasets.s3.amazonaws.com/mnist/train-labels-idx1-ubyte.gz\n",
      "Downloading https://ossci-datasets.s3.amazonaws.com/mnist/train-labels-idx1-ubyte.gz to ./data/MNIST/raw/train-labels-idx1-ubyte.gz\n"
     ]
    },
    {
     "name": "stderr",
     "output_type": "stream",
     "text": [
      "100%|██████████| 28881/28881 [00:00<00:00, 4965798.71it/s]"
     ]
    },
    {
     "name": "stdout",
     "output_type": "stream",
     "text": [
      "Extracting ./data/MNIST/raw/train-labels-idx1-ubyte.gz to ./data/MNIST/raw\n",
      "\n",
      "Downloading http://yann.lecun.com/exdb/mnist/t10k-images-idx3-ubyte.gz\n"
     ]
    },
    {
     "name": "stderr",
     "output_type": "stream",
     "text": [
      "\n"
     ]
    },
    {
     "name": "stdout",
     "output_type": "stream",
     "text": [
      "Failed to download (trying next):\n",
      "HTTP Error 403: Forbidden\n",
      "\n",
      "Downloading https://ossci-datasets.s3.amazonaws.com/mnist/t10k-images-idx3-ubyte.gz\n",
      "Downloading https://ossci-datasets.s3.amazonaws.com/mnist/t10k-images-idx3-ubyte.gz to ./data/MNIST/raw/t10k-images-idx3-ubyte.gz\n"
     ]
    },
    {
     "name": "stderr",
     "output_type": "stream",
     "text": [
      "100%|██████████| 1648877/1648877 [00:00<00:00, 19242345.50it/s]"
     ]
    },
    {
     "name": "stdout",
     "output_type": "stream",
     "text": [
      "Extracting ./data/MNIST/raw/t10k-images-idx3-ubyte.gz to ./data/MNIST/raw\n"
     ]
    },
    {
     "name": "stderr",
     "output_type": "stream",
     "text": [
      "\n"
     ]
    },
    {
     "name": "stdout",
     "output_type": "stream",
     "text": [
      "\n",
      "Downloading http://yann.lecun.com/exdb/mnist/t10k-labels-idx1-ubyte.gz\n",
      "Failed to download (trying next):\n",
      "HTTP Error 403: Forbidden\n",
      "\n",
      "Downloading https://ossci-datasets.s3.amazonaws.com/mnist/t10k-labels-idx1-ubyte.gz\n",
      "Downloading https://ossci-datasets.s3.amazonaws.com/mnist/t10k-labels-idx1-ubyte.gz to ./data/MNIST/raw/t10k-labels-idx1-ubyte.gz\n"
     ]
    },
    {
     "name": "stderr",
     "output_type": "stream",
     "text": [
      "100%|██████████| 4542/4542 [00:00<00:00, 7574762.93it/s]"
     ]
    },
    {
     "name": "stdout",
     "output_type": "stream",
     "text": [
      "Extracting ./data/MNIST/raw/t10k-labels-idx1-ubyte.gz to ./data/MNIST/raw\n",
      "\n"
     ]
    },
    {
     "name": "stderr",
     "output_type": "stream",
     "text": [
      "\n"
     ]
    }
   ],
   "source": [
    "from torch.utils.data import DataLoader\n",
    "from torchvision import datasets, transforms\n",
    "\n",
    "\n",
    "transform = transforms.ToTensor()\n",
    "train_data_set = datasets.MNIST(root='./data', train=True, download=True, transform=transform)\n",
    "test_data_set = datasets.MNIST(root='./data', train=False, download=True, transform=transform)\n",
    "\n",
    "train_loader1 = DataLoader(train_data_set, batch_size=64, shuffle=True)\n",
    "test_loader1 = DataLoader(test_data_set, batch_size=64, shuffle=False)\n"
   ]
  },
  {
   "cell_type": "code",
   "execution_count": 67,
   "id": "316e2c56",
   "metadata": {
    "tags": []
   },
   "outputs": [
    {
     "name": "stdout",
     "output_type": "stream",
     "text": [
      "Epoch 1/10, Train Loss: 0.2648, Train Correct: 53991, Test Loss: 0.1231, Test Correct: 9300, Train Accuracy: 89.99%, Test Accuracy: 93.00%\n",
      "Epoch 2/10, Train Loss: 0.2099, Train Correct: 56112, Test Loss: 0.2798, Test Correct: 9415, Train Accuracy: 93.52%, Test Accuracy: 94.15%\n",
      "Epoch 3/10, Train Loss: 0.0365, Train Correct: 56514, Test Loss: 0.0415, Test Correct: 9377, Train Accuracy: 94.19%, Test Accuracy: 93.77%\n",
      "Epoch 4/10, Train Loss: 0.1746, Train Correct: 56674, Test Loss: 0.2380, Test Correct: 9444, Train Accuracy: 94.46%, Test Accuracy: 94.44%\n",
      "Epoch 5/10, Train Loss: 0.0812, Train Correct: 56894, Test Loss: 0.0710, Test Correct: 9354, Train Accuracy: 94.82%, Test Accuracy: 93.54%\n",
      "Epoch 6/10, Train Loss: 0.2556, Train Correct: 56992, Test Loss: 0.0043, Test Correct: 9477, Train Accuracy: 94.99%, Test Accuracy: 94.77%\n",
      "Epoch 7/10, Train Loss: 0.3216, Train Correct: 57080, Test Loss: 0.2415, Test Correct: 9450, Train Accuracy: 95.13%, Test Accuracy: 94.50%\n",
      "Epoch 8/10, Train Loss: 0.2351, Train Correct: 57164, Test Loss: 0.0303, Test Correct: 9438, Train Accuracy: 95.27%, Test Accuracy: 94.38%\n",
      "Epoch 9/10, Train Loss: 0.0632, Train Correct: 57192, Test Loss: 0.1752, Test Correct: 9383, Train Accuracy: 95.32%, Test Accuracy: 93.83%\n",
      "Epoch 10/10, Train Loss: 0.0562, Train Correct: 57269, Test Loss: 0.0205, Test Correct: 9462, Train Accuracy: 95.45%, Test Accuracy: 94.62%\n"
     ]
    }
   ],
   "source": [
    "epochs = 10\n",
    "train_correct_one = []\n",
    "test_correct_one = []\n",
    "train_losses_one = []\n",
    "test_losses_one = []\n",
    "\n",
    "for epoch in range(epochs):\n",
    "    train_correct_count = 0\n",
    "    test_correct_count = 0\n",
    "\n",
    "    for batch_idx, (X_train, y_train) in enumerate(train_loader1):\n",
    "        \n",
    "        y_pred = model_one(X_train.view(-1, 784))\n",
    "        train_loss = criterion_one(y_pred, y_train)\n",
    "        \n",
    "        predicted_labels = torch.max(y_pred.data, 1)[1]\n",
    "        batch_correct = (predicted_labels == y_train).sum()\n",
    "        train_correct_count += batch_correct\n",
    "        \n",
    "        adam_optimizer_one.zero_grad()\n",
    "        train_loss.backward()\n",
    "        adam_optimizer_one.step()\n",
    "    \n",
    "    train_losses_one.append(train_loss.item())\n",
    "    train_correct_one.append(train_correct_count)\n",
    "    \n",
    "    with torch.no_grad():\n",
    "        for batch_idx, (X_test, y_test) in enumerate(test_loader1):\n",
    "            \n",
    "            y_val = model_one(X_test.view(-1, 784))\n",
    "            \n",
    "            predicted_labels = torch.max(y_val.data, 1)[1]\n",
    "            test_correct_count += (predicted_labels == y_test).sum()\n",
    "    \n",
    "    test_loss = criterion_one(y_val, y_test)\n",
    "    test_losses_one.append(test_loss.item())\n",
    "    test_correct_one.append(test_correct_count)\n",
    "\n",
    "    train_accuracy = train_correct_count / len(train_data_set) * 100\n",
    "    test_accuracy = test_correct_count / len(test_data_set) * 100\n",
    "\n",
    "    print(f'Epoch {epoch+1}/{epochs}, '\n",
    "          f'Train Loss: {train_loss.item():.4f}, Train Correct: {train_correct_count}, '\n",
    "          f'Test Loss: {test_loss.item():.4f}, Test Correct: {test_correct_count}, '\n",
    "          f'Train Accuracy: {train_accuracy:.2f}%, Test Accuracy: {test_accuracy:.2f}%')\n"
   ]
  },
  {
   "cell_type": "code",
   "execution_count": 68,
   "id": "8a3540dd",
   "metadata": {
    "tags": []
   },
   "outputs": [],
   "source": [
    "train_loss_list=[]"
   ]
  },
  {
   "cell_type": "code",
   "execution_count": 70,
   "id": "cda4d33d",
   "metadata": {
    "tags": []
   },
   "outputs": [],
   "source": [
    "for i in range(len(train_losses_one)):  # Assuming you're using the rephrased version\n",
    "    train_loss_list.append(train_losses_one[i])\n"
   ]
  },
  {
   "cell_type": "code",
   "execution_count": 71,
   "id": "b497003a",
   "metadata": {
    "tags": []
   },
   "outputs": [],
   "source": [
    "test_loss_list=[]"
   ]
  },
  {
   "cell_type": "code",
   "execution_count": 73,
   "id": "3a3bc851",
   "metadata": {
    "tags": []
   },
   "outputs": [],
   "source": [
    "for i in range(len(test_losses_one)):\n",
    "     test_loss_list.append(test_losses_one[i])"
   ]
  },
  {
   "cell_type": "code",
   "execution_count": 74,
   "id": "951c3346",
   "metadata": {
    "tags": []
   },
   "outputs": [],
   "source": [
    "train_accuracy_list=[]"
   ]
  },
  {
   "cell_type": "code",
   "execution_count": 75,
   "id": "ef65005a",
   "metadata": {
    "tags": []
   },
   "outputs": [],
   "source": [
    "for i in range(len(train_correct_one)):\n",
    "     train_accuracy_list.append(train_correct_one[i])"
   ]
  },
  {
   "cell_type": "code",
   "execution_count": 76,
   "id": "9a7a9c7e",
   "metadata": {
    "tags": []
   },
   "outputs": [],
   "source": [
    "test_accuracy_list=[]"
   ]
  },
  {
   "cell_type": "code",
   "execution_count": 77,
   "id": "19b000ce",
   "metadata": {
    "tags": []
   },
   "outputs": [],
   "source": [
    "for i in range(len(test_correct_one)):  # Assuming you're using the rephrased version\n",
    "    test_accuracy_list.append(test_correct_one[i] / 100)  # Adjust the denominator to match your dataset\n"
   ]
  },
  {
   "cell_type": "code",
   "execution_count": null,
   "id": "bb21fd7c",
   "metadata": {},
   "outputs": [],
   "source": []
  },
  {
   "cell_type": "code",
   "execution_count": 50,
   "id": "f1ecec36",
   "metadata": {},
   "outputs": [],
   "source": [
    "#################-----Model 2 with lr=0.01---------######################"
   ]
  },
  {
   "cell_type": "code",
   "execution_count": 78,
   "id": "a781ae0a",
   "metadata": {
    "tags": []
   },
   "outputs": [],
   "source": [
    "import torch.nn as nn\n",
    "import torch.nn.functional as F\n",
    "\n",
    "class FeedForwardModelTwo(nn.Module):\n",
    "    def __init__(self, input_size=784, hidden_layer1=20, hidden_layer2=40, output_size=10):\n",
    "        super(FeedForwardModelTwo, self).__init__()\n",
    "        self.fc1 = nn.Linear(input_size, hidden_layer1)\n",
    "        self.fc2 = nn.Linear(hidden_layer1, hidden_layer2)\n",
    "        self.output_layer = nn.Linear(hidden_layer2, output_size)\n",
    "        \n",
    "    def forward(self, x):\n",
    "        x = F.relu(self.fc1(x))\n",
    "        x = F.relu(self.fc2(x))\n",
    "        x = self.output_layer(x)\n",
    "        return x\n"
   ]
  },
  {
   "cell_type": "code",
   "execution_count": 79,
   "id": "d4e5fd6d",
   "metadata": {
    "tags": []
   },
   "outputs": [],
   "source": [
    "model_two = FeedForwardModelTwo()  \n"
   ]
  },
  {
   "cell_type": "code",
   "execution_count": 80,
   "id": "172e8f84",
   "metadata": {
    "tags": []
   },
   "outputs": [],
   "source": [
    "criterion_two = nn.CrossEntropyLoss()\n"
   ]
  },
  {
   "cell_type": "code",
   "execution_count": 81,
   "id": "b2199155",
   "metadata": {
    "tags": []
   },
   "outputs": [],
   "source": [
    "adam_optimizer_two = torch.optim.Adam(model_two.parameters(), lr=0.01)\n"
   ]
  },
  {
   "cell_type": "code",
   "execution_count": 84,
   "id": "7eed0310-10e5-4abb-a078-89c20b66e606",
   "metadata": {
    "tags": []
   },
   "outputs": [],
   "source": [
    "from torch.utils.data import DataLoader\n",
    "from torchvision import datasets, transforms\n",
    "\n",
    "# Define transformation to convert images to PyTorch tensors\n",
    "transform = transforms.ToTensor()\n",
    "\n",
    "# Load the MNIST dataset for training and testing\n",
    "train_data_set2 = datasets.MNIST(root='./data', train=True, download=True, transform=transform)\n",
    "test_data_set2 = datasets.MNIST(root='./data', train=False, download=True, transform=transform)\n",
    "\n",
    "# Create DataLoader for training and test datasets\n",
    "train_loader2 = DataLoader(train_data_set2, batch_size=64, shuffle=True)\n",
    "test_loader2 = DataLoader(test_data_set2, batch_size=64, shuffle=False)\n"
   ]
  },
  {
   "cell_type": "code",
   "execution_count": 85,
   "id": "83d9aabb",
   "metadata": {
    "tags": []
   },
   "outputs": [
    {
     "name": "stdout",
     "output_type": "stream",
     "text": [
      "Epoch 1/10, Train Loss: 0.1718, Train Correct: 54493, Test Loss: 0.2297, Test Correct: 9256, Train Accuracy: 90.82%, Test Accuracy: 92.56%\n",
      "Epoch 2/10, Train Loss: 0.0844, Train Correct: 56558, Test Loss: 0.2444, Test Correct: 9400, Train Accuracy: 94.26%, Test Accuracy: 94.00%\n",
      "Epoch 3/10, Train Loss: 0.1904, Train Correct: 57049, Test Loss: 0.0071, Test Correct: 9525, Train Accuracy: 95.08%, Test Accuracy: 95.25%\n",
      "Epoch 4/10, Train Loss: 0.1073, Train Correct: 57235, Test Loss: 0.0174, Test Correct: 9514, Train Accuracy: 95.39%, Test Accuracy: 95.14%\n",
      "Epoch 5/10, Train Loss: 0.0559, Train Correct: 57416, Test Loss: 0.0293, Test Correct: 9518, Train Accuracy: 95.69%, Test Accuracy: 95.18%\n",
      "Epoch 6/10, Train Loss: 0.3567, Train Correct: 57500, Test Loss: 0.0377, Test Correct: 9565, Train Accuracy: 95.83%, Test Accuracy: 95.65%\n",
      "Epoch 7/10, Train Loss: 0.3764, Train Correct: 57521, Test Loss: 0.0030, Test Correct: 9541, Train Accuracy: 95.87%, Test Accuracy: 95.41%\n",
      "Epoch 8/10, Train Loss: 0.0042, Train Correct: 57623, Test Loss: 0.0169, Test Correct: 9528, Train Accuracy: 96.04%, Test Accuracy: 95.28%\n",
      "Epoch 9/10, Train Loss: 0.1454, Train Correct: 57722, Test Loss: 0.0165, Test Correct: 9502, Train Accuracy: 96.20%, Test Accuracy: 95.02%\n",
      "Epoch 10/10, Train Loss: 0.0559, Train Correct: 57749, Test Loss: 0.0060, Test Correct: 9515, Train Accuracy: 96.25%, Test Accuracy: 95.15%\n"
     ]
    }
   ],
   "source": [
    "epochs = 10\n",
    "train_correct_two = []\n",
    "test_correct_two = []\n",
    "train_losses_two = []\n",
    "test_losses_two = []\n",
    "\n",
    "for epoch in range(epochs):\n",
    "    train_correct_count = 0\n",
    "    test_correct_count = 0\n",
    "\n",
    "    for batch_idx, (X_train, y_train) in enumerate(train_loader2):\n",
    "        \n",
    "        y_pred = model_two(X_train.view(-1, 784))\n",
    "        train_loss = criterion_two(y_pred, y_train)\n",
    "        \n",
    "        predicted_labels = torch.max(y_pred.data, 1)[1]\n",
    "        batch_correct = (predicted_labels == y_train).sum()\n",
    "        train_correct_count += batch_correct\n",
    "        \n",
    "        adam_optimizer_two.zero_grad()\n",
    "        train_loss.backward()\n",
    "        adam_optimizer_two.step()\n",
    "    \n",
    "    train_losses_two.append(train_loss.item())  # Save the training loss for this epoch\n",
    "    train_correct_two.append(train_correct_count)  # Save the correct predictions for this epoch\n",
    "    \n",
    "    with torch.no_grad():\n",
    "        for batch_idx, (X_test, y_test) in enumerate(test_loader2):\n",
    "            \n",
    "            y_val = model_two(X_test.view(-1, 784))\n",
    "            \n",
    "            predicted_labels = torch.max(y_val.data, 1)[1]\n",
    "            test_correct_count += (predicted_labels == y_test).sum()\n",
    "    \n",
    "    test_loss = criterion_two(y_val, y_test)\n",
    "    test_losses_two.append(test_loss.item())  # Save the test loss for this epoch\n",
    "    test_correct_two.append(test_correct_count)  # Save the correct predictions for this epoch\n",
    "\n",
    "    train_accuracy = train_correct_count / len(train_data_set) * 100\n",
    "    test_accuracy = test_correct_count / len(test_data_set) * 100\n",
    "\n",
    "    print(f'Epoch {epoch+1}/{epochs}, '\n",
    "          f'Train Loss: {train_loss.item():.4f}, Train Correct: {train_correct_count}, '\n",
    "          f'Test Loss: {test_loss.item():.4f}, Test Correct: {test_correct_count}, '\n",
    "          f'Train Accuracy: {train_accuracy:.2f}%, Test Accuracy: {test_accuracy:.2f}%')\n"
   ]
  },
  {
   "cell_type": "code",
   "execution_count": 100,
   "id": "d1cd2d5d",
   "metadata": {
    "tags": []
   },
   "outputs": [],
   "source": [
    "for i in range(len(train_losses_two)):  \n",
    "    train_loss_list.append(train_losses_two[i])\n"
   ]
  },
  {
   "cell_type": "code",
   "execution_count": 101,
   "id": "32797119",
   "metadata": {
    "tags": []
   },
   "outputs": [],
   "source": [
    "for i in range(len(test_losses_two)):  \n",
    "    test_loss_list.append(test_losses_two[i])\n"
   ]
  },
  {
   "cell_type": "code",
   "execution_count": 102,
   "id": "346fa80e",
   "metadata": {
    "tags": []
   },
   "outputs": [],
   "source": [
    "for i in range(len(train_correct_two)):  \n",
    "    train_accuracy_list.append(train_correct_two[i] ) \n"
   ]
  },
  {
   "cell_type": "code",
   "execution_count": 103,
   "id": "0e7af287",
   "metadata": {
    "tags": []
   },
   "outputs": [],
   "source": [
    "for i in range(len(test_correct_two)):  \n",
    "    test_accuracy_list.append(test_correct_two[i] )  "
   ]
  },
  {
   "cell_type": "code",
   "execution_count": 104,
   "id": "2f219909",
   "metadata": {
    "tags": []
   },
   "outputs": [
    {
     "data": {
      "image/png": "[encoded data removed]",
      "text/plain": [
       "<Figure size 640x480 with 2 Axes>"
      ]
     },
     "metadata": {},
     "output_type": "display_data"
    }
   ],
   "source": [
    "# Rescale 'alpa' to match the length of your lists (10 elements)\n",
    "alpa_rescaled = np.linspace(-1.0, 2.0, num=len(train_loss_list))\n",
    "\n",
    "fig, ax1 = plt.subplots()\n",
    "\n",
    "ax2 = ax1.twinx()\n",
    "\n",
    "ax1.plot(alpa_rescaled, train_loss_list, 'b', label='Train Loss')\n",
    "ax1.plot(alpa_rescaled, test_loss_list, 'b--', label='Test Loss')\n",
    "\n",
    "ax2.plot(alpa_rescaled, train_accuracy_list, 'r', label='Train Accuracy')\n",
    "ax2.plot(alpa_rescaled, test_accuracy_list, 'r--', label='Test Accuracy')\n",
    "\n",
    "ax1.set_title('Loss and Accuracy vs. Interpolation Ratio lr=0.001')\n",
    "ax1.set_xlabel('alpha')\n",
    "ax1.set_ylabel('Loss', color='b')\n",
    "ax2.set_ylabel('Accuracy', color='r')\n",
    "\n",
    "ax1.legend(loc='upper left')\n",
    "ax2.legend(loc='upper right')\n",
    "\n",
    "plt.show()\n"
   ]
  },
  {
   "cell_type": "code",
   "execution_count": null,
   "id": "8666c679",
   "metadata": {},
   "outputs": [],
   "source": []
  }
 ],
 "metadata": {
  "kernelspec": {
   "display_name": "Python 3 (ipykernel)",
   "language": "python",
   "name": "python3"
  },
  "language_info": {
   "codemirror_mode": {
    "name": "ipython",
    "version": 3
   },
   "file_extension": ".py",
   "mimetype": "text/x-python",
   "name": "python",
   "nbconvert_exporter": "python",
   "pygments_lexer": "ipython3",
   "version": "3.11.5"
  }
 },
 "nbformat": 4,
 "nbformat_minor": 5
}
