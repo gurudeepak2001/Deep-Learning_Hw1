{
 "cells": [
  {
   "cell_type": "code",
   "execution_count": 1,
   "id": "5c832ae0",
   "metadata": {
    "tags": []
   },
   "outputs": [],
   "source": [
    "import torch\n",
    "import torch.nn as nn\n",
    "import torch.nn.functional as F\n",
    "from torch.utils.data import DataLoader\n",
    "from torchvision import datasets, transforms\n",
    "from torchvision.utils import make_grid\n",
    "\n",
    "import numpy as np\n",
    "import pandas as pd\n",
    "import matplotlib.pyplot as plt\n",
    "# Enable inline plotting for Jupyter note.\n",
    "%matplotlib inline"
   ]
  },
  {
   "cell_type": "code",
   "execution_count": 2,
   "id": "a6ad7301",
   "metadata": {
    "tags": []
   },
   "outputs": [],
   "source": [
    "transform = transforms.ToTensor()"
   ]
  },
  {
   "cell_type": "code",
   "execution_count": 3,
   "id": "d5944b62",
   "metadata": {
    "tags": []
   },
   "outputs": [],
   "source": [
    "train_data_set = datasets.MNIST(root='Home Work', train=True, download=True, transform=transform)\n",
    "test_data_set = datasets.MNIST(root='Home Work', train=False, download=True, transform=transform)"
   ]
  },
  {
   "cell_type": "code",
   "execution_count": 4,
   "id": "de6bcc66",
   "metadata": {
    "tags": []
   },
   "outputs": [
    {
     "data": {
      "text/plain": [
       "Dataset MNIST\n",
       "    Number of datapoints: 60000\n",
       "    Root location: Home Work\n",
       "    Split: Train\n",
       "    StandardTransform\n",
       "Transform: ToTensor()"
      ]
     },
     "execution_count": 4,
     "metadata": {},
     "output_type": "execute_result"
    }
   ],
   "source": [
    "train_data_set"
   ]
  },
  {
   "cell_type": "code",
   "execution_count": 5,
   "id": "d9abfc1d",
   "metadata": {
    "tags": []
   },
   "outputs": [
    {
     "data": {
      "text/plain": [
       "Dataset MNIST\n",
       "    Number of datapoints: 10000\n",
       "    Root location: Home Work\n",
       "    Split: Test\n",
       "    StandardTransform\n",
       "Transform: ToTensor()"
      ]
     },
     "execution_count": 5,
     "metadata": {},
     "output_type": "execute_result"
    }
   ],
   "source": [
    "test_data_set"
   ]
  },
  {
   "cell_type": "code",
   "execution_count": 6,
   "id": "3ff2acb4",
   "metadata": {
    "tags": []
   },
   "outputs": [],
   "source": [
    "batch_sizes = [5, 25, 125, 500, 1000]\n",
    "train_loader1 = DataLoader(train_data_set, batch_size=batch_sizes[0], shuffle=True)\n",
    "test_loader1 = DataLoader(test_data_set, batch_size=batch_sizes[0], shuffle=True)\n",
    "\n",
    "train_loader2 = DataLoader(train_data_set, batch_size=batch_sizes[1], shuffle=True)\n",
    "test_loader2 = DataLoader(test_data_set, batch_size=batch_sizes[1], shuffle=True)\n",
    "\n",
    "train_loader3 = DataLoader(train_data_set, batch_size=batch_sizes[2], shuffle=True)\n",
    "test_loader3 = DataLoader(test_data_set, batch_size=batch_sizes[2], shuffle=True)\n",
    "\n",
    "train_loader4 = DataLoader(train_data_set, batch_size=batch_sizes[3], shuffle=True)\n",
    "test_loader4 = DataLoader(test_data_set, batch_size=batch_sizes[3], shuffle=True)\n",
    "\n",
    "train_loader5 = DataLoader(train_data_set, batch_size=batch_sizes[4], shuffle=True)\n",
    "test_loader5 = DataLoader(test_data_set, batch_size=batch_sizes[4], shuffle=True)\n",
    "\n"
   ]
  },
  {
   "cell_type": "code",
   "execution_count": 7,
   "id": "930f6914",
   "metadata": {
    "tags": []
   },
   "outputs": [],
   "source": [
    "def calculate_params(model):\n",
    "    total_params = sum(param.numel() for param in model.parameters() if param.requires_grad)\n",
    "    return total_params\n"
   ]
  },
  {
   "cell_type": "code",
   "execution_count": 8,
   "id": "8fe34cee",
   "metadata": {
    "tags": []
   },
   "outputs": [],
   "source": [
    "import torch.nn as nn\n",
    "import torch.nn.functional as F\n",
    "\n",
    "class FeedForwardModel1(nn.Module):\n",
    "    def __init__(self, input_size=784, hidden_layer1=20, hidden_layer2=20, output_size=10):\n",
    "        super(FeedForwardModel1, self).__init__()\n",
    "        self.fc1 = nn.Linear(input_size, hidden_layer1)\n",
    "        self.fc2 = nn.Linear(hidden_layer1, hidden_layer2)\n",
    "        self.output_layer = nn.Linear(hidden_layer2, output_size)\n",
    "        \n",
    "    def forward(self, x):\n",
    "        x = F.relu(self.fc1(x))\n",
    "        x = F.relu(self.fc2(x))\n",
    "        x = self.output_layer(x)\n",
    "        return x\n"
   ]
  },
  {
   "cell_type": "code",
   "execution_count": 9,
   "id": "143f1096",
   "metadata": {
    "tags": []
   },
   "outputs": [],
   "source": [
    "model1 = FeedForwardModel1()  \n"
   ]
  },
  {
   "cell_type": "code",
   "execution_count": 10,
   "id": "58f6031f",
   "metadata": {
    "tags": []
   },
   "outputs": [
    {
     "data": {
      "text/plain": [
       "FeedForwardModel1(\n",
       "  (fc1): Linear(in_features=784, out_features=20, bias=True)\n",
       "  (fc2): Linear(in_features=20, out_features=20, bias=True)\n",
       "  (output_layer): Linear(in_features=20, out_features=10, bias=True)\n",
       ")"
      ]
     },
     "execution_count": 10,
     "metadata": {},
     "output_type": "execute_result"
    }
   ],
   "source": [
    "model1"
   ]
  },
  {
   "cell_type": "code",
   "execution_count": 11,
   "id": "bb4e6540",
   "metadata": {
    "tags": []
   },
   "outputs": [
    {
     "name": "stdout",
     "output_type": "stream",
     "text": [
      "Total parameters in Model1: 16330\n"
     ]
    }
   ],
   "source": [
    "model1params = calculate_params(model1)  \n",
    "print(f\"Total parameters in Model1: {model1params}\")\n"
   ]
  },
  {
   "cell_type": "code",
   "execution_count": 12,
   "id": "714f2955",
   "metadata": {
    "tags": []
   },
   "outputs": [],
   "source": [
    "loss_function_one = nn.CrossEntropyLoss()  # Define the loss function\n"
   ]
  },
  {
   "cell_type": "code",
   "execution_count": 13,
   "id": "a8bfa37b",
   "metadata": {
    "tags": []
   },
   "outputs": [],
   "source": [
    "optimizer_one = torch.optim.Adam(model1.parameters(), lr=0.001)"
   ]
  },
  {
   "cell_type": "code",
   "execution_count": null,
   "id": "6834d77f-0144-40df-a2cb-7ea3bc0634c7",
   "metadata": {
    "tags": []
   },
   "outputs": [],
   "source": []
  },
  {
   "cell_type": "code",
   "execution_count": null,
   "id": "2097db57-95ad-4fc2-9985-5e0d76981ac9",
   "metadata": {
    "tags": []
   },
   "outputs": [],
   "source": []
  },
  {
   "cell_type": "code",
   "execution_count": 14,
   "id": "6c211d6c",
   "metadata": {
    "tags": []
   },
   "outputs": [
    {
     "name": "stdout",
     "output_type": "stream",
     "text": [
      "Epoch 1/10\n",
      "Train Loss: 0.3582, Train Correct: 53721, Test Loss: 0.2124, Test Correct: 9363, Train Accuracy: 89.53%, Test Accuracy: 93.63%\n",
      "Epoch 2/10\n",
      "Train Loss: 0.1997, Train Correct: 56478, Test Loss: 0.1597, Test Correct: 9528, Train Accuracy: 94.13%, Test Accuracy: 95.28%\n",
      "Epoch 3/10\n",
      "Train Loss: 0.1625, Train Correct: 57073, Test Loss: 0.1459, Test Correct: 9558, Train Accuracy: 95.12%, Test Accuracy: 95.58%\n",
      "Epoch 4/10\n",
      "Train Loss: 0.1392, Train Correct: 57450, Test Loss: 0.1476, Test Correct: 9557, Train Accuracy: 95.75%, Test Accuracy: 95.57%\n",
      "Epoch 5/10\n",
      "Train Loss: 0.1244, Train Correct: 57775, Test Loss: 0.1581, Test Correct: 9541, Train Accuracy: 96.29%, Test Accuracy: 95.41%\n",
      "Epoch 6/10\n",
      "Train Loss: 0.1177, Train Correct: 57839, Test Loss: 0.1326, Test Correct: 9610, Train Accuracy: 96.40%, Test Accuracy: 96.10%\n",
      "Epoch 7/10\n",
      "Train Loss: 0.1100, Train Correct: 58030, Test Loss: 0.1229, Test Correct: 9651, Train Accuracy: 96.72%, Test Accuracy: 96.51%\n",
      "Epoch 8/10\n",
      "Train Loss: 0.1035, Train Correct: 58077, Test Loss: 0.1509, Test Correct: 9567, Train Accuracy: 96.79%, Test Accuracy: 95.67%\n",
      "Epoch 9/10\n",
      "Train Loss: 0.0996, Train Correct: 58152, Test Loss: 0.1302, Test Correct: 9614, Train Accuracy: 96.92%, Test Accuracy: 96.14%\n",
      "Epoch 10/10\n",
      "Train Loss: 0.0952, Train Correct: 58219, Test Loss: 0.1264, Test Correct: 9629, Train Accuracy: 97.03%, Test Accuracy: 96.29%\n"
     ]
    }
   ],
   "source": [
    "epochs = 10\n",
    "train_correct_one = []\n",
    "test_correct_one = []\n",
    "\n",
    "for epoch in range(epochs):\n",
    "    print(f'Epoch {epoch+1}/{epochs}')  # Print the current epoch count\n",
    "\n",
    "    train_corr = 0\n",
    "    test_corr = 0\n",
    "    running_loss = 0.0\n",
    "\n",
    "    for batch_idx, (X_train, y_train) in enumerate(train_loader1):\n",
    "        y_pred = model1(X_train.view(X_train.size(0), -1))  # Flatten the input\n",
    "        loss = loss_function_one(y_pred, y_train)\n",
    "        running_loss += loss.item()\n",
    "\n",
    "        predicted = torch.max(y_pred.data, 1)[1]\n",
    "        batch_corr = (predicted == y_train).sum()\n",
    "        train_corr += batch_corr\n",
    "\n",
    "        optimizer_one.zero_grad()\n",
    "        loss.backward()\n",
    "        optimizer_one.step()\n",
    "\n",
    "    epoch_loss = running_loss / len(train_loader1)\n",
    "    train_losses_one = epoch_loss\n",
    "    train_correct_one.append(train_corr)\n",
    "\n",
    "    running_loss_test = 0.0\n",
    "\n",
    "    with torch.no_grad():\n",
    "        for batch_idx, (X_test, y_test) in enumerate(test_loader1):\n",
    "            y_val = model1(X_test.view(X_test.size(0), -1))  # Flatten the input\n",
    "            loss = loss_function_one(y_val, y_test)\n",
    "            running_loss_test += loss.item()\n",
    "\n",
    "            predicted = torch.max(y_val.data, 1)[1]\n",
    "            test_corr += (predicted == y_test).sum()\n",
    "\n",
    "    test_loss = running_loss_test / len(test_loader1)\n",
    "    test_losses_one = test_loss\n",
    "    test_correct_one.append(test_corr)\n",
    "\n",
    "    train_accuracy = train_corr / len(train_data_set) * 100\n",
    "    test_accuracy = test_corr / len(test_data_set) * 100\n",
    "    print(f'Train Loss: {epoch_loss:.4f}, Train Correct: {train_corr}, '\n",
    "          f'Test Loss: {test_loss:.4f}, Test Correct: {test_corr}, '\n",
    "          f'Train Accuracy: {train_accuracy:.2f}%, Test Accuracy: {test_accuracy:.2f}%')\n"
   ]
  },
  {
   "cell_type": "code",
   "execution_count": 16,
   "id": "5cf1bbbb",
   "metadata": {
    "tags": []
   },
   "outputs": [],
   "source": [
    "train_losses_mod1= train_losses_one\n",
    "\n"
   ]
  },
  {
   "cell_type": "code",
   "execution_count": 17,
   "id": "c693794a",
   "metadata": {
    "tags": []
   },
   "outputs": [
    {
     "name": "stdout",
     "output_type": "stream",
     "text": [
      "tensor(97.0317)\n"
     ]
    }
   ],
   "source": [
    " for t in train_correct_one:\n",
    "    trn_accu_mod1=t/600\n",
    "    \n",
    "print(trn_accu_mod1)"
   ]
  },
  {
   "cell_type": "code",
   "execution_count": 18,
   "id": "6df8deb9",
   "metadata": {
    "tags": []
   },
   "outputs": [
    {
     "name": "stdout",
     "output_type": "stream",
     "text": [
      "tensor(96.2900)\n"
     ]
    }
   ],
   "source": [
    " for t in test_correct_one:\n",
    "    tst_accu_mod1=t/100\n",
    "    \n",
    "print(tst_accu_mod1)"
   ]
  },
  {
   "cell_type": "code",
   "execution_count": 19,
   "id": "780e0663",
   "metadata": {
    "tags": []
   },
   "outputs": [],
   "source": [
    "# Calculate sensitivity of every model\n",
    "sensitivity_list = []\n",
    "\n",
    "# Model 1\n",
    "# Get gradient norm (From slides)\n",
    "grad_all = 0.0\n",
    "frob_norm_all = 0\n",
    "counter = 0\n",
    "for p in model1.parameters():\n",
    "    grad = 0.0\n",
    "    if p.grad is not None:\n",
    "        grad = p.grad\n",
    "        # Calculate Frobenius norm of gradients\n",
    "        frob_norm = torch.linalg.norm(grad).numpy()\n",
    "        frob_norm_all += frob_norm\n",
    "        counter += 1\n",
    "sensitivity_list.append(frob_norm_all / counter)\n"
   ]
  },
  {
   "cell_type": "code",
   "execution_count": null,
   "id": "81b5144b",
   "metadata": {},
   "outputs": [],
   "source": []
  },
  {
   "cell_type": "code",
   "execution_count": null,
   "id": "1536992c",
   "metadata": {},
   "outputs": [],
   "source": []
  },
  {
   "cell_type": "code",
   "execution_count": 61,
   "id": "b15b371f",
   "metadata": {},
   "outputs": [],
   "source": [
    "#######################################----------Model-2------------#####################################################################"
   ]
  },
  {
   "cell_type": "code",
   "execution_count": 20,
   "id": "690e0fdb",
   "metadata": {
    "tags": []
   },
   "outputs": [],
   "source": [
    "import torch.nn as nn\n",
    "import torch.nn.functional as F\n",
    "\n",
    "class FeedForwardModel2(nn.Module):\n",
    "    def __init__(self, input_size=784, hidden_layer1=20, hidden_layer2=20, output_size=10):\n",
    "        super(FeedForwardModel2, self).__init__()\n",
    "        self.fc1 = nn.Linear(input_size, hidden_layer1)\n",
    "        self.fc2 = nn.Linear(hidden_layer1, hidden_layer2)\n",
    "        self.output_layer = nn.Linear(hidden_layer2, output_size)\n",
    "        \n",
    "    def forward(self, x):\n",
    "        x = F.relu(self.fc1(x))\n",
    "        x = F.relu(self.fc2(x))\n",
    "        x = self.output_layer(x)\n",
    "        return x\n"
   ]
  },
  {
   "cell_type": "code",
   "execution_count": 21,
   "id": "4af3e8e8",
   "metadata": {
    "tags": []
   },
   "outputs": [],
   "source": [
    "model2=FeedForwardModel2()"
   ]
  },
  {
   "cell_type": "code",
   "execution_count": 22,
   "id": "42f88175",
   "metadata": {
    "tags": []
   },
   "outputs": [
    {
     "data": {
      "text/plain": [
       "FeedForwardModel2(\n",
       "  (fc1): Linear(in_features=784, out_features=20, bias=True)\n",
       "  (fc2): Linear(in_features=20, out_features=20, bias=True)\n",
       "  (output_layer): Linear(in_features=20, out_features=10, bias=True)\n",
       ")"
      ]
     },
     "execution_count": 22,
     "metadata": {},
     "output_type": "execute_result"
    }
   ],
   "source": [
    "model2"
   ]
  },
  {
   "cell_type": "code",
   "execution_count": 23,
   "id": "9ebc995c",
   "metadata": {
    "tags": []
   },
   "outputs": [
    {
     "name": "stdout",
     "output_type": "stream",
     "text": [
      "Total parameters in Model2: 16330\n"
     ]
    }
   ],
   "source": [
    "model2params = calculate_params(model2)  # Use the rephrased calculate_params function\n",
    "print(f\"Total parameters in Model2: {model2params}\")\n"
   ]
  },
  {
   "cell_type": "code",
   "execution_count": 24,
   "id": "82205127",
   "metadata": {
    "tags": []
   },
   "outputs": [],
   "source": [
    "loss_function_two = nn.CrossEntropyLoss()\n"
   ]
  },
  {
   "cell_type": "code",
   "execution_count": 28,
   "id": "a1953a41",
   "metadata": {
    "tags": []
   },
   "outputs": [],
   "source": [
    "optimizer_two = torch.optim.Adam(model2.parameters(), lr=0.001)"
   ]
  },
  {
   "cell_type": "code",
   "execution_count": 29,
   "id": "d728147c",
   "metadata": {
    "tags": []
   },
   "outputs": [
    {
     "name": "stdout",
     "output_type": "stream",
     "text": [
      "Epoch 1/10\n",
      "Train Accuracy: 87.60%, Test Accuracy: 92.65%\n",
      "Epoch 2/10\n",
      "Train Accuracy: 93.47%, Test Accuracy: 93.49%\n",
      "Epoch 3/10\n",
      "Train Accuracy: 94.60%, Test Accuracy: 94.95%\n",
      "Epoch 4/10\n",
      "Train Accuracy: 95.32%, Test Accuracy: 95.35%\n",
      "Epoch 5/10\n",
      "Train Accuracy: 95.80%, Test Accuracy: 95.77%\n",
      "Epoch 6/10\n",
      "Train Accuracy: 96.22%, Test Accuracy: 95.79%\n",
      "Epoch 7/10\n",
      "Train Accuracy: 96.47%, Test Accuracy: 95.45%\n",
      "Epoch 8/10\n",
      "Train Accuracy: 96.72%, Test Accuracy: 96.03%\n",
      "Epoch 9/10\n",
      "Train Accuracy: 96.83%, Test Accuracy: 96.07%\n",
      "Epoch 10/10\n",
      "Train Accuracy: 97.03%, Test Accuracy: 96.27%\n"
     ]
    }
   ],
   "source": [
    "epochs = 10\n",
    "train_correct_two = []\n",
    "test_correct_two = []\n",
    "\n",
    "for epoch in range(epochs):\n",
    "    print(f'Epoch {epoch+1}/{epochs}')  # Print the current epoch count\n",
    "    train_corr = 0\n",
    "    test_corr = 0\n",
    "\n",
    "    for batch_idx, (X_train, y_train) in enumerate(train_loader2):\n",
    "        \n",
    "        y_pred = model2(X_train.view(X_train.size(0), -1))  # Flatten the input dynamically\n",
    "        loss = loss_function_two(y_pred, y_train)\n",
    "\n",
    "        predicted = torch.max(y_pred.data, 1)[1]\n",
    "        batch_corr = (predicted == y_train).sum()\n",
    "        train_corr += batch_corr\n",
    "        \n",
    "        optimizer_two.zero_grad()  # Renamed from adam_optimizer_two\n",
    "        loss.backward()\n",
    "        optimizer_two.step()\n",
    "        \n",
    "    train_losses_two = loss\n",
    "    train_correct_two.append(train_corr)\n",
    "        \n",
    "    with torch.no_grad():\n",
    "        for batch_idx, (X_test, y_test) in enumerate(test_loader2):\n",
    "\n",
    "            y_val = model2(X_test.view(X_test.size(0), -1))  # Flatten the input dynamically\n",
    "            predicted = torch.max(y_val.data, 1)[1]\n",
    "            test_corr += (predicted == y_test).sum()\n",
    "    \n",
    "    loss = loss_function_two(y_val, y_test)\n",
    "    test_losses_two = loss\n",
    "    test_correct_two.append(test_corr)\n",
    "    \n",
    "    train_accuracy = train_corr / len(train_data_set) * 100\n",
    "    test_accuracy = test_corr / len(test_data_set) * 100\n",
    "    print(f'Train Accuracy: {train_accuracy:.2f}%, Test Accuracy: {test_accuracy:.2f}%')\n"
   ]
  },
  {
   "cell_type": "code",
   "execution_count": 30,
   "id": "cc3d88d9",
   "metadata": {
    "tags": []
   },
   "outputs": [],
   "source": [
    "train_losses_mod2= train_losses_two.detach().numpy()"
   ]
  },
  {
   "cell_type": "code",
   "execution_count": 32,
   "id": "99140dc1",
   "metadata": {
    "tags": []
   },
   "outputs": [
    {
     "name": "stdout",
     "output_type": "stream",
     "text": [
      "tensor(97.0333)\n"
     ]
    }
   ],
   "source": [
    " for t in train_correct_two:\n",
    "    trn_accu_mod2=t/600\n",
    "    \n",
    "print(trn_accu_mod2)"
   ]
  },
  {
   "cell_type": "code",
   "execution_count": 33,
   "id": "103f213d",
   "metadata": {
    "tags": []
   },
   "outputs": [
    {
     "name": "stdout",
     "output_type": "stream",
     "text": [
      "tensor(96.2700)\n"
     ]
    }
   ],
   "source": [
    " for t in test_correct_two:\n",
    "    tst_accu_mod2=t/100\n",
    "    \n",
    "print(tst_accu_mod2)"
   ]
  },
  {
   "cell_type": "code",
   "execution_count": 34,
   "id": "2e93bbbc",
   "metadata": {
    "tags": []
   },
   "outputs": [],
   "source": [
    "# Calculating sensitivity of every model2\n",
    "\n",
    "# Model 2\n",
    "# Get gradient norm (From slides)\n",
    "grad_all = 0.0\n",
    "frob_norm_all = 0\n",
    "counter = 0\n",
    "for p in model2.parameters():\n",
    "    grad = 0.0\n",
    "    if p.grad is not None:\n",
    "        grad = p.grad\n",
    "        # Calculate Frobenius norm of gradients\n",
    "        frob_norm = torch.linalg.norm(grad).numpy()\n",
    "        frob_norm_all += frob_norm\n",
    "        counter += 1\n",
    "sensitivity_list.append(frob_norm_all / counter)\n",
    "\n"
   ]
  },
  {
   "cell_type": "code",
   "execution_count": null,
   "id": "ec40cd6c",
   "metadata": {},
   "outputs": [],
   "source": []
  },
  {
   "cell_type": "code",
   "execution_count": null,
   "id": "f974e2dd",
   "metadata": {},
   "outputs": [],
   "source": []
  },
  {
   "cell_type": "code",
   "execution_count": null,
   "id": "ce638e5b",
   "metadata": {},
   "outputs": [],
   "source": []
  },
  {
   "cell_type": "code",
   "execution_count": 73,
   "id": "31913cf5",
   "metadata": {},
   "outputs": [],
   "source": [
    "#######################################----------Model-3------------#####################################################################"
   ]
  },
  {
   "cell_type": "code",
   "execution_count": 40,
   "id": "63ce47ab",
   "metadata": {
    "tags": []
   },
   "outputs": [],
   "source": [
    "import torch.nn as nn\n",
    "import torch.nn.functional as F\n",
    "\n",
    "class FeedForwardModel3(nn.Module):\n",
    "    def __init__(self, input_size=784, hidden_layer1=20, hidden_layer2=20, output_size=10):\n",
    "        super(FeedForwardModel3, self).__init__()\n",
    "        self.fc1 = nn.Linear(input_size, hidden_layer1)\n",
    "        self.fc2 = nn.Linear(hidden_layer1, hidden_layer2)\n",
    "        self.output_layer = nn.Linear(hidden_layer2, output_size)\n",
    "        \n",
    "    def forward(self, x):\n",
    "        x = F.relu(self.fc1(x))\n",
    "        x = F.relu(self.fc2(x))\n",
    "        x = self.output_layer(x)\n",
    "        return x\n"
   ]
  },
  {
   "cell_type": "code",
   "execution_count": 41,
   "id": "67f4c47b",
   "metadata": {
    "tags": []
   },
   "outputs": [],
   "source": [
    "model3=FeedForwardModel3()"
   ]
  },
  {
   "cell_type": "code",
   "execution_count": 42,
   "id": "cc59cb72",
   "metadata": {
    "tags": []
   },
   "outputs": [
    {
     "data": {
      "text/plain": [
       "FeedForwardModel3(\n",
       "  (fc1): Linear(in_features=784, out_features=20, bias=True)\n",
       "  (fc2): Linear(in_features=20, out_features=20, bias=True)\n",
       "  (output_layer): Linear(in_features=20, out_features=10, bias=True)\n",
       ")"
      ]
     },
     "execution_count": 42,
     "metadata": {},
     "output_type": "execute_result"
    }
   ],
   "source": [
    "model3"
   ]
  },
  {
   "cell_type": "code",
   "execution_count": 44,
   "id": "26b8d7e5",
   "metadata": {
    "tags": []
   },
   "outputs": [
    {
     "name": "stdout",
     "output_type": "stream",
     "text": [
      "Total trainable parameters in Model3: 16330\n"
     ]
    }
   ],
   "source": [
    "model3params = calculate_params(model3)  \n",
    "print(f\"Total trainable parameters in Model3: {model3params}\")\n"
   ]
  },
  {
   "cell_type": "code",
   "execution_count": 45,
   "id": "58065c3c",
   "metadata": {
    "tags": []
   },
   "outputs": [],
   "source": [
    "loss_function_three = nn.CrossEntropyLoss()\n"
   ]
  },
  {
   "cell_type": "code",
   "execution_count": 46,
   "id": "50026e1c",
   "metadata": {
    "tags": []
   },
   "outputs": [],
   "source": [
    "optimizer_three = torch.optim.Adam(model3.parameters(), lr=0.001)\n"
   ]
  },
  {
   "cell_type": "code",
   "execution_count": 47,
   "id": "00791973",
   "metadata": {
    "tags": []
   },
   "outputs": [
    {
     "name": "stdout",
     "output_type": "stream",
     "text": [
      "Epoch 1/10, Train Accuracy: 78.66%, Test Accuracy: 90.44%\n",
      "Epoch 2/10, Train Accuracy: 91.35%, Test Accuracy: 92.52%\n",
      "Epoch 3/10, Train Accuracy: 92.92%, Test Accuracy: 93.50%\n",
      "Epoch 4/10, Train Accuracy: 93.76%, Test Accuracy: 93.93%\n",
      "Epoch 5/10, Train Accuracy: 94.43%, Test Accuracy: 94.55%\n",
      "Epoch 6/10, Train Accuracy: 94.82%, Test Accuracy: 94.88%\n",
      "Epoch 7/10, Train Accuracy: 95.21%, Test Accuracy: 95.08%\n",
      "Epoch 8/10, Train Accuracy: 95.38%, Test Accuracy: 95.21%\n",
      "Epoch 9/10, Train Accuracy: 95.53%, Test Accuracy: 95.27%\n",
      "Epoch 10/10, Train Accuracy: 95.75%, Test Accuracy: 95.34%\n"
     ]
    }
   ],
   "source": [
    "epochs = 10\n",
    "train_correct_three = []\n",
    "test_correct_three = []\n",
    "\n",
    "for epoch in range(epochs):\n",
    "    train_corr = 0\n",
    "    test_corr = 0\n",
    "\n",
    "    for batch_idx, (X_train, y_train) in enumerate(train_loader3):\n",
    "       \n",
    "        y_pred = model3(X_train.view(X_train.size(0), -1))  # Dynamically flatten the input\n",
    "        loss = loss_function_three(y_pred, y_train)\n",
    "\n",
    "        predicted = torch.max(y_pred.data, 1)[1]\n",
    "        batch_corr = (predicted == y_train).sum()\n",
    "        train_corr += batch_corr\n",
    "        \n",
    "        optimizer_three.zero_grad()\n",
    "        loss.backward()\n",
    "        optimizer_three.step()\n",
    "        \n",
    "    train_losses_three = loss\n",
    "    train_correct_three.append(train_corr)\n",
    "        \n",
    "    with torch.no_grad():\n",
    "        for batch_idx, (X_test, y_test) in enumerate(test_loader3):\n",
    "\n",
    "            y_val = model3(X_test.view(X_test.size(0), -1))  # Dynamically flatten the input\n",
    "            predicted = torch.max(y_val.data, 1)[1] \n",
    "            test_corr += (predicted == y_test).sum()\n",
    "    \n",
    "    loss = loss_function_three(y_val, y_test)\n",
    "    test_losses_three = loss\n",
    "    test_correct_three.append(test_corr)\n",
    "\n",
    "    # Calculate and print accuracy for the epoch\n",
    "    train_accuracy = train_corr / len(train_data_set) * 100\n",
    "    test_accuracy = test_corr / len(test_data_set) * 100\n",
    "    print(f'Epoch {epoch+1}/{epochs}, Train Accuracy: {train_accuracy:.2f}%, Test Accuracy: {test_accuracy:.2f}%')\n"
   ]
  },
  {
   "cell_type": "code",
   "execution_count": 48,
   "id": "e7847a27",
   "metadata": {
    "tags": []
   },
   "outputs": [],
   "source": [
    "train_losses_mod3= train_losses_three.detach().numpy()"
   ]
  },
  {
   "cell_type": "code",
   "execution_count": 49,
   "id": "c84b06a2",
   "metadata": {
    "tags": []
   },
   "outputs": [
    {
     "name": "stdout",
     "output_type": "stream",
     "text": [
      "tensor(95.7550)\n"
     ]
    }
   ],
   "source": [
    "for t in train_correct_three:\n",
    "    trn_accu_mod3=t/600\n",
    "    \n",
    "print(trn_accu_mod3)"
   ]
  },
  {
   "cell_type": "code",
   "execution_count": 51,
   "id": "75256baa",
   "metadata": {
    "tags": []
   },
   "outputs": [
    {
     "name": "stdout",
     "output_type": "stream",
     "text": [
      "tensor(95.3400)\n"
     ]
    }
   ],
   "source": [
    " for t in test_correct_three:\n",
    "    tst_accu_mod3=t/100\n",
    "    \n",
    "print(tst_accu_mod3)"
   ]
  },
  {
   "cell_type": "code",
   "execution_count": 52,
   "id": "90c4aeea",
   "metadata": {
    "tags": []
   },
   "outputs": [],
   "source": [
    "# Calculating sensitivity of every model3\n",
    "\n",
    "# Model 3\n",
    "# Get gradient norm (From slides)\n",
    "grad_all = 0.0\n",
    "frob_norm_all = 0\n",
    "counter = 0\n",
    "for p in model3.parameters():\n",
    "    grad = 0.0\n",
    "    if p.grad is not None:\n",
    "        grad = p.grad\n",
    "        # Calculate Frobenius norm of gradients\n",
    "        frob_norm = torch.linalg.norm(grad).numpy()\n",
    "        frob_norm_all += frob_norm\n",
    "        counter += 1\n",
    "sensitivity_list.append(frob_norm_all / counter)"
   ]
  },
  {
   "cell_type": "code",
   "execution_count": null,
   "id": "b130ae0c",
   "metadata": {},
   "outputs": [],
   "source": []
  },
  {
   "cell_type": "code",
   "execution_count": null,
   "id": "ef587d20",
   "metadata": {},
   "outputs": [],
   "source": []
  },
  {
   "cell_type": "code",
   "execution_count": null,
   "id": "367df4e5",
   "metadata": {},
   "outputs": [],
   "source": []
  },
  {
   "cell_type": "code",
   "execution_count": 85,
   "id": "2f34e639",
   "metadata": {},
   "outputs": [],
   "source": [
    "#######################################----------Model-4------------#####################################################################"
   ]
  },
  {
   "cell_type": "code",
   "execution_count": 59,
   "id": "16065574",
   "metadata": {
    "tags": []
   },
   "outputs": [],
   "source": [
    "import torch.nn as nn\n",
    "import torch.nn.functional as F\n",
    "\n",
    "class FeedForwardModel4(nn.Module):\n",
    "    def __init__(self, input_size=784, hidden_layer1=20, hidden_layer2=20, output_size=10):\n",
    "        super(FeedForwardModel4, self).__init__()\n",
    "        self.fc1 = nn.Linear(input_size, hidden_layer1)\n",
    "        self.fc2 = nn.Linear(hidden_layer1, hidden_layer2)\n",
    "        self.output_layer = nn.Linear(hidden_layer2, output_size)\n",
    "        \n",
    "    def forward(self, x):\n",
    "        x = F.relu(self.fc1(x))\n",
    "        x = F.relu(self.fc2(x))\n",
    "        x = self.output_layer(x)\n",
    "        return x\n"
   ]
  },
  {
   "cell_type": "code",
   "execution_count": 60,
   "id": "e00eb035",
   "metadata": {
    "tags": []
   },
   "outputs": [],
   "source": [
    "model4=FeedForwardModel4()"
   ]
  },
  {
   "cell_type": "code",
   "execution_count": 61,
   "id": "6f3f203c",
   "metadata": {
    "tags": []
   },
   "outputs": [
    {
     "data": {
      "text/plain": [
       "FeedForwardModel4(\n",
       "  (fc1): Linear(in_features=784, out_features=20, bias=True)\n",
       "  (fc2): Linear(in_features=20, out_features=20, bias=True)\n",
       "  (output_layer): Linear(in_features=20, out_features=10, bias=True)\n",
       ")"
      ]
     },
     "execution_count": 61,
     "metadata": {},
     "output_type": "execute_result"
    }
   ],
   "source": [
    "model4"
   ]
  },
  {
   "cell_type": "code",
   "execution_count": 63,
   "id": "3d37e724",
   "metadata": {
    "tags": []
   },
   "outputs": [
    {
     "name": "stdout",
     "output_type": "stream",
     "text": [
      "Total trainable parameters in Model4: 16330\n"
     ]
    }
   ],
   "source": [
    "model4params = calculate_params(model4)  \n",
    "print(f\"Total trainable parameters in Model4: {model4params}\")\n"
   ]
  },
  {
   "cell_type": "code",
   "execution_count": 64,
   "id": "70007776",
   "metadata": {
    "tags": []
   },
   "outputs": [],
   "source": [
    "loss_function_four = nn.CrossEntropyLoss()\n"
   ]
  },
  {
   "cell_type": "code",
   "execution_count": 65,
   "id": "26a9d380",
   "metadata": {
    "tags": []
   },
   "outputs": [],
   "source": [
    "optimizer_four = torch.optim.Adam(model4.parameters(), lr=0.001)\n"
   ]
  },
  {
   "cell_type": "code",
   "execution_count": 66,
   "id": "f73bc0c8",
   "metadata": {
    "tags": []
   },
   "outputs": [
    {
     "name": "stdout",
     "output_type": "stream",
     "text": [
      "Epoch 1/10, Train Accuracy: 61.72%, Test Accuracy: 86.95%\n",
      "Epoch 2/10, Train Accuracy: 88.40%, Test Accuracy: 90.45%\n",
      "Epoch 3/10, Train Accuracy: 90.70%, Test Accuracy: 91.45%\n",
      "Epoch 4/10, Train Accuracy: 91.65%, Test Accuracy: 92.16%\n",
      "Epoch 5/10, Train Accuracy: 92.29%, Test Accuracy: 92.65%\n",
      "Epoch 6/10, Train Accuracy: 92.84%, Test Accuracy: 92.91%\n",
      "Epoch 7/10, Train Accuracy: 93.21%, Test Accuracy: 93.35%\n",
      "Epoch 8/10, Train Accuracy: 93.56%, Test Accuracy: 93.81%\n",
      "Epoch 9/10, Train Accuracy: 93.86%, Test Accuracy: 93.97%\n",
      "Epoch 10/10, Train Accuracy: 94.25%, Test Accuracy: 94.17%\n"
     ]
    }
   ],
   "source": [
    "epochs = 10\n",
    "train_correct_four = []\n",
    "test_correct_four = []\n",
    "\n",
    "for epoch in range(epochs):\n",
    "    train_corr = 0\n",
    "    test_corr = 0\n",
    "\n",
    "    for batch_idx, (X_train, y_train) in enumerate(train_loader4):\n",
    "        \n",
    "        y_pred = model4(X_train.view(X_train.size(0), -1))  # Flatten the input dynamically\n",
    "        loss = loss_function_four(y_pred, y_train)\n",
    "\n",
    "        predicted = torch.max(y_pred.data, 1)[1]\n",
    "        batch_corr = (predicted == y_train).sum()\n",
    "        train_corr += batch_corr\n",
    "        \n",
    "        optimizer_four.zero_grad()\n",
    "        loss.backward()\n",
    "        optimizer_four.step()\n",
    "        \n",
    "    train_losses_four = loss\n",
    "    train_correct_four.append(train_corr)\n",
    "        \n",
    "    with torch.no_grad():\n",
    "        for batch_idx, (X_test, y_test) in enumerate(test_loader4):\n",
    "\n",
    "            y_val = model4(X_test.view(X_test.size(0), -1))  # Flatten the input dynamically\n",
    "            predicted = torch.max(y_val.data, 1)[1] \n",
    "            test_corr += (predicted == y_test).sum()\n",
    "    \n",
    "    loss = loss_function_four(y_val, y_test)\n",
    "    test_losses_four = loss\n",
    "    test_correct_four.append(test_corr)\n",
    "\n",
    "    # Calculate and print accuracy for the epoch\n",
    "    train_accuracy = train_corr / len(train_data_set) * 100\n",
    "    test_accuracy = test_corr / len(test_data_set) * 100\n",
    "    print(f'Epoch {epoch+1}/{epochs}, Train Accuracy: {train_accuracy:.2f}%, Test Accuracy: {test_accuracy:.2f}%')\n"
   ]
  },
  {
   "cell_type": "code",
   "execution_count": 67,
   "id": "15777782",
   "metadata": {
    "tags": []
   },
   "outputs": [],
   "source": [
    "train_losses_mod4= train_losses_four.detach().numpy()"
   ]
  },
  {
   "cell_type": "code",
   "execution_count": 68,
   "id": "f895f29f",
   "metadata": {
    "tags": []
   },
   "outputs": [
    {
     "name": "stdout",
     "output_type": "stream",
     "text": [
      "tensor(94.2500)\n"
     ]
    }
   ],
   "source": [
    "for t in train_correct_four:\n",
    "    trn_accu_mod4=t/600\n",
    "    \n",
    "print(trn_accu_mod4)"
   ]
  },
  {
   "cell_type": "code",
   "execution_count": 69,
   "id": "af62ff28",
   "metadata": {
    "tags": []
   },
   "outputs": [
    {
     "name": "stdout",
     "output_type": "stream",
     "text": [
      "tensor(94.1700)\n"
     ]
    }
   ],
   "source": [
    " for t in test_correct_four:\n",
    "    tst_accu_mod4=t/100\n",
    "    \n",
    "print(tst_accu_mod4)"
   ]
  },
  {
   "cell_type": "code",
   "execution_count": 70,
   "id": "02519ada",
   "metadata": {
    "tags": []
   },
   "outputs": [],
   "source": [
    "# Calculating sensitivity of every model4\n",
    "\n",
    "# Get gradient norm (From slides)\n",
    "grad_all = 0.0\n",
    "frob_norm_all = 0\n",
    "counter = 0\n",
    "for p in model4.parameters():\n",
    "    grad = 0.0\n",
    "    if p.grad is not None:\n",
    "        grad = p.grad\n",
    "        # Calculate Frobenius norm of gradients\n",
    "        frob_norm = torch.linalg.norm(grad).numpy()\n",
    "        frob_norm_all += frob_norm\n",
    "        counter += 1\n",
    "sensitivity_list.append(frob_norm_all / counter)"
   ]
  },
  {
   "cell_type": "code",
   "execution_count": null,
   "id": "8694eea3",
   "metadata": {},
   "outputs": [],
   "source": []
  },
  {
   "cell_type": "code",
   "execution_count": null,
   "id": "a13b1f89",
   "metadata": {},
   "outputs": [],
   "source": []
  },
  {
   "cell_type": "code",
   "execution_count": null,
   "id": "d06291e2",
   "metadata": {},
   "outputs": [],
   "source": []
  },
  {
   "cell_type": "code",
   "execution_count": 53,
   "id": "cf89b4fd",
   "metadata": {
    "tags": []
   },
   "outputs": [],
   "source": [
    "#######################################----------Model-5------------#####################################################################"
   ]
  },
  {
   "cell_type": "code",
   "execution_count": 71,
   "id": "dbab5984",
   "metadata": {
    "tags": []
   },
   "outputs": [],
   "source": [
    "import torch.nn as nn\n",
    "import torch.nn.functional as F\n",
    "\n",
    "class FeedForwardModel5(nn.Module):\n",
    "    def __init__(self, input_size=784, hidden_layer1=20, hidden_layer2=20, output_size=10):\n",
    "        super(FeedForwardModel5, self).__init__()\n",
    "        self.fc1 = nn.Linear(input_size, hidden_layer1)\n",
    "        self.fc2 = nn.Linear(hidden_layer1, hidden_layer2)\n",
    "        self.output_layer = nn.Linear(hidden_layer2, output_size)\n",
    "        \n",
    "    def forward(self, x):\n",
    "        x = F.relu(self.fc1(x))\n",
    "        x = F.relu(self.fc2(x))\n",
    "        x = self.output_layer(x)\n",
    "        return x\n"
   ]
  },
  {
   "cell_type": "code",
   "execution_count": 72,
   "id": "80e5e36c",
   "metadata": {
    "tags": []
   },
   "outputs": [],
   "source": [
    "model5=FeedForwardModel5()"
   ]
  },
  {
   "cell_type": "code",
   "execution_count": 73,
   "id": "dbbaf2d5",
   "metadata": {
    "tags": []
   },
   "outputs": [
    {
     "data": {
      "text/plain": [
       "FeedForwardModel5(\n",
       "  (fc1): Linear(in_features=784, out_features=20, bias=True)\n",
       "  (fc2): Linear(in_features=20, out_features=20, bias=True)\n",
       "  (output_layer): Linear(in_features=20, out_features=10, bias=True)\n",
       ")"
      ]
     },
     "execution_count": 73,
     "metadata": {},
     "output_type": "execute_result"
    }
   ],
   "source": [
    "model5"
   ]
  },
  {
   "cell_type": "code",
   "execution_count": 74,
   "id": "f3a710d6",
   "metadata": {
    "tags": []
   },
   "outputs": [
    {
     "name": "stdout",
     "output_type": "stream",
     "text": [
      "Total trainable parameters in Model5: 16330\n"
     ]
    }
   ],
   "source": [
    "model5params = calculate_params(model5)  \n",
    "print(f\"Total trainable parameters in Model5: {model5params}\")\n"
   ]
  },
  {
   "cell_type": "code",
   "execution_count": 75,
   "id": "90515ecb",
   "metadata": {
    "tags": []
   },
   "outputs": [],
   "source": [
    "loss_function_five = nn.CrossEntropyLoss()\n"
   ]
  },
  {
   "cell_type": "code",
   "execution_count": 76,
   "id": "1c00f4a6",
   "metadata": {
    "tags": []
   },
   "outputs": [],
   "source": [
    "optimizer_five = torch.optim.Adam(model5.parameters(), lr=0.001)\n"
   ]
  },
  {
   "cell_type": "code",
   "execution_count": 77,
   "id": "bf3ebd8c",
   "metadata": {
    "tags": []
   },
   "outputs": [
    {
     "name": "stdout",
     "output_type": "stream",
     "text": [
      "Epoch 1/10, Train Accuracy: 47.05%, Test Accuracy: 75.01%\n",
      "Epoch 2/10, Train Accuracy: 81.46%, Test Accuracy: 86.53%\n",
      "Epoch 3/10, Train Accuracy: 87.75%, Test Accuracy: 89.67%\n",
      "Epoch 4/10, Train Accuracy: 89.84%, Test Accuracy: 90.59%\n",
      "Epoch 5/10, Train Accuracy: 90.75%, Test Accuracy: 91.23%\n",
      "Epoch 6/10, Train Accuracy: 91.43%, Test Accuracy: 91.65%\n",
      "Epoch 7/10, Train Accuracy: 91.94%, Test Accuracy: 92.23%\n",
      "Epoch 8/10, Train Accuracy: 92.37%, Test Accuracy: 92.53%\n",
      "Epoch 9/10, Train Accuracy: 92.77%, Test Accuracy: 92.76%\n",
      "Epoch 10/10, Train Accuracy: 93.06%, Test Accuracy: 93.23%\n"
     ]
    }
   ],
   "source": [
    "epochs = 10\n",
    "train_correct_five = []\n",
    "test_correct_five = []\n",
    "\n",
    "for epoch in range(epochs):\n",
    "    train_corr = 0\n",
    "    test_corr = 0\n",
    "\n",
    "    for batch_idx, (X_train, y_train) in enumerate(train_loader5):\n",
    "       \n",
    "        y_pred = model5(X_train.view(X_train.size(0), -1))  # Flatten the input dynamically\n",
    "        loss = loss_function_five(y_pred, y_train)\n",
    "\n",
    "        predicted = torch.max(y_pred.data, 1)[1]\n",
    "        batch_corr = (predicted == y_train).sum()\n",
    "        train_corr += batch_corr\n",
    "        \n",
    "        optimizer_five.zero_grad()\n",
    "        loss.backward()\n",
    "        optimizer_five.step()\n",
    "        \n",
    "    train_losses_five = loss\n",
    "    train_correct_five.append(train_corr)\n",
    "        \n",
    "    with torch.no_grad():\n",
    "        for batch_idx, (X_test, y_test) in enumerate(test_loader5):\n",
    "\n",
    "            y_val = model5(X_test.view(X_test.size(0), -1))  # Flatten the input dynamically\n",
    "            predicted = torch.max(y_val.data, 1)[1]\n",
    "            test_corr += (predicted == y_test).sum()\n",
    "    \n",
    "    loss = loss_function_five(y_val, y_test)\n",
    "    test_losses_five = loss\n",
    "    test_correct_five.append(test_corr)\n",
    "\n",
    "    # Calculate and print accuracy for the epoch\n",
    "    train_accuracy = train_corr / len(train_data_set) * 100\n",
    "    test_accuracy = test_corr / len(test_data_set) * 100\n",
    "    print(f'Epoch {epoch+1}/{epochs}, Train Accuracy: {train_accuracy:.2f}%, Test Accuracy: {test_accuracy:.2f}%')\n"
   ]
  },
  {
   "cell_type": "code",
   "execution_count": 82,
   "id": "711a9f59",
   "metadata": {
    "tags": []
   },
   "outputs": [],
   "source": [
    "train_losses_mod5= train_losses_five.detach().numpy()"
   ]
  },
  {
   "cell_type": "code",
   "execution_count": 83,
   "id": "0c5380fa",
   "metadata": {
    "tags": []
   },
   "outputs": [
    {
     "name": "stdout",
     "output_type": "stream",
     "text": [
      "tensor(93.0617)\n"
     ]
    }
   ],
   "source": [
    "for t in train_correct_five:\n",
    "    trn_accu_mod5=t/600\n",
    "    \n",
    "print(trn_accu_mod5)"
   ]
  },
  {
   "cell_type": "code",
   "execution_count": 84,
   "id": "6cabf287",
   "metadata": {
    "tags": []
   },
   "outputs": [
    {
     "name": "stdout",
     "output_type": "stream",
     "text": [
      "tensor(93.2300)\n"
     ]
    }
   ],
   "source": [
    "for t in test_correct_five:\n",
    "    tst_accu_mod5=t/100\n",
    "    \n",
    "print(tst_accu_mod5)"
   ]
  },
  {
   "cell_type": "code",
   "execution_count": 85,
   "id": "0e75ec0d",
   "metadata": {
    "tags": []
   },
   "outputs": [],
   "source": [
    "# Calculating sensitivity of every model5\n",
    "\n",
    "# Get gradient norm (From slides)\n",
    "grad_all = 0.0\n",
    "frob_norm_all = 0\n",
    "counter = 0\n",
    "for p in model5.parameters():\n",
    "    grad = 0.0\n",
    "    if p.grad is not None:\n",
    "        grad = p.grad\n",
    "        # Calculate Frobenius norm of gradients\n",
    "        frob_norm = torch.linalg.norm(grad).numpy()\n",
    "        frob_norm_all += frob_norm\n",
    "        counter += 1\n",
    "sensitivity_list.append(frob_norm_all / counter)"
   ]
  },
  {
   "cell_type": "code",
   "execution_count": null,
   "id": "92f4df00",
   "metadata": {},
   "outputs": [],
   "source": []
  },
  {
   "cell_type": "code",
   "execution_count": 89,
   "id": "6d75f0ef",
   "metadata": {
    "tags": []
   },
   "outputs": [],
   "source": [
    "train_loss_list=[]\n",
    "test_loss_list=[]\n",
    "train_accuracy_list=[]\n",
    "test_accuracy_list=[]\n",
    "\n",
    "train_loss_list.append(train_losses_mod1)\n",
    "train_loss_list.append(train_losses_mod2)\n",
    "train_loss_list.append(train_losses_mod3)\n",
    "train_loss_list.append(train_losses_mod4)\n",
    "train_loss_list.append(train_losses_mod5)\n",
    "\n",
    "test_loss_list.append(test_losses_one)\n",
    "test_loss_list.append(test_losses_two)\n",
    "test_loss_list.append(test_losses_three)\n",
    "test_loss_list.append(test_losses_four)\n",
    "test_loss_list.append(test_losses_five)\n",
    "\n",
    "train_accuracy_list.append(trn_accu_mod1)\n",
    "train_accuracy_list.append(trn_accu_mod2)\n",
    "train_accuracy_list.append(trn_accu_mod3)\n",
    "train_accuracy_list.append(trn_accu_mod4)\n",
    "train_accuracy_list.append(trn_accu_mod5)\n",
    "\n",
    "\n",
    "test_accuracy_list.append(tst_accu_mod1)\n",
    "test_accuracy_list.append(tst_accu_mod2)\n",
    "test_accuracy_list.append(tst_accu_mod3)\n",
    "test_accuracy_list.append(tst_accu_mod4)\n",
    "test_accuracy_list.append(tst_accu_mod5)"
   ]
  },
  {
   "cell_type": "code",
   "execution_count": 92,
   "id": "afe3d448",
   "metadata": {
    "tags": []
   },
   "outputs": [
    {
     "data": {
      "image/png": "[encoded data removed]",
      "text/plain": [
       "<Figure size 640x480 with 2 Axes>"
      ]
     },
     "metadata": {},
     "output_type": "display_data"
    }
   ],
   "source": [
    "fig, ax1 = plt.subplots()\n",
    "\n",
    "ax2 = ax1.twinx()\n",
    "\n",
    "ax1.plot(batch_sizes, train_loss_list, 'g', label='Training Loss')\n",
    "ax1.plot(batch_sizes, test_loss_list, 'g--', label='Testing Loss')\n",
    "\n",
    "ax2.plot(batch_sizes, sensitivity_list, 'm', label='Sensitivity')\n",
    "\n",
    "ax1.set_title('Batch Size Impact on Loss and Sensitivity')\n",
    "ax1.set_xlabel('Batch Sizes')\n",
    "ax1.set_xscale('log')\n",
    "ax1.set_ylabel('Loss', color='g')\n",
    "ax2.set_ylabel('Sensitivity', color='m')\n",
    "\n",
    "ax1.legend(loc='upper left')\n",
    "ax2.legend(loc='upper right')\n",
    "\n",
    "plt.show()\n"
   ]
  },
  {
   "cell_type": "code",
   "execution_count": 93,
   "id": "78bb1f66",
   "metadata": {
    "tags": []
   },
   "outputs": [
    {
     "data": {
      "image/png": "[encoded data removed]",
      "text/plain": [
       "<Figure size 640x480 with 2 Axes>"
      ]
     },
     "metadata": {},
     "output_type": "display_data"
    }
   ],
   "source": [
    "fig, ax1 = plt.subplots()\n",
    "\n",
    "ax2 = ax1.twinx()\n",
    "\n",
    "ax1.plot(batch_sizes, train_accuracy_list, 'g', label='Train Accuracy')\n",
    "ax1.plot(batch_sizes, test_accuracy_list, 'g--', label='Test Accuracy')\n",
    "\n",
    "ax2.plot(batch_sizes, sensitivity_list, 'm', label='Sensitivity')\n",
    "\n",
    "ax1.set_title('Effect of Batch Size on Accuracy and Sensitivity')\n",
    "ax1.set_xlabel('Batch Sizes')\n",
    "ax1.set_xscale('log')\n",
    "ax1.set_ylabel('Accuracy', color='g')\n",
    "ax2.set_ylabel('Sensitivity', color='m')\n",
    "\n",
    "ax1.legend(loc='upper left')\n",
    "ax2.legend(loc='upper right')\n",
    "\n",
    "plt.show()\n"
   ]
  },
  {
   "cell_type": "code",
   "execution_count": null,
   "id": "6dea34b5",
   "metadata": {},
   "outputs": [],
   "source": []
  }
 ],
 "metadata": {
  "kernelspec": {
   "display_name": "Python 3 (ipykernel)",
   "language": "python",
   "name": "python3"
  },
  "language_info": {
   "codemirror_mode": {
    "name": "ipython",
    "version": 3
   },
   "file_extension": ".py",
   "mimetype": "text/x-python",
   "name": "python",
   "nbconvert_exporter": "python",
   "pygments_lexer": "ipython3",
   "version": "3.11.5"
  }
 },
 "nbformat": 4,
 "nbformat_minor": 5
}
