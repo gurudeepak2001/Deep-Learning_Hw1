{
 "cells": [
  {
   "cell_type": "code",
   "execution_count": 1,
   "id": "0c971ce3",
   "metadata": {
    "tags": []
   },
   "outputs": [],
   "source": [
    "import torch\n",
    "import torch.nn as nn\n",
    "import torch.nn.functional as F\n",
    "from torch.utils.data import DataLoader\n",
    "from torchvision import datasets, transforms\n",
    "from torchvision.utils import make_grid\n",
    "\n",
    "import numpy as np\n",
    "import pandas as pd\n",
    "from sklearn.metrics import confusion_matrix\n",
    "import matplotlib.pyplot as plt\n",
    "# Enable inline plotting for Jupyter note.\n",
    "%matplotlib inline"
   ]
  },
  {
   "cell_type": "code",
   "execution_count": 3,
   "id": "6f364ee7",
   "metadata": {
    "tags": []
   },
   "outputs": [],
   "source": [
    "transform = transforms.ToTensor()"
   ]
  },
  {
   "cell_type": "code",
   "execution_count": 4,
   "id": "4e09c15d",
   "metadata": {
    "tags": []
   },
   "outputs": [
    {
     "data": {
      "text/plain": [
       "60000"
      ]
     },
     "execution_count": 4,
     "metadata": {},
     "output_type": "execute_result"
    }
   ],
   "source": [
    "train_data_set = datasets.MNIST(root='Home Work./data', train=True, download=True, transform=transform)\n",
    "test_data_set = datasets.MNIST(root='Home Work./data', train=False, download=True, transform=transform)\n",
    "len(train_data_set)"
   ]
  },
  {
   "cell_type": "code",
   "execution_count": 7,
   "id": "f9c7a702",
   "metadata": {
    "tags": []
   },
   "outputs": [
    {
     "data": {
      "text/plain": [
       "Dataset MNIST\n",
       "    Number of datapoints: 60000\n",
       "    Root location: Home Work./data\n",
       "    Split: Train\n",
       "    StandardTransform\n",
       "Transform: ToTensor()"
      ]
     },
     "execution_count": 7,
     "metadata": {},
     "output_type": "execute_result"
    }
   ],
   "source": [
    "#train data set\n",
    "train_data_set"
   ]
  },
  {
   "cell_type": "code",
   "execution_count": 8,
   "id": "36be17b5",
   "metadata": {
    "tags": []
   },
   "outputs": [
    {
     "data": {
      "text/plain": [
       "Dataset MNIST\n",
       "    Number of datapoints: 10000\n",
       "    Root location: Home Work./data\n",
       "    Split: Test\n",
       "    StandardTransform\n",
       "Transform: ToTensor()"
      ]
     },
     "execution_count": 8,
     "metadata": {},
     "output_type": "execute_result"
    }
   ],
   "source": [
    "#test data set\n",
    "test_data_set"
   ]
  },
  {
   "cell_type": "code",
   "execution_count": 10,
   "id": "e055e64e",
   "metadata": {
    "tags": []
   },
   "outputs": [],
   "source": [
    "train_data_loader = DataLoader(dataset=train_data_set, batch_size=500, shuffle=True)\n",
    "\n",
    "test_data_loader = DataLoader(dataset=test_data_set, batch_size=100, shuffle=False)\n"
   ]
  },
  {
   "cell_type": "code",
   "execution_count": 11,
   "id": "22ce34c8",
   "metadata": {
    "tags": []
   },
   "outputs": [],
   "source": [
    "# Function to compute the total number of trainable parameters in a model\n",
    "def count_parameters(model):\n",
    "    total_params = sum(param.numel() for param in model.parameters() if param.requires_grad)\n",
    "    return total_params\n"
   ]
  },
  {
   "cell_type": "code",
   "execution_count": 12,
   "id": "3e479fc1",
   "metadata": {
    "tags": []
   },
   "outputs": [],
   "source": [
    "# Neural network model with 1645 parameters\n",
    "class SimpleModel(nn.Module):\n",
    "    def __init__(self, input_size=784, hidden_layer1=2, hidden_layer2=5, output_size=10):\n",
    "        super(SimpleModel, self).__init__()\n",
    "        self.layer1 = nn.Linear(input_size, hidden_layer1)\n",
    "        self.layer2 = nn.Linear(hidden_layer1, hidden_layer2)\n",
    "        self.output_layer = nn.Linear(hidden_layer2, output_size)\n",
    "        \n",
    "    def forward(self, x):\n",
    "        x = F.relu(self.layer1(x))\n",
    "        x = F.relu(self.layer2(x))\n",
    "        x = self.output_layer(x)\n",
    "        return x\n"
   ]
  },
  {
   "cell_type": "code",
   "execution_count": 14,
   "id": "e52e0d5d",
   "metadata": {
    "tags": []
   },
   "outputs": [],
   "source": [
    "simple_model = SimpleModel()\n"
   ]
  },
  {
   "cell_type": "code",
   "execution_count": 16,
   "id": "ee76b189",
   "metadata": {
    "tags": []
   },
   "outputs": [
    {
     "data": {
      "text/plain": [
       "SimpleModel(\n",
       "  (layer1): Linear(in_features=784, out_features=2, bias=True)\n",
       "  (layer2): Linear(in_features=2, out_features=5, bias=True)\n",
       "  (output_layer): Linear(in_features=5, out_features=10, bias=True)\n",
       ")"
      ]
     },
     "execution_count": 16,
     "metadata": {},
     "output_type": "execute_result"
    }
   ],
   "source": [
    "simple_model"
   ]
  },
  {
   "cell_type": "code",
   "execution_count": 17,
   "id": "dbe31b35",
   "metadata": {
    "tags": []
   },
   "outputs": [
    {
     "name": "stdout",
     "output_type": "stream",
     "text": [
      "1645\n"
     ]
    }
   ],
   "source": [
    "# Calculate and print the number of parameters in the simple_model\n",
    "simple_model_params = count_parameters(simple_model)\n",
    "print(simple_model_params)\n"
   ]
  },
  {
   "cell_type": "code",
   "execution_count": 18,
   "id": "1da4eb0b",
   "metadata": {
    "tags": []
   },
   "outputs": [],
   "source": [
    "# Define the loss function using CrossEntropy\n",
    "loss_function = nn.CrossEntropyLoss()\n"
   ]
  },
  {
   "cell_type": "code",
   "execution_count": 19,
   "id": "158af8d6",
   "metadata": {
    "tags": []
   },
   "outputs": [],
   "source": [
    "# Initialize the optimizer using Adam.\n",
    "optimizer = torch.optim.Adam(simple_model.parameters(), lr=0.001)\n"
   ]
  },
  {
   "cell_type": "code",
   "execution_count": 20,
   "id": "cb3a0bff",
   "metadata": {
    "tags": []
   },
   "outputs": [
    {
     "name": "stdout",
     "output_type": "stream",
     "text": [
      "Epoch 1/30\n",
      "Training Accuracy: 10056/60000\n",
      "Testing Accuracy: 2505/10000\n",
      "Epoch 2/30\n",
      "Training Accuracy: 17166/60000\n",
      "Testing Accuracy: 3238/10000\n",
      "Epoch 3/30\n",
      "Training Accuracy: 20796/60000\n",
      "Testing Accuracy: 3657/10000\n",
      "Epoch 4/30\n",
      "Training Accuracy: 23030/60000\n",
      "Testing Accuracy: 3980/10000\n",
      "Epoch 5/30\n",
      "Training Accuracy: 24406/60000\n",
      "Testing Accuracy: 4179/10000\n",
      "Epoch 6/30\n",
      "Training Accuracy: 25387/60000\n",
      "Testing Accuracy: 4366/10000\n",
      "Epoch 7/30\n",
      "Training Accuracy: 26255/60000\n",
      "Testing Accuracy: 4536/10000\n",
      "Epoch 8/30\n",
      "Training Accuracy: 27324/60000\n",
      "Testing Accuracy: 4675/10000\n",
      "Epoch 9/30\n",
      "Training Accuracy: 28609/60000\n",
      "Testing Accuracy: 4958/10000\n",
      "Epoch 10/30\n",
      "Training Accuracy: 29830/60000\n",
      "Testing Accuracy: 5059/10000\n",
      "Epoch 11/30\n",
      "Training Accuracy: 30803/60000\n",
      "Testing Accuracy: 5371/10000\n",
      "Epoch 12/30\n",
      "Training Accuracy: 32354/60000\n",
      "Testing Accuracy: 5622/10000\n",
      "Epoch 13/30\n",
      "Training Accuracy: 33906/60000\n",
      "Testing Accuracy: 5739/10000\n",
      "Epoch 14/30\n",
      "Training Accuracy: 34838/60000\n",
      "Testing Accuracy: 5843/10000\n",
      "Epoch 15/30\n",
      "Training Accuracy: 35493/60000\n",
      "Testing Accuracy: 5955/10000\n",
      "Epoch 16/30\n",
      "Training Accuracy: 36030/60000\n",
      "Testing Accuracy: 6026/10000\n",
      "Epoch 17/30\n",
      "Training Accuracy: 36459/60000\n",
      "Testing Accuracy: 6126/10000\n",
      "Epoch 18/30\n",
      "Training Accuracy: 36795/60000\n",
      "Testing Accuracy: 6164/10000\n",
      "Epoch 19/30\n",
      "Training Accuracy: 37242/60000\n",
      "Testing Accuracy: 6210/10000\n",
      "Epoch 20/30\n",
      "Training Accuracy: 37517/60000\n",
      "Testing Accuracy: 6235/10000\n",
      "Epoch 21/30\n",
      "Training Accuracy: 37759/60000\n",
      "Testing Accuracy: 6274/10000\n",
      "Epoch 22/30\n",
      "Training Accuracy: 37989/60000\n",
      "Testing Accuracy: 6307/10000\n",
      "Epoch 23/30\n",
      "Training Accuracy: 38272/60000\n",
      "Testing Accuracy: 6377/10000\n",
      "Epoch 24/30\n",
      "Training Accuracy: 38486/60000\n",
      "Testing Accuracy: 6385/10000\n",
      "Epoch 25/30\n",
      "Training Accuracy: 38708/60000\n",
      "Testing Accuracy: 6423/10000\n",
      "Epoch 26/30\n",
      "Training Accuracy: 38944/60000\n",
      "Testing Accuracy: 6501/10000\n",
      "Epoch 27/30\n",
      "Training Accuracy: 39162/60000\n",
      "Testing Accuracy: 6503/10000\n",
      "Epoch 28/30\n",
      "Training Accuracy: 39271/60000\n",
      "Testing Accuracy: 6513/10000\n",
      "Epoch 29/30\n",
      "Training Accuracy: 39473/60000\n",
      "Testing Accuracy: 6545/10000\n",
      "Epoch 30/30\n",
      "Training Accuracy: 39506/60000\n",
      "Testing Accuracy: 6597/10000\n"
     ]
    }
   ],
   "source": [
    "# Number of epochs\n",
    "num_epochs = 30\n",
    "train_accuracy_mod1 = []\n",
    "test_accuracy_mod1 = []\n",
    "\n",
    "for epoch in range(num_epochs):\n",
    "    correct_train = 0\n",
    "    correct_test = 0\n",
    "\n",
    "    # Print current epoch\n",
    "    print(f\"Epoch {epoch+1}/{num_epochs}\")\n",
    "\n",
    "    # Training loop\n",
    "    for batch_idx, (X_batch_train, y_batch_train) in enumerate(train_data_loader):\n",
    "\n",
    "        # Forward pass\n",
    "        predictions_train = simple_model(X_batch_train.view(500, -1))\n",
    "        loss_train = loss_function(predictions_train, y_batch_train)\n",
    "\n",
    "        # Count correct predictions\n",
    "        predicted_labels_train = torch.max(predictions_train.data, 1)[1]\n",
    "        correct_batch_train = (predicted_labels_train == y_batch_train).sum()\n",
    "        correct_train += correct_batch_train\n",
    "\n",
    "        # Backpropagation and optimization\n",
    "        optimizer.zero_grad()\n",
    "        loss_train.backward()\n",
    "        optimizer.step()\n",
    "\n",
    "    # Record training loss and accuracy\n",
    "    train_loss_mod1 = loss_train\n",
    "    train_accuracy_mod1.append(correct_train)\n",
    "\n",
    "    # Testing loop (no gradients)\n",
    "    with torch.no_grad():\n",
    "        for batch_idx, (X_batch_test, y_batch_test) in enumerate(test_data_loader):\n",
    "\n",
    "            # Forward pass for testing\n",
    "            predictions_test = simple_model(X_batch_test.view(100, -1))\n",
    "\n",
    "            # Count correct predictions\n",
    "            predicted_labels_test = torch.max(predictions_test.data, 1)[1]\n",
    "            correct_test += (predicted_labels_test == y_batch_test).sum()\n",
    "\n",
    "    # Record test loss and accuracy\n",
    "    loss_test = loss_function(predictions_test, y_batch_test)\n",
    "    test_loss_mod1 = loss_test\n",
    "    test_accuracy_mod1.append(correct_test)\n",
    "\n",
    "    # Print accuracy for the current epoch\n",
    "    print(f\"Training Accuracy: {correct_train}/{len(train_data_loader.dataset)}\")\n",
    "    print(f\"Testing Accuracy: {correct_test}/{len(test_data_loader.dataset)}\")\n"
   ]
  },
  {
   "cell_type": "code",
   "execution_count": 26,
   "id": "c1703f9f",
   "metadata": {
    "tags": []
   },
   "outputs": [],
   "source": [
    "# Transform the training loss tensor into a NumPy array\n",
    "train_loss_mod1 = train_loss_mod1.detach().cpu().numpy()\n"
   ]
  },
  {
   "cell_type": "code",
   "execution_count": 148,
   "id": "5e17302b",
   "metadata": {
    "tags": []
   },
   "outputs": [
    {
     "name": "stdout",
     "output_type": "stream",
     "text": [
      "tensor(16.7600)\n",
      "tensor(28.6100)\n",
      "tensor(34.6600)\n",
      "tensor(38.3833)\n",
      "tensor(40.6767)\n",
      "tensor(42.3117)\n",
      "tensor(43.7583)\n",
      "tensor(45.5400)\n",
      "tensor(47.6817)\n",
      "tensor(49.7167)\n",
      "tensor(51.3383)\n",
      "tensor(53.9233)\n",
      "tensor(56.5100)\n",
      "tensor(58.0633)\n",
      "tensor(59.1550)\n",
      "tensor(60.0500)\n",
      "tensor(60.7650)\n",
      "tensor(61.3250)\n",
      "tensor(62.0700)\n",
      "tensor(62.5283)\n",
      "tensor(62.9317)\n",
      "tensor(63.3150)\n",
      "tensor(63.7867)\n",
      "tensor(64.1433)\n",
      "tensor(64.5133)\n",
      "tensor(64.9067)\n",
      "tensor(65.2700)\n",
      "tensor(65.4517)\n",
      "tensor(65.7883)\n",
      "tensor(65.8433)\n"
     ]
    }
   ],
   "source": [
    " # Print training accuracy for each epoch.\n",
    "for correct_train in train_accuracy_mod1:\n",
    "    training_accuracy_mod1 = correct_train / 600  # Dynamically using the total number of training samples\n",
    "    print(training_accuracy_mod1)\n"
   ]
  },
  {
   "cell_type": "code",
   "execution_count": 143,
   "id": "c2fe0d01",
   "metadata": {
    "tags": []
   },
   "outputs": [
    {
     "name": "stdout",
     "output_type": "stream",
     "text": [
      "tensor(65.9700)\n"
     ]
    }
   ],
   "source": [
    " for t in test_accuracy_mod1:\n",
    "    tst_accu_mod1=t/100\n",
    "    \n",
    "print(tst_accu_mod1)"
   ]
  },
  {
   "cell_type": "code",
   "execution_count": null,
   "id": "70fbefd0",
   "metadata": {},
   "outputs": [],
   "source": []
  },
  {
   "cell_type": "code",
   "execution_count": 35,
   "id": "46fadf7e",
   "metadata": {},
   "outputs": [],
   "source": [
    "#######################################----------Model-2------------#####################################################################"
   ]
  },
  {
   "cell_type": "code",
   "execution_count": null,
   "id": "11ba244d",
   "metadata": {},
   "outputs": [],
   "source": []
  },
  {
   "cell_type": "code",
   "execution_count": 30,
   "id": "85d7ba07",
   "metadata": {
    "tags": []
   },
   "outputs": [],
   "source": [
    "# Neural network model with 3240 parameters\n",
    "class LargerModel(nn.Module):\n",
    "    def __init__(self, input_size=784, hidden_layer1=4, hidden_layer2=6, output_size=10):\n",
    "        super(LargerModel, self).__init__()\n",
    "        self.layer1 = nn.Linear(input_size, hidden_layer1)\n",
    "        self.layer2 = nn.Linear(hidden_layer1, hidden_layer2)\n",
    "        self.output_layer = nn.Linear(hidden_layer2, output_size)\n",
    "        \n",
    "    def forward(self, x):\n",
    "        x = F.relu(self.layer1(x))\n",
    "        x = F.relu(self.layer2(x))\n",
    "        x = self.output_layer(x)\n",
    "        return x\n"
   ]
  },
  {
   "cell_type": "code",
   "execution_count": 32,
   "id": "40a5acd2",
   "metadata": {
    "tags": []
   },
   "outputs": [],
   "source": [
    "# Instantiate the larger model.\n",
    "larger_model = LargerModel()\n"
   ]
  },
  {
   "cell_type": "code",
   "execution_count": 33,
   "id": "c1dc81db",
   "metadata": {
    "tags": []
   },
   "outputs": [
    {
     "data": {
      "text/plain": [
       "LargerModel(\n",
       "  (layer1): Linear(in_features=784, out_features=4, bias=True)\n",
       "  (layer2): Linear(in_features=4, out_features=6, bias=True)\n",
       "  (output_layer): Linear(in_features=6, out_features=10, bias=True)\n",
       ")"
      ]
     },
     "execution_count": 33,
     "metadata": {},
     "output_type": "execute_result"
    }
   ],
   "source": [
    "\n",
    "larger_model "
   ]
  },
  {
   "cell_type": "code",
   "execution_count": 35,
   "id": "0ae1f3a5",
   "metadata": {
    "tags": []
   },
   "outputs": [
    {
     "name": "stdout",
     "output_type": "stream",
     "text": [
      "3240\n"
     ]
    }
   ],
   "source": [
    "# Calculate and print the number of parameters in the larger model\n",
    "larger_model_params = count_parameters(larger_model)\n",
    "print(larger_model_params)\n"
   ]
  },
  {
   "cell_type": "code",
   "execution_count": 36,
   "id": "4f3685ce",
   "metadata": {
    "tags": []
   },
   "outputs": [],
   "source": [
    "criterion2 = nn.CrossEntropyLoss()"
   ]
  },
  {
   "cell_type": "code",
   "execution_count": 37,
   "id": "e01ca0a7",
   "metadata": {
    "tags": []
   },
   "outputs": [],
   "source": [
    "# Initialize optimizer for the larger model using Adam.\n",
    "optimizer_larger_model = torch.optim.Adam(larger_model.parameters(), lr=0.001)\n"
   ]
  },
  {
   "cell_type": "code",
   "execution_count": 38,
   "id": "33fe9566",
   "metadata": {
    "tags": []
   },
   "outputs": [
    {
     "name": "stdout",
     "output_type": "stream",
     "text": [
      "Epoch 1/30\n",
      "Training Accuracy: 12302/60000\n",
      "Testing Accuracy: 3508/10000\n",
      "Epoch 2/30\n",
      "Training Accuracy: 25364/60000\n",
      "Testing Accuracy: 4993/10000\n",
      "Epoch 3/30\n",
      "Training Accuracy: 35306/60000\n",
      "Testing Accuracy: 6321/10000\n",
      "Epoch 4/30\n",
      "Training Accuracy: 40042/60000\n",
      "Testing Accuracy: 6877/10000\n",
      "Epoch 5/30\n",
      "Training Accuracy: 41992/60000\n",
      "Testing Accuracy: 7043/10000\n",
      "Epoch 6/30\n",
      "Training Accuracy: 43069/60000\n",
      "Testing Accuracy: 7204/10000\n",
      "Epoch 7/30\n",
      "Training Accuracy: 43703/60000\n",
      "Testing Accuracy: 7327/10000\n",
      "Epoch 8/30\n",
      "Training Accuracy: 44192/60000\n",
      "Testing Accuracy: 7404/10000\n",
      "Epoch 9/30\n",
      "Training Accuracy: 44556/60000\n",
      "Testing Accuracy: 7418/10000\n",
      "Epoch 10/30\n",
      "Training Accuracy: 44828/60000\n",
      "Testing Accuracy: 7490/10000\n",
      "Epoch 11/30\n",
      "Training Accuracy: 45097/60000\n",
      "Testing Accuracy: 7516/10000\n",
      "Epoch 12/30\n",
      "Training Accuracy: 45332/60000\n",
      "Testing Accuracy: 7538/10000\n",
      "Epoch 13/30\n",
      "Training Accuracy: 45535/60000\n",
      "Testing Accuracy: 7570/10000\n",
      "Epoch 14/30\n",
      "Training Accuracy: 45734/60000\n",
      "Testing Accuracy: 7596/10000\n",
      "Epoch 15/30\n",
      "Training Accuracy: 45841/60000\n",
      "Testing Accuracy: 7640/10000\n",
      "Epoch 16/30\n",
      "Training Accuracy: 46045/60000\n",
      "Testing Accuracy: 7670/10000\n",
      "Epoch 17/30\n",
      "Training Accuracy: 46218/60000\n",
      "Testing Accuracy: 7727/10000\n",
      "Epoch 18/30\n",
      "Training Accuracy: 46268/60000\n",
      "Testing Accuracy: 7737/10000\n",
      "Epoch 19/30\n",
      "Training Accuracy: 46465/60000\n",
      "Testing Accuracy: 7751/10000\n",
      "Epoch 20/30\n",
      "Training Accuracy: 46595/60000\n",
      "Testing Accuracy: 7772/10000\n",
      "Epoch 21/30\n",
      "Training Accuracy: 46692/60000\n",
      "Testing Accuracy: 7797/10000\n",
      "Epoch 22/30\n",
      "Training Accuracy: 46824/60000\n",
      "Testing Accuracy: 7801/10000\n",
      "Epoch 23/30\n",
      "Training Accuracy: 46892/60000\n",
      "Testing Accuracy: 7816/10000\n",
      "Epoch 24/30\n",
      "Training Accuracy: 46980/60000\n",
      "Testing Accuracy: 7815/10000\n",
      "Epoch 25/30\n",
      "Training Accuracy: 47023/60000\n",
      "Testing Accuracy: 7810/10000\n",
      "Epoch 26/30\n",
      "Training Accuracy: 47122/60000\n",
      "Testing Accuracy: 7853/10000\n",
      "Epoch 27/30\n",
      "Training Accuracy: 47267/60000\n",
      "Testing Accuracy: 7864/10000\n",
      "Epoch 28/30\n",
      "Training Accuracy: 47334/60000\n",
      "Testing Accuracy: 7846/10000\n",
      "Epoch 29/30\n",
      "Training Accuracy: 47406/60000\n",
      "Testing Accuracy: 7896/10000\n",
      "Epoch 30/30\n",
      "Training Accuracy: 47485/60000\n",
      "Testing Accuracy: 7905/10000\n"
     ]
    }
   ],
   "source": [
    "num_epochs = 30\n",
    "train_accuracy_mod2 = []\n",
    "test_accuracy_mod2 = []\n",
    "\n",
    "for epoch in range(num_epochs):\n",
    "    correct_train = 0\n",
    "    correct_test = 0\n",
    "    \n",
    "    print(f\"Epoch {epoch+1}/{num_epochs}\")\n",
    "    \n",
    "    for batch_idx, (X_batch_train, y_batch_train) in enumerate(train_data_loader):\n",
    "        predictions_train = larger_model(X_batch_train.view(500, -1))  \n",
    "        loss_train = loss_function(predictions_train, y_batch_train)\n",
    "        predicted_labels_train = torch.max(predictions_train.data, 1)[1]\n",
    "        correct_batch_train = (predicted_labels_train == y_batch_train).sum()\n",
    "        correct_train += correct_batch_train\n",
    "        optimizer_larger_model.zero_grad()\n",
    "        loss_train.backward()\n",
    "        optimizer_larger_model.step()\n",
    "        \n",
    "    train_loss_mod2 = loss_train\n",
    "    train_accuracy_mod2.append(correct_train)\n",
    "        \n",
    "    with torch.no_grad():\n",
    "        for batch_idx, (X_batch_test, y_batch_test) in enumerate(test_data_loader):\n",
    "            predictions_test = larger_model(X_batch_test.view(100, -1))\n",
    "            predicted_labels_test = torch.max(predictions_test.data, 1)[1] \n",
    "            correct_test += (predicted_labels_test == y_batch_test).sum()\n",
    "    \n",
    "    test_loss_mod2 = loss_function(predictions_test, y_batch_test)\n",
    "    test_accuracy_mod2.append(correct_test)\n",
    "    \n",
    "    print(f\"Training Accuracy: {correct_train}/{len(train_data_loader.dataset)}\")\n",
    "    print(f\"Testing Accuracy: {correct_test}/{len(test_data_loader.dataset)}\")\n"
   ]
  },
  {
   "cell_type": "code",
   "execution_count": 40,
   "id": "52beecc7",
   "metadata": {
    "tags": []
   },
   "outputs": [],
   "source": [
    "\n",
    "train_loss_mod2 = train_loss_mod2.detach().cpu().numpy()\n"
   ]
  },
  {
   "cell_type": "code",
   "execution_count": 149,
   "id": "0b7a02a2",
   "metadata": {
    "tags": []
   },
   "outputs": [
    {
     "name": "stdout",
     "output_type": "stream",
     "text": [
      "tensor(20.5033)\n",
      "tensor(42.2733)\n",
      "tensor(58.8433)\n",
      "tensor(66.7367)\n",
      "tensor(69.9867)\n",
      "tensor(71.7817)\n",
      "tensor(72.8383)\n",
      "tensor(73.6533)\n",
      "tensor(74.2600)\n",
      "tensor(74.7133)\n",
      "tensor(75.1617)\n",
      "tensor(75.5533)\n",
      "tensor(75.8917)\n",
      "tensor(76.2233)\n",
      "tensor(76.4017)\n",
      "tensor(76.7417)\n",
      "tensor(77.0300)\n",
      "tensor(77.1133)\n",
      "tensor(77.4417)\n",
      "tensor(77.6583)\n",
      "tensor(77.8200)\n",
      "tensor(78.0400)\n",
      "tensor(78.1533)\n",
      "tensor(78.3000)\n",
      "tensor(78.3717)\n",
      "tensor(78.5367)\n",
      "tensor(78.7783)\n",
      "tensor(78.8900)\n",
      "tensor(79.0100)\n",
      "tensor(79.1417)\n"
     ]
    }
   ],
   "source": [
    "for correct_train in train_accuracy_mod2:\n",
    "    trn_accu_mod2 = correct_train / 600  # Using the actual size of the dataset\n",
    "    print(trn_accu_mod2)"
   ]
  },
  {
   "cell_type": "code",
   "execution_count": 150,
   "id": "c88b3df9",
   "metadata": {
    "tags": []
   },
   "outputs": [
    {
     "name": "stdout",
     "output_type": "stream",
     "text": [
      "tensor(35.0800)\n",
      "tensor(49.9300)\n",
      "tensor(63.2100)\n",
      "tensor(68.7700)\n",
      "tensor(70.4300)\n",
      "tensor(72.0400)\n",
      "tensor(73.2700)\n",
      "tensor(74.0400)\n",
      "tensor(74.1800)\n",
      "tensor(74.9000)\n",
      "tensor(75.1600)\n",
      "tensor(75.3800)\n",
      "tensor(75.7000)\n",
      "tensor(75.9600)\n",
      "tensor(76.4000)\n",
      "tensor(76.7000)\n",
      "tensor(77.2700)\n",
      "tensor(77.3700)\n",
      "tensor(77.5100)\n",
      "tensor(77.7200)\n",
      "tensor(77.9700)\n",
      "tensor(78.0100)\n",
      "tensor(78.1600)\n",
      "tensor(78.1500)\n",
      "tensor(78.1000)\n",
      "tensor(78.5300)\n",
      "tensor(78.6400)\n",
      "tensor(78.4600)\n",
      "tensor(78.9600)\n",
      "tensor(79.0500)\n"
     ]
    }
   ],
   "source": [
    "\n",
    "for correct_test in test_accuracy_mod2:\n",
    "    test_accu_mod2 = correct_test / 100  \n",
    "    print(test_accu_mod2)\n"
   ]
  },
  {
   "cell_type": "code",
   "execution_count": null,
   "id": "790e15dc",
   "metadata": {},
   "outputs": [],
   "source": []
  },
  {
   "cell_type": "code",
   "execution_count": 46,
   "id": "7f646ac3",
   "metadata": {},
   "outputs": [],
   "source": [
    "#######################################----------Model-3------------#####################################################################"
   ]
  },
  {
   "cell_type": "code",
   "execution_count": 44,
   "id": "cb7cd7d8",
   "metadata": {
    "tags": []
   },
   "outputs": [],
   "source": [
    "class DeeperModel(nn.Module):\n",
    "    def __init__(self, input_size=784, hidden_layer1=10, hidden_layer2=20, output_size=10):\n",
    "        super(DeeperModel, self).__init__()\n",
    "        self.layer1 = nn.Linear(input_size, hidden_layer1)\n",
    "        self.layer2 = nn.Linear(hidden_layer1, hidden_layer2)\n",
    "        self.output_layer = nn.Linear(hidden_layer2, output_size)\n",
    "        \n",
    "    def forward(self, x):\n",
    "        x = F.relu(self.layer1(x))\n",
    "        x = F.relu(self.layer2(x))\n",
    "        x = self.output_layer(x)\n",
    "        return x\n"
   ]
  },
  {
   "cell_type": "code",
   "execution_count": 45,
   "id": "bd746f70",
   "metadata": {
    "tags": []
   },
   "outputs": [],
   "source": [
    "\n",
    "deeper_model = DeeperModel()\n"
   ]
  },
  {
   "cell_type": "code",
   "execution_count": 46,
   "id": "18463ce3",
   "metadata": {
    "tags": []
   },
   "outputs": [
    {
     "data": {
      "text/plain": [
       "DeeperModel(\n",
       "  (layer1): Linear(in_features=784, out_features=10, bias=True)\n",
       "  (layer2): Linear(in_features=10, out_features=20, bias=True)\n",
       "  (output_layer): Linear(in_features=20, out_features=10, bias=True)\n",
       ")"
      ]
     },
     "execution_count": 46,
     "metadata": {},
     "output_type": "execute_result"
    }
   ],
   "source": [
    "\n",
    "deeper_model \n"
   ]
  },
  {
   "cell_type": "code",
   "execution_count": 49,
   "id": "8ee2d4c1",
   "metadata": {
    "tags": []
   },
   "outputs": [
    {
     "name": "stdout",
     "output_type": "stream",
     "text": [
      "8280\n"
     ]
    }
   ],
   "source": [
    "deeper_model_params = count_parameters(deeper_model)\n",
    "print(deeper_model_params)"
   ]
  },
  {
   "cell_type": "code",
   "execution_count": 50,
   "id": "0366a76b",
   "metadata": {
    "tags": []
   },
   "outputs": [],
   "source": [
    "criterion_deeper_model = nn.CrossEntropyLoss()\n",
    "optimizer_deeper_model = torch.optim.Adam(deeper_model.parameters(), lr=0.001)"
   ]
  },
  {
   "cell_type": "code",
   "execution_count": 51,
   "id": "075d6385",
   "metadata": {
    "tags": []
   },
   "outputs": [
    {
     "name": "stdout",
     "output_type": "stream",
     "text": [
      "Epoch 1/30\n",
      "Training Accuracy: 30994/60000\n",
      "Testing Accuracy: 7907/10000\n",
      "Epoch 2/30\n",
      "Training Accuracy: 50373/60000\n",
      "Testing Accuracy: 8783/10000\n",
      "Epoch 3/30\n",
      "Training Accuracy: 53051/60000\n",
      "Testing Accuracy: 8981/10000\n",
      "Epoch 4/30\n",
      "Training Accuracy: 53931/60000\n",
      "Testing Accuracy: 9062/10000\n",
      "Epoch 5/30\n",
      "Training Accuracy: 54367/60000\n",
      "Testing Accuracy: 9097/10000\n",
      "Epoch 6/30\n",
      "Training Accuracy: 54698/60000\n",
      "Testing Accuracy: 9154/10000\n",
      "Epoch 7/30\n",
      "Training Accuracy: 54983/60000\n",
      "Testing Accuracy: 9181/10000\n",
      "Epoch 8/30\n",
      "Training Accuracy: 55237/60000\n",
      "Testing Accuracy: 9233/10000\n",
      "Epoch 9/30\n",
      "Training Accuracy: 55429/60000\n",
      "Testing Accuracy: 9258/10000\n",
      "Epoch 10/30\n",
      "Training Accuracy: 55629/60000\n",
      "Testing Accuracy: 9287/10000\n",
      "Epoch 11/30\n",
      "Training Accuracy: 55766/60000\n",
      "Testing Accuracy: 9307/10000\n",
      "Epoch 12/30\n",
      "Training Accuracy: 55866/60000\n",
      "Testing Accuracy: 9291/10000\n",
      "Epoch 13/30\n",
      "Training Accuracy: 55960/60000\n",
      "Testing Accuracy: 9341/10000\n",
      "Epoch 14/30\n",
      "Training Accuracy: 56016/60000\n",
      "Testing Accuracy: 9325/10000\n",
      "Epoch 15/30\n",
      "Training Accuracy: 56160/60000\n",
      "Testing Accuracy: 9349/10000\n",
      "Epoch 16/30\n",
      "Training Accuracy: 56209/60000\n",
      "Testing Accuracy: 9357/10000\n",
      "Epoch 17/30\n",
      "Training Accuracy: 56255/60000\n",
      "Testing Accuracy: 9367/10000\n",
      "Epoch 18/30\n",
      "Training Accuracy: 56341/60000\n",
      "Testing Accuracy: 9368/10000\n",
      "Epoch 19/30\n",
      "Training Accuracy: 56425/60000\n",
      "Testing Accuracy: 9355/10000\n",
      "Epoch 20/30\n",
      "Training Accuracy: 56445/60000\n",
      "Testing Accuracy: 9382/10000\n",
      "Epoch 21/30\n",
      "Training Accuracy: 56457/60000\n",
      "Testing Accuracy: 9414/10000\n",
      "Epoch 22/30\n",
      "Training Accuracy: 56534/60000\n",
      "Testing Accuracy: 9404/10000\n",
      "Epoch 23/30\n",
      "Training Accuracy: 56568/60000\n",
      "Testing Accuracy: 9406/10000\n",
      "Epoch 24/30\n",
      "Training Accuracy: 56609/60000\n",
      "Testing Accuracy: 9409/10000\n",
      "Epoch 25/30\n",
      "Training Accuracy: 56622/60000\n",
      "Testing Accuracy: 9398/10000\n",
      "Epoch 26/30\n",
      "Training Accuracy: 56686/60000\n",
      "Testing Accuracy: 9403/10000\n",
      "Epoch 27/30\n",
      "Training Accuracy: 56688/60000\n",
      "Testing Accuracy: 9421/10000\n",
      "Epoch 28/30\n",
      "Training Accuracy: 56749/60000\n",
      "Testing Accuracy: 9411/10000\n",
      "Epoch 29/30\n",
      "Training Accuracy: 56795/60000\n",
      "Testing Accuracy: 9420/10000\n",
      "Epoch 30/30\n",
      "Training Accuracy: 56791/60000\n",
      "Testing Accuracy: 9408/10000\n"
     ]
    }
   ],
   "source": [
    "num_epochs = 30\n",
    "train_accuracy_mod3 = []\n",
    "test_accuracy_mod3 = []\n",
    "\n",
    "for epoch in range(num_epochs):\n",
    "    correct_train = 0\n",
    "    correct_test = 0\n",
    "    \n",
    "    print(f\"Epoch {epoch+1}/{num_epochs}\")\n",
    "    \n",
    "    for batch_idx, (X_batch_train, y_batch_train) in enumerate(train_data_loader):\n",
    "        predictions_train = deeper_model(X_batch_train.view(500, -1))  \n",
    "        loss_train = criterion_deeper_model(predictions_train, y_batch_train)\n",
    "\n",
    "        predicted_labels_train = torch.max(predictions_train.data, 1)[1]\n",
    "        correct_batch_train = (predicted_labels_train == y_batch_train).sum()\n",
    "        correct_train += correct_batch_train\n",
    "\n",
    "        optimizer_deeper_model.zero_grad()\n",
    "        loss_train.backward()\n",
    "        optimizer_deeper_model.step()\n",
    "        \n",
    "    train_loss_mod3 = loss_train\n",
    "    train_accuracy_mod3.append(correct_train)\n",
    "        \n",
    "    with torch.no_grad():\n",
    "        for batch_idx, (X_batch_test, y_batch_test) in enumerate(test_data_loader):\n",
    "            predictions_test = deeper_model(X_batch_test.view(100, -1))\n",
    "            predicted_labels_test = torch.max(predictions_test.data, 1)[1] \n",
    "            correct_test += (predicted_labels_test == y_batch_test).sum()\n",
    "    \n",
    "    test_loss_mod3 = criterion_deeper_model(predictions_test, y_batch_test)\n",
    "    test_accuracy_mod3.append(correct_test)\n",
    "    \n",
    "    print(f\"Training Accuracy: {correct_train}/{len(train_data_loader.dataset)}\")\n",
    "    print(f\"Testing Accuracy: {correct_test}/{len(test_data_loader.dataset)}\")\n"
   ]
  },
  {
   "cell_type": "code",
   "execution_count": 52,
   "id": "8b92ea4b",
   "metadata": {
    "tags": []
   },
   "outputs": [],
   "source": [
    "train_losses_mod3 = train_loss_mod3.detach().cpu().numpy()"
   ]
  },
  {
   "cell_type": "code",
   "execution_count": 151,
   "id": "d8f84770",
   "metadata": {
    "tags": []
   },
   "outputs": [
    {
     "name": "stdout",
     "output_type": "stream",
     "text": [
      "tensor(51.6567)\n",
      "tensor(83.9550)\n",
      "tensor(88.4183)\n",
      "tensor(89.8850)\n",
      "tensor(90.6117)\n",
      "tensor(91.1633)\n",
      "tensor(91.6383)\n",
      "tensor(92.0617)\n",
      "tensor(92.3817)\n",
      "tensor(92.7150)\n",
      "tensor(92.9433)\n",
      "tensor(93.1100)\n",
      "tensor(93.2667)\n",
      "tensor(93.3600)\n",
      "tensor(93.6000)\n",
      "tensor(93.6817)\n",
      "tensor(93.7583)\n",
      "tensor(93.9017)\n",
      "tensor(94.0417)\n",
      "tensor(94.0750)\n",
      "tensor(94.0950)\n",
      "tensor(94.2233)\n",
      "tensor(94.2800)\n",
      "tensor(94.3483)\n",
      "tensor(94.3700)\n",
      "tensor(94.4767)\n",
      "tensor(94.4800)\n",
      "tensor(94.5817)\n",
      "tensor(94.6583)\n",
      "tensor(94.6517)\n"
     ]
    }
   ],
   "source": [
    "# Calculate and print the training accuracy for Model3.\n",
    "for correct_train in train_accuracy_mod3:\n",
    "    trn_accu_mod3 = correct_train / 600  \n",
    "    print(trn_accu_mod3)\n"
   ]
  },
  {
   "cell_type": "code",
   "execution_count": 152,
   "id": "8d541b91",
   "metadata": {
    "tags": []
   },
   "outputs": [
    {
     "name": "stdout",
     "output_type": "stream",
     "text": [
      "tensor(79.0700)\n",
      "tensor(87.8300)\n",
      "tensor(89.8100)\n",
      "tensor(90.6200)\n",
      "tensor(90.9700)\n",
      "tensor(91.5400)\n",
      "tensor(91.8100)\n",
      "tensor(92.3300)\n",
      "tensor(92.5800)\n",
      "tensor(92.8700)\n",
      "tensor(93.0700)\n",
      "tensor(92.9100)\n",
      "tensor(93.4100)\n",
      "tensor(93.2500)\n",
      "tensor(93.4900)\n",
      "tensor(93.5700)\n",
      "tensor(93.6700)\n",
      "tensor(93.6800)\n",
      "tensor(93.5500)\n",
      "tensor(93.8200)\n",
      "tensor(94.1400)\n",
      "tensor(94.0400)\n",
      "tensor(94.0600)\n",
      "tensor(94.0900)\n",
      "tensor(93.9800)\n",
      "tensor(94.0300)\n",
      "tensor(94.2100)\n",
      "tensor(94.1100)\n",
      "tensor(94.2000)\n",
      "tensor(94.0800)\n"
     ]
    }
   ],
   "source": [
    "for correct_test in test_accuracy_mod3:\n",
    "    tst_accu_mod3 = correct_test /100 \n",
    "    print(tst_accu_mod3)"
   ]
  },
  {
   "cell_type": "code",
   "execution_count": null,
   "id": "a6b7c8be",
   "metadata": {},
   "outputs": [],
   "source": []
  },
  {
   "cell_type": "code",
   "execution_count": null,
   "id": "b471bbf5",
   "metadata": {},
   "outputs": [],
   "source": []
  },
  {
   "cell_type": "code",
   "execution_count": 56,
   "id": "6723e551",
   "metadata": {},
   "outputs": [],
   "source": [
    "#######################################----------Model-4------------#####################################################################"
   ]
  },
  {
   "cell_type": "code",
   "execution_count": 56,
   "id": "ee728004",
   "metadata": {
    "tags": []
   },
   "outputs": [],
   "source": [
    "# Neural network model with 16950 parameters\n",
    "class LargerModel4(nn.Module):\n",
    "    def __init__(self, input_size=784, hidden_layer1=20, hidden_layer2=40, output_size=10):\n",
    "        super(LargerModel4, self).__init__()\n",
    "        self.layer1 = nn.Linear(input_size, hidden_layer1)\n",
    "        self.layer2 = nn.Linear(hidden_layer1, hidden_layer2)\n",
    "        self.output_layer = nn.Linear(hidden_layer2, output_size)\n",
    "        \n",
    "    def forward(self, x):\n",
    "        x = F.relu(self.layer1(x))\n",
    "        x = F.relu(self.layer2(x))\n",
    "        x = self.output_layer(x)\n",
    "        return x\n"
   ]
  },
  {
   "cell_type": "code",
   "execution_count": 57,
   "id": "a29c17e9",
   "metadata": {
    "tags": []
   },
   "outputs": [],
   "source": [
    "# Instantiate larger Model4.\n",
    "larger_model4 = LargerModel4()\n"
   ]
  },
  {
   "cell_type": "code",
   "execution_count": 58,
   "id": "6221710e",
   "metadata": {
    "tags": []
   },
   "outputs": [
    {
     "data": {
      "text/plain": [
       "LargerModel4(\n",
       "  (layer1): Linear(in_features=784, out_features=20, bias=True)\n",
       "  (layer2): Linear(in_features=20, out_features=40, bias=True)\n",
       "  (output_layer): Linear(in_features=40, out_features=10, bias=True)\n",
       ")"
      ]
     },
     "execution_count": 58,
     "metadata": {},
     "output_type": "execute_result"
    }
   ],
   "source": [
    "larger_model4"
   ]
  },
  {
   "cell_type": "code",
   "execution_count": 59,
   "id": "bbedf321",
   "metadata": {
    "tags": []
   },
   "outputs": [
    {
     "name": "stdout",
     "output_type": "stream",
     "text": [
      "16950\n"
     ]
    }
   ],
   "source": [
    "larger_model4_params = count_parameters(larger_model4)\n",
    "print(larger_model4_params)"
   ]
  },
  {
   "cell_type": "code",
   "execution_count": 60,
   "id": "48f51f23",
   "metadata": {
    "tags": []
   },
   "outputs": [],
   "source": [
    "criterion_larger_model4 = nn.CrossEntropyLoss()\n",
    "optimizer_larger_model4 = torch.optim.Adam(larger_model4.parameters(), lr=0.001)"
   ]
  },
  {
   "cell_type": "code",
   "execution_count": 62,
   "id": "7d49fcb8",
   "metadata": {
    "tags": []
   },
   "outputs": [
    {
     "name": "stdout",
     "output_type": "stream",
     "text": [
      "Epoch 1/30\n",
      "Training Accuracy: 39941/60000\n",
      "Testing Accuracy: 8690/10000\n",
      "Epoch 2/30\n",
      "Training Accuracy: 53385/60000\n",
      "Testing Accuracy: 9099/10000\n",
      "Epoch 3/30\n",
      "Training Accuracy: 54713/60000\n",
      "Testing Accuracy: 9211/10000\n",
      "Epoch 4/30\n",
      "Training Accuracy: 55257/60000\n",
      "Testing Accuracy: 9273/10000\n",
      "Epoch 5/30\n",
      "Training Accuracy: 55620/60000\n",
      "Testing Accuracy: 9313/10000\n",
      "Epoch 6/30\n",
      "Training Accuracy: 55924/60000\n",
      "Testing Accuracy: 9366/10000\n",
      "Epoch 7/30\n",
      "Training Accuracy: 56209/60000\n",
      "Testing Accuracy: 9376/10000\n",
      "Epoch 8/30\n",
      "Training Accuracy: 56461/60000\n",
      "Testing Accuracy: 9397/10000\n",
      "Epoch 9/30\n",
      "Training Accuracy: 56602/60000\n",
      "Testing Accuracy: 9434/10000\n",
      "Epoch 10/30\n",
      "Training Accuracy: 56767/60000\n",
      "Testing Accuracy: 9444/10000\n",
      "Epoch 11/30\n",
      "Training Accuracy: 56872/60000\n",
      "Testing Accuracy: 9452/10000\n",
      "Epoch 12/30\n",
      "Training Accuracy: 57009/60000\n",
      "Testing Accuracy: 9471/10000\n",
      "Epoch 13/30\n",
      "Training Accuracy: 57159/60000\n",
      "Testing Accuracy: 9484/10000\n",
      "Epoch 14/30\n",
      "Training Accuracy: 57289/60000\n",
      "Testing Accuracy: 9499/10000\n",
      "Epoch 15/30\n",
      "Training Accuracy: 57354/60000\n",
      "Testing Accuracy: 9519/10000\n",
      "Epoch 16/30\n",
      "Training Accuracy: 57436/60000\n",
      "Testing Accuracy: 9525/10000\n",
      "Epoch 17/30\n",
      "Training Accuracy: 57506/60000\n",
      "Testing Accuracy: 9536/10000\n",
      "Epoch 18/30\n",
      "Training Accuracy: 57584/60000\n",
      "Testing Accuracy: 9543/10000\n",
      "Epoch 19/30\n",
      "Training Accuracy: 57606/60000\n",
      "Testing Accuracy: 9533/10000\n",
      "Epoch 20/30\n",
      "Training Accuracy: 57670/60000\n",
      "Testing Accuracy: 9546/10000\n",
      "Epoch 21/30\n",
      "Training Accuracy: 57772/60000\n",
      "Testing Accuracy: 9569/10000\n",
      "Epoch 22/30\n",
      "Training Accuracy: 57758/60000\n",
      "Testing Accuracy: 9556/10000\n",
      "Epoch 23/30\n",
      "Training Accuracy: 57811/60000\n",
      "Testing Accuracy: 9560/10000\n",
      "Epoch 24/30\n",
      "Training Accuracy: 57909/60000\n",
      "Testing Accuracy: 9582/10000\n",
      "Epoch 25/30\n",
      "Training Accuracy: 57976/60000\n",
      "Testing Accuracy: 9579/10000\n",
      "Epoch 26/30\n",
      "Training Accuracy: 58012/60000\n",
      "Testing Accuracy: 9576/10000\n",
      "Epoch 27/30\n",
      "Training Accuracy: 58080/60000\n",
      "Testing Accuracy: 9580/10000\n",
      "Epoch 28/30\n",
      "Training Accuracy: 58091/60000\n",
      "Testing Accuracy: 9591/10000\n",
      "Epoch 29/30\n",
      "Training Accuracy: 58138/60000\n",
      "Testing Accuracy: 9592/10000\n",
      "Epoch 30/30\n",
      "Training Accuracy: 58156/60000\n",
      "Testing Accuracy: 9602/10000\n"
     ]
    }
   ],
   "source": [
    "# Set the number of epochs\n",
    "num_epochs = 30\n",
    "train_accuracy_mod4 = []\n",
    "test_accuracy_mod4 = []\n",
    "\n",
    "for epoch in range(num_epochs):\n",
    "    correct_train = 0\n",
    "    correct_test = 0\n",
    "\n",
    "    # Print the current epoch\n",
    "    print(f\"Epoch {epoch+1}/{num_epochs}\")\n",
    "    \n",
    "    for batch_idx, (X_batch_train, y_batch_train) in enumerate(train_data_loader):\n",
    "        predictions_train = larger_model4(X_batch_train.view(500, -1))  \n",
    "        loss_train = criterion_larger_model4(predictions_train, y_batch_train)\n",
    "\n",
    "        predicted_labels_train = torch.max(predictions_train.data, 1)[1]\n",
    "        correct_batch_train = (predicted_labels_train == y_batch_train).sum()\n",
    "        correct_train += correct_batch_train\n",
    "\n",
    "        optimizer_larger_model4.zero_grad()\n",
    "        loss_train.backward()\n",
    "        optimizer_larger_model4.step()\n",
    "\n",
    "    train_loss_mod4 = loss_train\n",
    "    train_accuracy_mod4.append(correct_train)\n",
    "\n",
    "    with torch.no_grad():\n",
    "        for batch_idx, (X_batch_test, y_batch_test) in enumerate(test_data_loader):\n",
    "            predictions_test = larger_model4(X_batch_test.view(100, -1))\n",
    "\n",
    "            predicted_labels_test = torch.max(predictions_test.data, 1)[1]\n",
    "            correct_test += (predicted_labels_test == y_batch_test).sum()\n",
    "\n",
    "    test_loss_mod4 = criterion_larger_model4(predictions_test, y_batch_test)\n",
    "    test_accuracy_mod4.append(correct_test)\n",
    "\n",
    "    print(f\"Training Accuracy: {correct_train}/{len(train_data_loader.dataset)}\")\n",
    "    print(f\"Testing Accuracy: {correct_test}/{len(test_data_loader.dataset)}\")\n"
   ]
  },
  {
   "cell_type": "code",
   "execution_count": 63,
   "id": "1bb02ed4",
   "metadata": {
    "tags": []
   },
   "outputs": [],
   "source": [
    "train_loss_mod4 = train_loss_mod4.detach().cpu().numpy()"
   ]
  },
  {
   "cell_type": "code",
   "execution_count": 153,
   "id": "e29a8d3b",
   "metadata": {
    "tags": []
   },
   "outputs": [
    {
     "name": "stdout",
     "output_type": "stream",
     "text": [
      "tensor(66.5683)\n",
      "tensor(88.9750)\n",
      "tensor(91.1883)\n",
      "tensor(92.0950)\n",
      "tensor(92.7000)\n",
      "tensor(93.2067)\n",
      "tensor(93.6817)\n",
      "tensor(94.1017)\n",
      "tensor(94.3367)\n",
      "tensor(94.6117)\n",
      "tensor(94.7867)\n",
      "tensor(95.0150)\n",
      "tensor(95.2650)\n",
      "tensor(95.4817)\n",
      "tensor(95.5900)\n",
      "tensor(95.7267)\n",
      "tensor(95.8433)\n",
      "tensor(95.9733)\n",
      "tensor(96.0100)\n",
      "tensor(96.1167)\n",
      "tensor(96.2867)\n",
      "tensor(96.2633)\n",
      "tensor(96.3517)\n",
      "tensor(96.5150)\n",
      "tensor(96.6267)\n",
      "tensor(96.6867)\n",
      "tensor(96.8000)\n",
      "tensor(96.8183)\n",
      "tensor(96.8967)\n",
      "tensor(96.9267)\n"
     ]
    }
   ],
   "source": [
    "for correct_train in train_accuracy_mod4:\n",
    "    trn_accu_mod4 = correct_train / 600  # Use the actual size of the dataset\n",
    "    print(trn_accu_mod4)"
   ]
  },
  {
   "cell_type": "code",
   "execution_count": 154,
   "id": "b475d279",
   "metadata": {
    "tags": []
   },
   "outputs": [
    {
     "name": "stdout",
     "output_type": "stream",
     "text": [
      "tensor(86.9000)\n",
      "tensor(90.9900)\n",
      "tensor(92.1100)\n",
      "tensor(92.7300)\n",
      "tensor(93.1300)\n",
      "tensor(93.6600)\n",
      "tensor(93.7600)\n",
      "tensor(93.9700)\n",
      "tensor(94.3400)\n",
      "tensor(94.4400)\n",
      "tensor(94.5200)\n",
      "tensor(94.7100)\n",
      "tensor(94.8400)\n",
      "tensor(94.9900)\n",
      "tensor(95.1900)\n",
      "tensor(95.2500)\n",
      "tensor(95.3600)\n",
      "tensor(95.4300)\n",
      "tensor(95.3300)\n",
      "tensor(95.4600)\n",
      "tensor(95.6900)\n",
      "tensor(95.5600)\n",
      "tensor(95.6000)\n",
      "tensor(95.8200)\n",
      "tensor(95.7900)\n",
      "tensor(95.7600)\n",
      "tensor(95.8000)\n",
      "tensor(95.9100)\n",
      "tensor(95.9200)\n",
      "tensor(96.0200)\n"
     ]
    }
   ],
   "source": [
    "for correct_test in test_accuracy_mod4:\n",
    "    tst_accu_mod4 = correct_test / 100  # Use the actual size of the test dataset\n",
    "    print(tst_accu_mod4)\n"
   ]
  },
  {
   "cell_type": "code",
   "execution_count": null,
   "id": "0f85dc4b",
   "metadata": {},
   "outputs": [],
   "source": []
  },
  {
   "cell_type": "code",
   "execution_count": null,
   "id": "d3327b8a",
   "metadata": {},
   "outputs": [],
   "source": []
  },
  {
   "cell_type": "code",
   "execution_count": 66,
   "id": "ff78e8aa",
   "metadata": {},
   "outputs": [],
   "source": [
    "#######################################----------Model-5------------#####################################################################"
   ]
  },
  {
   "cell_type": "code",
   "execution_count": 68,
   "id": "b39b789e",
   "metadata": {
    "tags": []
   },
   "outputs": [],
   "source": [
    "class ComplexModel5(nn.Module):\n",
    "    def __init__(self, input_size=784, hidden_layer1=50, hidden_layer2=80, output_size=10):\n",
    "        super(ComplexModel5, self).__init__()\n",
    "        self.layer1 = nn.Linear(input_size, hidden_layer1)\n",
    "        self.layer2 = nn.Linear(hidden_layer1, hidden_layer2)\n",
    "        self.output_layer = nn.Linear(hidden_layer2, output_size)\n",
    "        \n",
    "    def forward(self, x):\n",
    "        x = F.relu(self.layer1(x))\n",
    "        x = F.relu(self.layer2(x))\n",
    "        x = self.output_layer(x)\n",
    "        return x"
   ]
  },
  {
   "cell_type": "code",
   "execution_count": 69,
   "id": "7584e3ad",
   "metadata": {
    "tags": []
   },
   "outputs": [],
   "source": [
    "complex_model5 = ComplexModel5()"
   ]
  },
  {
   "cell_type": "code",
   "execution_count": 70,
   "id": "0257cbb0",
   "metadata": {
    "tags": []
   },
   "outputs": [
    {
     "data": {
      "text/plain": [
       "ComplexModel5(\n",
       "  (layer1): Linear(in_features=784, out_features=50, bias=True)\n",
       "  (layer2): Linear(in_features=50, out_features=80, bias=True)\n",
       "  (output_layer): Linear(in_features=80, out_features=10, bias=True)\n",
       ")"
      ]
     },
     "execution_count": 70,
     "metadata": {},
     "output_type": "execute_result"
    }
   ],
   "source": [
    "complex_model5"
   ]
  },
  {
   "cell_type": "code",
   "execution_count": 72,
   "id": "eecde4b6",
   "metadata": {
    "tags": []
   },
   "outputs": [
    {
     "name": "stdout",
     "output_type": "stream",
     "text": [
      "44140\n"
     ]
    }
   ],
   "source": [
    "\n",
    "complex_model5_params = count_parameters(complex_model5)\n",
    "print(complex_model5_params)\n"
   ]
  },
  {
   "cell_type": "code",
   "execution_count": 74,
   "id": "c06cde89",
   "metadata": {
    "tags": []
   },
   "outputs": [],
   "source": [
    "criterion5 = nn.CrossEntropyLoss()\n",
    "optimizer5 = torch.optim.Adam(complex_model5.parameters(), lr=0.001)"
   ]
  },
  {
   "cell_type": "code",
   "execution_count": 75,
   "id": "7c5772e0",
   "metadata": {
    "tags": []
   },
   "outputs": [
    {
     "name": "stdout",
     "output_type": "stream",
     "text": [
      "Epoch 1/30\n",
      "Training Accuracy: 46398/60000\n",
      "Testing Accuracy: 9060/10000\n",
      "Epoch 2/30\n",
      "Training Accuracy: 54828/60000\n",
      "Testing Accuracy: 9281/10000\n",
      "Epoch 3/30\n",
      "Training Accuracy: 55865/60000\n",
      "Testing Accuracy: 9362/10000\n",
      "Epoch 4/30\n",
      "Training Accuracy: 56434/60000\n",
      "Testing Accuracy: 9443/10000\n",
      "Epoch 5/30\n",
      "Training Accuracy: 56883/60000\n",
      "Testing Accuracy: 9468/10000\n",
      "Epoch 6/30\n",
      "Training Accuracy: 57247/60000\n",
      "Testing Accuracy: 9527/10000\n",
      "Epoch 7/30\n",
      "Training Accuracy: 57513/60000\n",
      "Testing Accuracy: 9561/10000\n",
      "Epoch 8/30\n",
      "Training Accuracy: 57676/60000\n",
      "Testing Accuracy: 9577/10000\n",
      "Epoch 9/30\n",
      "Training Accuracy: 57920/60000\n",
      "Testing Accuracy: 9605/10000\n",
      "Epoch 10/30\n",
      "Training Accuracy: 58099/60000\n",
      "Testing Accuracy: 9613/10000\n",
      "Epoch 11/30\n",
      "Training Accuracy: 58243/60000\n",
      "Testing Accuracy: 9645/10000\n",
      "Epoch 12/30\n",
      "Training Accuracy: 58369/60000\n",
      "Testing Accuracy: 9652/10000\n",
      "Epoch 13/30\n",
      "Training Accuracy: 58497/60000\n",
      "Testing Accuracy: 9651/10000\n",
      "Epoch 14/30\n",
      "Training Accuracy: 58572/60000\n",
      "Testing Accuracy: 9666/10000\n",
      "Epoch 15/30\n",
      "Training Accuracy: 58690/60000\n",
      "Testing Accuracy: 9672/10000\n",
      "Epoch 16/30\n",
      "Training Accuracy: 58783/60000\n",
      "Testing Accuracy: 9677/10000\n",
      "Epoch 17/30\n",
      "Training Accuracy: 58838/60000\n",
      "Testing Accuracy: 9691/10000\n",
      "Epoch 18/30\n",
      "Training Accuracy: 58949/60000\n",
      "Testing Accuracy: 9706/10000\n",
      "Epoch 19/30\n",
      "Training Accuracy: 58983/60000\n",
      "Testing Accuracy: 9703/10000\n",
      "Epoch 20/30\n",
      "Training Accuracy: 59040/60000\n",
      "Testing Accuracy: 9700/10000\n",
      "Epoch 21/30\n",
      "Training Accuracy: 59108/60000\n",
      "Testing Accuracy: 9719/10000\n",
      "Epoch 22/30\n",
      "Training Accuracy: 59152/60000\n",
      "Testing Accuracy: 9724/10000\n",
      "Epoch 23/30\n",
      "Training Accuracy: 59219/60000\n",
      "Testing Accuracy: 9712/10000\n",
      "Epoch 24/30\n",
      "Training Accuracy: 59313/60000\n",
      "Testing Accuracy: 9740/10000\n",
      "Epoch 25/30\n",
      "Training Accuracy: 59312/60000\n",
      "Testing Accuracy: 9728/10000\n",
      "Epoch 26/30\n",
      "Training Accuracy: 59352/60000\n",
      "Testing Accuracy: 9734/10000\n",
      "Epoch 27/30\n",
      "Training Accuracy: 59408/60000\n",
      "Testing Accuracy: 9719/10000\n",
      "Epoch 28/30\n",
      "Training Accuracy: 59453/60000\n",
      "Testing Accuracy: 9732/10000\n",
      "Epoch 29/30\n",
      "Training Accuracy: 59478/60000\n",
      "Testing Accuracy: 9721/10000\n",
      "Epoch 30/30\n",
      "Training Accuracy: 59506/60000\n",
      "Testing Accuracy: 9735/10000\n"
     ]
    }
   ],
   "source": [
    "num_epochs = 30\n",
    "train_accuracy_mod5 = []\n",
    "test_accuracy_mod5 = []\n",
    "\n",
    "for epoch in range(num_epochs):\n",
    "    correct_train = 0\n",
    "    correct_test = 0\n",
    "\n",
    "    print(f\"Epoch {epoch+1}/{num_epochs}\")\n",
    "    \n",
    "    for batch_idx, (X_batch_train, y_batch_train) in enumerate(train_data_loader):\n",
    "        predictions_train = complex_model5(X_batch_train.view(500, -1))  \n",
    "        loss_train = criterion5(predictions_train, y_batch_train)\n",
    "\n",
    "        predicted_labels_train = torch.max(predictions_train.data, 1)[1]\n",
    "        correct_batch_train = (predicted_labels_train == y_batch_train).sum()\n",
    "        correct_train += correct_batch_train\n",
    "\n",
    "        optimizer5.zero_grad()\n",
    "        loss_train.backward()\n",
    "        optimizer5.step()\n",
    "        \n",
    "    train_loss_mod5 = loss_train\n",
    "    train_accuracy_mod5.append(correct_train)\n",
    "    \n",
    "    with torch.no_grad():\n",
    "        for batch_idx, (X_batch_test, y_batch_test) in enumerate(test_data_loader):\n",
    "            predictions_test = complex_model5(X_batch_test.view(100, -1))\n",
    "\n",
    "            predicted_labels_test = torch.max(predictions_test.data, 1)[1]\n",
    "            correct_test += (predicted_labels_test == y_batch_test).sum()\n",
    "    \n",
    "    test_loss_mod5 = criterion5(predictions_test, y_batch_test)\n",
    "    test_accuracy_mod5.append(correct_test)\n",
    "\n",
    "    print(f\"Training Accuracy: {correct_train}/{len(train_data_loader.dataset)}\")\n",
    "    print(f\"Testing Accuracy: {correct_test}/{len(test_data_loader.dataset)}\")\n"
   ]
  },
  {
   "cell_type": "code",
   "execution_count": 79,
   "id": "f9c43274",
   "metadata": {
    "tags": []
   },
   "outputs": [],
   "source": [
    "train_loss_mod5 = loss_train  # loss_train should be a tensor\n",
    "train_loss_mod5 = train_loss_mod5.detach().cpu().numpy()\n"
   ]
  },
  {
   "cell_type": "code",
   "execution_count": 155,
   "id": "2be4fb89",
   "metadata": {
    "tags": []
   },
   "outputs": [
    {
     "name": "stdout",
     "output_type": "stream",
     "text": [
      "tensor(77.3300)\n",
      "tensor(91.3800)\n",
      "tensor(93.1083)\n",
      "tensor(94.0567)\n",
      "tensor(94.8050)\n",
      "tensor(95.4117)\n",
      "tensor(95.8550)\n",
      "tensor(96.1267)\n",
      "tensor(96.5333)\n",
      "tensor(96.8317)\n",
      "tensor(97.0717)\n",
      "tensor(97.2817)\n",
      "tensor(97.4950)\n",
      "tensor(97.6200)\n",
      "tensor(97.8167)\n",
      "tensor(97.9717)\n",
      "tensor(98.0633)\n",
      "tensor(98.2483)\n",
      "tensor(98.3050)\n",
      "tensor(98.4000)\n",
      "tensor(98.5133)\n",
      "tensor(98.5867)\n",
      "tensor(98.6983)\n",
      "tensor(98.8550)\n",
      "tensor(98.8533)\n",
      "tensor(98.9200)\n",
      "tensor(99.0133)\n",
      "tensor(99.0883)\n",
      "tensor(99.1300)\n",
      "tensor(99.1767)\n"
     ]
    }
   ],
   "source": [
    "\n",
    "for correct_train in train_accuracy_mod5:\n",
    "    trn_accu_mod5 = correct_train / 600  \n",
    "    print(trn_accu_mod5)\n"
   ]
  },
  {
   "cell_type": "code",
   "execution_count": 157,
   "id": "f7e134cc",
   "metadata": {
    "tags": []
   },
   "outputs": [
    {
     "name": "stdout",
     "output_type": "stream",
     "text": [
      "tensor(90.6000)\n",
      "tensor(92.8100)\n",
      "tensor(93.6200)\n",
      "tensor(94.4300)\n",
      "tensor(94.6800)\n",
      "tensor(95.2700)\n",
      "tensor(95.6100)\n",
      "tensor(95.7700)\n",
      "tensor(96.0500)\n",
      "tensor(96.1300)\n",
      "tensor(96.4500)\n",
      "tensor(96.5200)\n",
      "tensor(96.5100)\n",
      "tensor(96.6600)\n",
      "tensor(96.7200)\n",
      "tensor(96.7700)\n",
      "tensor(96.9100)\n",
      "tensor(97.0600)\n",
      "tensor(97.0300)\n",
      "tensor(97.)\n",
      "tensor(97.1900)\n",
      "tensor(97.2400)\n",
      "tensor(97.1200)\n",
      "tensor(97.4000)\n",
      "tensor(97.2800)\n",
      "tensor(97.3400)\n",
      "tensor(97.1900)\n",
      "tensor(97.3200)\n",
      "tensor(97.2100)\n",
      "tensor(97.3500)\n"
     ]
    }
   ],
   "source": [
    "for correct_test in test_accuracy_mod5:\n",
    "    tst_accu_mod5 = correct_test / 100  \n",
    "    print(tst_accu_mod5)"
   ]
  },
  {
   "cell_type": "code",
   "execution_count": null,
   "id": "ee3afe68",
   "metadata": {},
   "outputs": [],
   "source": []
  },
  {
   "cell_type": "code",
   "execution_count": null,
   "id": "48dcb6cc",
   "metadata": {},
   "outputs": [],
   "source": []
  },
  {
   "cell_type": "code",
   "execution_count": 76,
   "id": "c5c9bc16",
   "metadata": {},
   "outputs": [],
   "source": [
    "#######################################----------Model-6------------#####################################################################"
   ]
  },
  {
   "cell_type": "code",
   "execution_count": 82,
   "id": "f402f879",
   "metadata": {
    "tags": []
   },
   "outputs": [],
   "source": [
    "# Neural network model with 44,140 parameters\n",
    "class LargeModel6(nn.Module):\n",
    "    def __init__(self, input_size=784, hidden_layer1=100, hidden_layer2=120, output_size=10):\n",
    "        super(LargeModel6, self).__init__()\n",
    "        self.layer1 = nn.Linear(input_size, hidden_layer1)\n",
    "        self.layer2 = nn.Linear(hidden_layer1, hidden_layer2)\n",
    "        self.output_layer = nn.Linear(hidden_layer2, output_size)\n",
    "        \n",
    "    def forward(self, x):\n",
    "        x = F.relu(self.layer1(x))\n",
    "        x = F.relu(self.layer2(x))\n",
    "        x = self.output_layer(x)\n",
    "        return x\n"
   ]
  },
  {
   "cell_type": "code",
   "execution_count": 83,
   "id": "49c24c8f",
   "metadata": {
    "tags": []
   },
   "outputs": [],
   "source": [
    "\n",
    "large_model6 = LargeModel6()\n"
   ]
  },
  {
   "cell_type": "code",
   "execution_count": 84,
   "id": "da0ab1a2",
   "metadata": {
    "tags": []
   },
   "outputs": [
    {
     "data": {
      "text/plain": [
       "LargeModel6(\n",
       "  (layer1): Linear(in_features=784, out_features=100, bias=True)\n",
       "  (layer2): Linear(in_features=100, out_features=120, bias=True)\n",
       "  (output_layer): Linear(in_features=120, out_features=10, bias=True)\n",
       ")"
      ]
     },
     "execution_count": 84,
     "metadata": {},
     "output_type": "execute_result"
    }
   ],
   "source": [
    "large_model6"
   ]
  },
  {
   "cell_type": "code",
   "execution_count": 85,
   "id": "3b1ebc00",
   "metadata": {
    "tags": []
   },
   "outputs": [
    {
     "name": "stdout",
     "output_type": "stream",
     "text": [
      "91830\n"
     ]
    }
   ],
   "source": [
    "large_model6_params = count_parameters(large_model6)\n",
    "print(large_model6_params)"
   ]
  },
  {
   "cell_type": "code",
   "execution_count": 87,
   "id": "312da79d",
   "metadata": {
    "tags": []
   },
   "outputs": [],
   "source": [
    "criterion_large_model6 = nn.CrossEntropyLoss()\n",
    "optimizer_large_model6 = torch.optim.Adam(large_model6.parameters(), lr=0.001)"
   ]
  },
  {
   "cell_type": "code",
   "execution_count": 88,
   "id": "c68f969b",
   "metadata": {
    "tags": []
   },
   "outputs": [
    {
     "name": "stdout",
     "output_type": "stream",
     "text": [
      "Epoch 1/30\n",
      "Training Accuracy: 49209/60000\n",
      "Testing Accuracy: 9143/10000\n",
      "Epoch 2/30\n",
      "Training Accuracy: 55386/60000\n",
      "Testing Accuracy: 9340/10000\n",
      "Epoch 3/30\n",
      "Training Accuracy: 56364/60000\n",
      "Testing Accuracy: 9463/10000\n",
      "Epoch 4/30\n",
      "Training Accuracy: 57088/60000\n",
      "Testing Accuracy: 9534/10000\n",
      "Epoch 5/30\n",
      "Training Accuracy: 57540/60000\n",
      "Testing Accuracy: 9601/10000\n",
      "Epoch 6/30\n",
      "Training Accuracy: 57905/60000\n",
      "Testing Accuracy: 9631/10000\n",
      "Epoch 7/30\n",
      "Training Accuracy: 58146/60000\n",
      "Testing Accuracy: 9677/10000\n",
      "Epoch 8/30\n",
      "Training Accuracy: 58409/60000\n",
      "Testing Accuracy: 9693/10000\n",
      "Epoch 9/30\n",
      "Training Accuracy: 58633/60000\n",
      "Testing Accuracy: 9702/10000\n",
      "Epoch 10/30\n",
      "Training Accuracy: 58749/60000\n",
      "Testing Accuracy: 9708/10000\n",
      "Epoch 11/30\n",
      "Training Accuracy: 58858/60000\n",
      "Testing Accuracy: 9751/10000\n",
      "Epoch 12/30\n",
      "Training Accuracy: 59008/60000\n",
      "Testing Accuracy: 9748/10000\n",
      "Epoch 13/30\n",
      "Training Accuracy: 59093/60000\n",
      "Testing Accuracy: 9712/10000\n",
      "Epoch 14/30\n",
      "Training Accuracy: 59176/60000\n",
      "Testing Accuracy: 9732/10000\n",
      "Epoch 15/30\n",
      "Training Accuracy: 59257/60000\n",
      "Testing Accuracy: 9763/10000\n",
      "Epoch 16/30\n",
      "Training Accuracy: 59372/60000\n",
      "Testing Accuracy: 9768/10000\n",
      "Epoch 17/30\n",
      "Training Accuracy: 59423/60000\n",
      "Testing Accuracy: 9752/10000\n",
      "Epoch 18/30\n",
      "Training Accuracy: 59526/60000\n",
      "Testing Accuracy: 9776/10000\n",
      "Epoch 19/30\n",
      "Training Accuracy: 59561/60000\n",
      "Testing Accuracy: 9779/10000\n",
      "Epoch 20/30\n",
      "Training Accuracy: 59634/60000\n",
      "Testing Accuracy: 9783/10000\n",
      "Epoch 21/30\n",
      "Training Accuracy: 59651/60000\n",
      "Testing Accuracy: 9770/10000\n",
      "Epoch 22/30\n",
      "Training Accuracy: 59717/60000\n",
      "Testing Accuracy: 9740/10000\n",
      "Epoch 23/30\n",
      "Training Accuracy: 59757/60000\n",
      "Testing Accuracy: 9748/10000\n",
      "Epoch 24/30\n",
      "Training Accuracy: 59748/60000\n",
      "Testing Accuracy: 9730/10000\n",
      "Epoch 25/30\n",
      "Training Accuracy: 59809/60000\n",
      "Testing Accuracy: 9764/10000\n",
      "Epoch 26/30\n",
      "Training Accuracy: 59837/60000\n",
      "Testing Accuracy: 9774/10000\n",
      "Epoch 27/30\n",
      "Training Accuracy: 59866/60000\n",
      "Testing Accuracy: 9756/10000\n",
      "Epoch 28/30\n",
      "Training Accuracy: 59895/60000\n",
      "Testing Accuracy: 9757/10000\n",
      "Epoch 29/30\n",
      "Training Accuracy: 59900/60000\n",
      "Testing Accuracy: 9765/10000\n",
      "Epoch 30/30\n",
      "Training Accuracy: 59932/60000\n",
      "Testing Accuracy: 9769/10000\n"
     ]
    }
   ],
   "source": [
    "num_epochs = 30\n",
    "train_accuracy_mod6 = []\n",
    "test_accuracy_mod6 = []\n",
    "\n",
    "for epoch in range(num_epochs):\n",
    "    correct_train = 0\n",
    "    correct_test = 0\n",
    "\n",
    "    print(f\"Epoch {epoch+1}/{num_epochs}\")\n",
    "    \n",
    "    for batch_idx, (X_batch_train, y_batch_train) in enumerate(train_data_loader):\n",
    "        predictions_train = large_model6(X_batch_train.view(500, -1))  \n",
    "        loss_train = criterion_large_model6(predictions_train, y_batch_train)\n",
    "\n",
    "        predicted_labels_train = torch.max(predictions_train.data, 1)[1]\n",
    "        correct_batch_train = (predicted_labels_train == y_batch_train).sum()\n",
    "        correct_train += correct_batch_train\n",
    "\n",
    "        optimizer_large_model6.zero_grad()\n",
    "        loss_train.backward()\n",
    "        optimizer_large_model6.step()\n",
    "        \n",
    "    train_loss_mod6 = loss_train\n",
    "    train_accuracy_mod6.append(correct_train)\n",
    "    \n",
    "    with torch.no_grad():\n",
    "        for batch_idx, (X_batch_test, y_batch_test) in enumerate(test_data_loader):\n",
    "            predictions_test = large_model6(X_batch_test.view(100, -1))\n",
    "\n",
    "            predicted_labels_test = torch.max(predictions_test.data, 1)[1]\n",
    "            correct_test += (predicted_labels_test == y_batch_test).sum()\n",
    "    \n",
    "    test_loss_mod6 = criterion_large_model6(predictions_test, y_batch_test)\n",
    "    test_accuracy_mod6.append(correct_test)\n",
    "\n",
    "    print(f\"Training Accuracy: {correct_train}/{len(train_data_loader.dataset)}\")\n",
    "    print(f\"Testing Accuracy: {correct_test}/{len(test_data_loader.dataset)}\")\n"
   ]
  },
  {
   "cell_type": "code",
   "execution_count": 89,
   "id": "371acf12",
   "metadata": {
    "tags": []
   },
   "outputs": [],
   "source": [
    "train_loss_mod6 = train_loss_mod6.detach().cpu().numpy()"
   ]
  },
  {
   "cell_type": "code",
   "execution_count": 158,
   "id": "1cdd9542",
   "metadata": {
    "tags": []
   },
   "outputs": [
    {
     "name": "stdout",
     "output_type": "stream",
     "text": [
      "tensor(82.0150)\n",
      "tensor(92.3100)\n",
      "tensor(93.9400)\n",
      "tensor(95.1467)\n",
      "tensor(95.9000)\n",
      "tensor(96.5083)\n",
      "tensor(96.9100)\n",
      "tensor(97.3483)\n",
      "tensor(97.7217)\n",
      "tensor(97.9150)\n",
      "tensor(98.0967)\n",
      "tensor(98.3467)\n",
      "tensor(98.4883)\n",
      "tensor(98.6267)\n",
      "tensor(98.7617)\n",
      "tensor(98.9533)\n",
      "tensor(99.0383)\n",
      "tensor(99.2100)\n",
      "tensor(99.2683)\n",
      "tensor(99.3900)\n",
      "tensor(99.4183)\n",
      "tensor(99.5283)\n",
      "tensor(99.5950)\n",
      "tensor(99.5800)\n",
      "tensor(99.6817)\n",
      "tensor(99.7283)\n",
      "tensor(99.7767)\n",
      "tensor(99.8250)\n",
      "tensor(99.8333)\n",
      "tensor(99.8867)\n"
     ]
    }
   ],
   "source": [
    "for correct_train in train_accuracy_mod6:\n",
    "    trn_accu_mod6 = correct_train /600  \n",
    "    print(trn_accu_mod6)"
   ]
  },
  {
   "cell_type": "code",
   "execution_count": 159,
   "id": "224c70a4",
   "metadata": {
    "tags": []
   },
   "outputs": [
    {
     "name": "stdout",
     "output_type": "stream",
     "text": [
      "tensor(91.4300)\n",
      "tensor(93.4000)\n",
      "tensor(94.6300)\n",
      "tensor(95.3400)\n",
      "tensor(96.0100)\n",
      "tensor(96.3100)\n",
      "tensor(96.7700)\n",
      "tensor(96.9300)\n",
      "tensor(97.0200)\n",
      "tensor(97.0800)\n",
      "tensor(97.5100)\n",
      "tensor(97.4800)\n",
      "tensor(97.1200)\n",
      "tensor(97.3200)\n",
      "tensor(97.6300)\n",
      "tensor(97.6800)\n",
      "tensor(97.5200)\n",
      "tensor(97.7600)\n",
      "tensor(97.7900)\n",
      "tensor(97.8300)\n",
      "tensor(97.7000)\n",
      "tensor(97.4000)\n",
      "tensor(97.4800)\n",
      "tensor(97.3000)\n",
      "tensor(97.6400)\n",
      "tensor(97.7400)\n",
      "tensor(97.5600)\n",
      "tensor(97.5700)\n",
      "tensor(97.6500)\n",
      "tensor(97.6900)\n"
     ]
    }
   ],
   "source": [
    "for correct_test in test_accuracy_mod6:\n",
    "    tst_accu_mod6 = correct_test / 100  \n",
    "    print(tst_accu_mod6)"
   ]
  },
  {
   "cell_type": "code",
   "execution_count": null,
   "id": "70085713",
   "metadata": {},
   "outputs": [],
   "source": []
  },
  {
   "cell_type": "code",
   "execution_count": null,
   "id": "85111e38",
   "metadata": {},
   "outputs": [],
   "source": []
  },
  {
   "cell_type": "code",
   "execution_count": 86,
   "id": "a78e5378",
   "metadata": {},
   "outputs": [],
   "source": [
    "#######################################----------Model-7------------#####################################################################"
   ]
  },
  {
   "cell_type": "code",
   "execution_count": 92,
   "id": "62ca40f5",
   "metadata": {
    "tags": []
   },
   "outputs": [],
   "source": [
    "#Model7 with 160410 parameters\n",
    "class DeepModel7(nn.Module):\n",
    "    def __init__(self, input_size=784, hidden_layer1=180, hidden_layer2=100, output_size=10):\n",
    "        super(DeepModel7, self).__init__()\n",
    "        self.layer1 = nn.Linear(input_size, hidden_layer1)\n",
    "        self.layer2 = nn.Linear(hidden_layer1, hidden_layer2)\n",
    "        self.output_layer = nn.Linear(hidden_layer2, output_size)\n",
    "        \n",
    "    def forward(self, x):\n",
    "        x = F.relu(self.layer1(x))\n",
    "        x = F.relu(self.layer2(x))\n",
    "        x = self.output_layer(x)\n",
    "        return x"
   ]
  },
  {
   "cell_type": "code",
   "execution_count": 93,
   "id": "2d5553e2",
   "metadata": {
    "tags": []
   },
   "outputs": [],
   "source": [
    "deep_model7 = DeepModel7()\n"
   ]
  },
  {
   "cell_type": "code",
   "execution_count": 94,
   "id": "f7297018",
   "metadata": {
    "tags": []
   },
   "outputs": [
    {
     "data": {
      "text/plain": [
       "DeepModel7(\n",
       "  (layer1): Linear(in_features=784, out_features=180, bias=True)\n",
       "  (layer2): Linear(in_features=180, out_features=100, bias=True)\n",
       "  (output_layer): Linear(in_features=100, out_features=10, bias=True)\n",
       ")"
      ]
     },
     "execution_count": 94,
     "metadata": {},
     "output_type": "execute_result"
    }
   ],
   "source": [
    "deep_model7"
   ]
  },
  {
   "cell_type": "code",
   "execution_count": 95,
   "id": "bf0eb4fa",
   "metadata": {
    "tags": []
   },
   "outputs": [
    {
     "name": "stdout",
     "output_type": "stream",
     "text": [
      "160410\n"
     ]
    }
   ],
   "source": [
    "deep_model7_params = count_parameters(deep_model7)\n",
    "print(deep_model7_params)"
   ]
  },
  {
   "cell_type": "code",
   "execution_count": 97,
   "id": "04321880",
   "metadata": {
    "tags": []
   },
   "outputs": [],
   "source": [
    "criterion_deep_model7 = nn.CrossEntropyLoss()\n",
    "optimizer_deep_model7 = torch.optim.Adam(deep_model7.parameters(), lr=0.001)"
   ]
  },
  {
   "cell_type": "code",
   "execution_count": 98,
   "id": "1d46d9c1",
   "metadata": {
    "tags": []
   },
   "outputs": [
    {
     "name": "stdout",
     "output_type": "stream",
     "text": [
      "Epoch 1/30\n",
      "Training Accuracy: 50103/60000\n",
      "Testing Accuracy: 9220/10000\n",
      "Epoch 2/30\n",
      "Training Accuracy: 55843/60000\n",
      "Testing Accuracy: 9389/10000\n",
      "Epoch 3/30\n",
      "Training Accuracy: 56897/60000\n",
      "Testing Accuracy: 9536/10000\n",
      "Epoch 4/30\n",
      "Training Accuracy: 57562/60000\n",
      "Testing Accuracy: 9592/10000\n",
      "Epoch 5/30\n",
      "Training Accuracy: 57998/60000\n",
      "Testing Accuracy: 9673/10000\n",
      "Epoch 6/30\n",
      "Training Accuracy: 58383/60000\n",
      "Testing Accuracy: 9709/10000\n",
      "Epoch 7/30\n",
      "Training Accuracy: 58606/60000\n",
      "Testing Accuracy: 9711/10000\n",
      "Epoch 8/30\n",
      "Training Accuracy: 58789/60000\n",
      "Testing Accuracy: 9720/10000\n",
      "Epoch 9/30\n",
      "Training Accuracy: 58978/60000\n",
      "Testing Accuracy: 9741/10000\n",
      "Epoch 10/30\n",
      "Training Accuracy: 59143/60000\n",
      "Testing Accuracy: 9756/10000\n",
      "Epoch 11/30\n",
      "Training Accuracy: 59255/60000\n",
      "Testing Accuracy: 9766/10000\n",
      "Epoch 12/30\n",
      "Training Accuracy: 59378/60000\n",
      "Testing Accuracy: 9763/10000\n",
      "Epoch 13/30\n",
      "Training Accuracy: 59460/60000\n",
      "Testing Accuracy: 9777/10000\n",
      "Epoch 14/30\n",
      "Training Accuracy: 59542/60000\n",
      "Testing Accuracy: 9771/10000\n",
      "Epoch 15/30\n",
      "Training Accuracy: 59615/60000\n",
      "Testing Accuracy: 9787/10000\n",
      "Epoch 16/30\n",
      "Training Accuracy: 59650/60000\n",
      "Testing Accuracy: 9772/10000\n",
      "Epoch 17/30\n",
      "Training Accuracy: 59733/60000\n",
      "Testing Accuracy: 9799/10000\n",
      "Epoch 18/30\n",
      "Training Accuracy: 59784/60000\n",
      "Testing Accuracy: 9777/10000\n",
      "Epoch 19/30\n",
      "Training Accuracy: 59813/60000\n",
      "Testing Accuracy: 9773/10000\n",
      "Epoch 20/30\n",
      "Training Accuracy: 59853/60000\n",
      "Testing Accuracy: 9781/10000\n",
      "Epoch 21/30\n",
      "Training Accuracy: 59878/60000\n",
      "Testing Accuracy: 9792/10000\n",
      "Epoch 22/30\n",
      "Training Accuracy: 59926/60000\n",
      "Testing Accuracy: 9784/10000\n",
      "Epoch 23/30\n",
      "Training Accuracy: 59946/60000\n",
      "Testing Accuracy: 9789/10000\n",
      "Epoch 24/30\n",
      "Training Accuracy: 59945/60000\n",
      "Testing Accuracy: 9785/10000\n",
      "Epoch 25/30\n",
      "Training Accuracy: 59957/60000\n",
      "Testing Accuracy: 9797/10000\n",
      "Epoch 26/30\n",
      "Training Accuracy: 59981/60000\n",
      "Testing Accuracy: 9787/10000\n",
      "Epoch 27/30\n",
      "Training Accuracy: 59985/60000\n",
      "Testing Accuracy: 9781/10000\n",
      "Epoch 28/30\n",
      "Training Accuracy: 59986/60000\n",
      "Testing Accuracy: 9797/10000\n",
      "Epoch 29/30\n",
      "Training Accuracy: 59989/60000\n",
      "Testing Accuracy: 9786/10000\n",
      "Epoch 30/30\n",
      "Training Accuracy: 59995/60000\n",
      "Testing Accuracy: 9788/10000\n"
     ]
    }
   ],
   "source": [
    "num_epochs = 30\n",
    "train_accuracy_mod7 = []\n",
    "test_accuracy_mod7 = []\n",
    "\n",
    "for epoch in range(num_epochs):\n",
    "    correct_train = 0\n",
    "    correct_test = 0\n",
    "\n",
    "    print(f\"Epoch {epoch+1}/{num_epochs}\")\n",
    "    \n",
    "    for batch_idx, (X_batch_train, y_batch_train) in enumerate(train_data_loader):\n",
    "        predictions_train = deep_model7(X_batch_train.view(500, -1))  \n",
    "        loss_train = criterion_deep_model7(predictions_train, y_batch_train)\n",
    "\n",
    "        predicted_labels_train = torch.max(predictions_train.data, 1)[1]\n",
    "        correct_batch_train = (predicted_labels_train == y_batch_train).sum()\n",
    "        correct_train += correct_batch_train\n",
    "\n",
    "        optimizer_deep_model7.zero_grad()\n",
    "        loss_train.backward()\n",
    "        optimizer_deep_model7.step()\n",
    "        \n",
    "    train_loss_mod7 = loss_train\n",
    "    train_accuracy_mod7.append(correct_train)\n",
    "    \n",
    "    with torch.no_grad():\n",
    "        for batch_idx, (X_batch_test, y_batch_test) in enumerate(test_data_loader):\n",
    "            predictions_test = deep_model7(X_batch_test.view(100, -1))\n",
    "\n",
    "            predicted_labels_test = torch.max(predictions_test.data, 1)[1]\n",
    "            correct_test += (predicted_labels_test == y_batch_test).sum()\n",
    "    \n",
    "    test_loss_mod7 = criterion_deep_model7(predictions_test, y_batch_test)\n",
    "    test_accuracy_mod7.append(correct_test)\n",
    "\n",
    "    print(f\"Training Accuracy: {correct_train}/{len(train_data_loader.dataset)}\")\n",
    "    print(f\"Testing Accuracy: {correct_test}/{len(test_data_loader.dataset)}\")\n"
   ]
  },
  {
   "cell_type": "code",
   "execution_count": 99,
   "id": "5782a9fb",
   "metadata": {
    "tags": []
   },
   "outputs": [],
   "source": [
    "train_loss_mod7 = train_loss_mod7.detach().cpu().numpy()"
   ]
  },
  {
   "cell_type": "code",
   "execution_count": 160,
   "id": "e53ac7fa",
   "metadata": {
    "tags": []
   },
   "outputs": [
    {
     "name": "stdout",
     "output_type": "stream",
     "text": [
      "tensor(83.5050)\n",
      "tensor(93.0717)\n",
      "tensor(94.8283)\n",
      "tensor(95.9367)\n",
      "tensor(96.6633)\n",
      "tensor(97.3050)\n",
      "tensor(97.6767)\n",
      "tensor(97.9817)\n",
      "tensor(98.2967)\n",
      "tensor(98.5717)\n",
      "tensor(98.7583)\n",
      "tensor(98.9633)\n",
      "tensor(99.1000)\n",
      "tensor(99.2367)\n",
      "tensor(99.3583)\n",
      "tensor(99.4167)\n",
      "tensor(99.5550)\n",
      "tensor(99.6400)\n",
      "tensor(99.6883)\n",
      "tensor(99.7550)\n",
      "tensor(99.7967)\n",
      "tensor(99.8767)\n",
      "tensor(99.9100)\n",
      "tensor(99.9083)\n",
      "tensor(99.9283)\n",
      "tensor(99.9683)\n",
      "tensor(99.9750)\n",
      "tensor(99.9767)\n",
      "tensor(99.9817)\n",
      "tensor(99.9917)\n"
     ]
    }
   ],
   "source": [
    "for correct_train in train_accuracy_mod7:\n",
    "    trn_accu_mod7 = correct_train / 600  # Dynamically use the actual dataset size\n",
    "    print(trn_accu_mod7)"
   ]
  },
  {
   "cell_type": "code",
   "execution_count": 161,
   "id": "b61542a9",
   "metadata": {
    "tags": []
   },
   "outputs": [
    {
     "name": "stdout",
     "output_type": "stream",
     "text": [
      "tensor(92.2000)\n",
      "tensor(93.8900)\n",
      "tensor(95.3600)\n",
      "tensor(95.9200)\n",
      "tensor(96.7300)\n",
      "tensor(97.0900)\n",
      "tensor(97.1100)\n",
      "tensor(97.2000)\n",
      "tensor(97.4100)\n",
      "tensor(97.5600)\n",
      "tensor(97.6600)\n",
      "tensor(97.6300)\n",
      "tensor(97.7700)\n",
      "tensor(97.7100)\n",
      "tensor(97.8700)\n",
      "tensor(97.7200)\n",
      "tensor(97.9900)\n",
      "tensor(97.7700)\n",
      "tensor(97.7300)\n",
      "tensor(97.8100)\n",
      "tensor(97.9200)\n",
      "tensor(97.8400)\n",
      "tensor(97.8900)\n",
      "tensor(97.8500)\n",
      "tensor(97.9700)\n",
      "tensor(97.8700)\n",
      "tensor(97.8100)\n",
      "tensor(97.9700)\n",
      "tensor(97.8600)\n",
      "tensor(97.8800)\n"
     ]
    }
   ],
   "source": [
    "for correct_test in test_accuracy_mod7:\n",
    "    tst_accu_mod7 = correct_test / 100  # Dynamically use the actual test dataset size\n",
    "    print(tst_accu_mod7)"
   ]
  },
  {
   "cell_type": "code",
   "execution_count": null,
   "id": "a6f92d2e",
   "metadata": {},
   "outputs": [],
   "source": []
  },
  {
   "cell_type": "code",
   "execution_count": null,
   "id": "57a1102b",
   "metadata": {},
   "outputs": [],
   "source": []
  },
  {
   "cell_type": "code",
   "execution_count": 96,
   "id": "18bdfa21",
   "metadata": {},
   "outputs": [],
   "source": [
    "#######################################----------Model-8------------#####################################################################"
   ]
  },
  {
   "cell_type": "code",
   "execution_count": 105,
   "id": "8cd58f55",
   "metadata": {
    "tags": []
   },
   "outputs": [],
   "source": [
    "\n",
    "class LargeModel8(nn.Module):\n",
    "    def __init__(self, input_size=784, hidden_layer1=400, hidden_layer2=200, output_size=10):\n",
    "        super().__init__()\n",
    "        self.layer1 = nn.Linear(input_size, hidden_layer1)\n",
    "        self.layer2 = nn.Linear(hidden_layer1, hidden_layer2)\n",
    "        self.output_layer = nn.Linear(hidden_layer2, output_size)\n",
    "        \n",
    "    def forward(self, x):\n",
    "        x = F.relu(self.layer1(x))\n",
    "        x = F.relu(self.layer2(x))\n",
    "        x = self.output_layer(x)\n",
    "        return x\n"
   ]
  },
  {
   "cell_type": "code",
   "execution_count": 106,
   "id": "53c646fa",
   "metadata": {
    "tags": []
   },
   "outputs": [],
   "source": [
    "large_model8 = LargeModel8()"
   ]
  },
  {
   "cell_type": "code",
   "execution_count": 109,
   "id": "e097e2d3",
   "metadata": {
    "tags": []
   },
   "outputs": [
    {
     "data": {
      "text/plain": [
       "LargeModel8(\n",
       "  (layer1): Linear(in_features=784, out_features=400, bias=True)\n",
       "  (layer2): Linear(in_features=400, out_features=200, bias=True)\n",
       "  (output_layer): Linear(in_features=200, out_features=10, bias=True)\n",
       ")"
      ]
     },
     "execution_count": 109,
     "metadata": {},
     "output_type": "execute_result"
    }
   ],
   "source": [
    "large_model8"
   ]
  },
  {
   "cell_type": "code",
   "execution_count": 110,
   "id": "1563afa4",
   "metadata": {
    "tags": []
   },
   "outputs": [
    {
     "name": "stdout",
     "output_type": "stream",
     "text": [
      "396210\n"
     ]
    }
   ],
   "source": [
    "large_model8_params = count_parameters(large_model8)\n",
    "print(large_model8_params)"
   ]
  },
  {
   "cell_type": "code",
   "execution_count": 112,
   "id": "fb504935",
   "metadata": {
    "tags": []
   },
   "outputs": [],
   "source": [
    "criterion8 = nn.CrossEntropyLoss()\n",
    "optimizer8 = torch.optim.Adam(large_model8.parameters(), lr=0.001)"
   ]
  },
  {
   "cell_type": "code",
   "execution_count": 113,
   "id": "784864ae",
   "metadata": {
    "tags": []
   },
   "outputs": [
    {
     "name": "stdout",
     "output_type": "stream",
     "text": [
      "Epoch 1/30\n",
      "Training Accuracy: 51843/60000\n",
      "Testing Accuracy: 9334/10000\n",
      "Epoch 2/30\n",
      "Training Accuracy: 56610/60000\n",
      "Testing Accuracy: 9516/10000\n",
      "Epoch 3/30\n",
      "Training Accuracy: 57606/60000\n",
      "Testing Accuracy: 9646/10000\n",
      "Epoch 4/30\n",
      "Training Accuracy: 58200/60000\n",
      "Testing Accuracy: 9677/10000\n",
      "Epoch 5/30\n",
      "Training Accuracy: 58562/60000\n",
      "Testing Accuracy: 9713/10000\n",
      "Epoch 6/30\n",
      "Training Accuracy: 58883/60000\n",
      "Testing Accuracy: 9756/10000\n",
      "Epoch 7/30\n",
      "Training Accuracy: 59151/60000\n",
      "Testing Accuracy: 9773/10000\n",
      "Epoch 8/30\n",
      "Training Accuracy: 59280/60000\n",
      "Testing Accuracy: 9722/10000\n",
      "Epoch 9/30\n",
      "Training Accuracy: 59447/60000\n",
      "Testing Accuracy: 9767/10000\n",
      "Epoch 10/30\n",
      "Training Accuracy: 59577/60000\n",
      "Testing Accuracy: 9795/10000\n",
      "Epoch 11/30\n",
      "Training Accuracy: 59643/60000\n",
      "Testing Accuracy: 9804/10000\n",
      "Epoch 12/30\n",
      "Training Accuracy: 59761/60000\n",
      "Testing Accuracy: 9791/10000\n",
      "Epoch 13/30\n",
      "Training Accuracy: 59801/60000\n",
      "Testing Accuracy: 9806/10000\n",
      "Epoch 14/30\n",
      "Training Accuracy: 59885/60000\n",
      "Testing Accuracy: 9818/10000\n",
      "Epoch 15/30\n",
      "Training Accuracy: 59895/60000\n",
      "Testing Accuracy: 9800/10000\n",
      "Epoch 16/30\n",
      "Training Accuracy: 59914/60000\n",
      "Testing Accuracy: 9797/10000\n",
      "Epoch 17/30\n",
      "Training Accuracy: 59947/60000\n",
      "Testing Accuracy: 9795/10000\n",
      "Epoch 18/30\n",
      "Training Accuracy: 59954/60000\n",
      "Testing Accuracy: 9806/10000\n",
      "Epoch 19/30\n",
      "Training Accuracy: 59959/60000\n",
      "Testing Accuracy: 9797/10000\n",
      "Epoch 20/30\n",
      "Training Accuracy: 59980/60000\n",
      "Testing Accuracy: 9811/10000\n",
      "Epoch 21/30\n",
      "Training Accuracy: 59993/60000\n",
      "Testing Accuracy: 9817/10000\n",
      "Epoch 22/30\n",
      "Training Accuracy: 59998/60000\n",
      "Testing Accuracy: 9816/10000\n",
      "Epoch 23/30\n",
      "Training Accuracy: 60000/60000\n",
      "Testing Accuracy: 9814/10000\n",
      "Epoch 24/30\n",
      "Training Accuracy: 59999/60000\n",
      "Testing Accuracy: 9813/10000\n",
      "Epoch 25/30\n",
      "Training Accuracy: 60000/60000\n",
      "Testing Accuracy: 9808/10000\n",
      "Epoch 26/30\n",
      "Training Accuracy: 60000/60000\n",
      "Testing Accuracy: 9818/10000\n",
      "Epoch 27/30\n",
      "Training Accuracy: 60000/60000\n",
      "Testing Accuracy: 9815/10000\n",
      "Epoch 28/30\n",
      "Training Accuracy: 60000/60000\n",
      "Testing Accuracy: 9814/10000\n",
      "Epoch 29/30\n",
      "Training Accuracy: 60000/60000\n",
      "Testing Accuracy: 9809/10000\n",
      "Epoch 30/30\n",
      "Training Accuracy: 60000/60000\n",
      "Testing Accuracy: 9812/10000\n"
     ]
    }
   ],
   "source": [
    "num_epochs = 30\n",
    "train_accuracy_mod8 = []\n",
    "test_accuracy_mod8 = []\n",
    "\n",
    "for epoch in range(num_epochs):\n",
    "    correct_train = 0\n",
    "    correct_test = 0\n",
    "\n",
    "    print(f\"Epoch {epoch+1}/{num_epochs}\")\n",
    "    \n",
    "    for batch_idx, (X_batch_train, y_batch_train) in enumerate(train_data_loader):\n",
    "        predictions_train = large_model8(X_batch_train.view(500, -1))  \n",
    "        loss_train = criterion8(predictions_train, y_batch_train)\n",
    "\n",
    "        predicted_labels_train = torch.max(predictions_train.data, 1)[1]\n",
    "        correct_batch_train = (predicted_labels_train == y_batch_train).sum()\n",
    "        correct_train += correct_batch_train\n",
    "\n",
    "        optimizer8.zero_grad()\n",
    "        loss_train.backward()\n",
    "        optimizer8.step()\n",
    "\n",
    "    train_loss_mod8 = loss_train\n",
    "    train_accuracy_mod8.append(correct_train)\n",
    "    \n",
    "    with torch.no_grad():\n",
    "        for batch_idx, (X_batch_test, y_batch_test) in enumerate(test_data_loader):\n",
    "            predictions_test = large_model8(X_batch_test.view(100, -1))\n",
    "\n",
    "            predicted_labels_test = torch.max(predictions_test.data, 1)[1]\n",
    "            correct_test += (predicted_labels_test == y_batch_test).sum()\n",
    "    \n",
    "    test_loss_mod8 = criterion8(predictions_test, y_batch_test)\n",
    "    test_accuracy_mod8.append(correct_test)\n",
    "\n",
    "    print(f\"Training Accuracy: {correct_train}/{len(train_data_loader.dataset)}\")\n",
    "    print(f\"Testing Accuracy: {correct_test}/{len(test_data_loader.dataset)}\")\n"
   ]
  },
  {
   "cell_type": "code",
   "execution_count": 114,
   "id": "7438a376",
   "metadata": {
    "tags": []
   },
   "outputs": [],
   "source": [
    "train_loss_mod8 = train_loss_mod8.detach().cpu().numpy()"
   ]
  },
  {
   "cell_type": "code",
   "execution_count": 162,
   "id": "2d000f79",
   "metadata": {
    "tags": []
   },
   "outputs": [
    {
     "name": "stdout",
     "output_type": "stream",
     "text": [
      "tensor(86.4050)\n",
      "tensor(94.3500)\n",
      "tensor(96.0100)\n",
      "tensor(97.)\n",
      "tensor(97.6033)\n",
      "tensor(98.1383)\n",
      "tensor(98.5850)\n",
      "tensor(98.8000)\n",
      "tensor(99.0783)\n",
      "tensor(99.2950)\n",
      "tensor(99.4050)\n",
      "tensor(99.6017)\n",
      "tensor(99.6683)\n",
      "tensor(99.8083)\n",
      "tensor(99.8250)\n",
      "tensor(99.8567)\n",
      "tensor(99.9117)\n",
      "tensor(99.9233)\n",
      "tensor(99.9317)\n",
      "tensor(99.9667)\n",
      "tensor(99.9883)\n",
      "tensor(99.9967)\n",
      "tensor(100.)\n",
      "tensor(99.9983)\n",
      "tensor(100.)\n",
      "tensor(100.)\n",
      "tensor(100.)\n",
      "tensor(100.)\n",
      "tensor(100.)\n",
      "tensor(100.)\n"
     ]
    }
   ],
   "source": [
    "for correct_train in train_accuracy_mod8:\n",
    "    trn_accu_mod8 = correct_train / 600  # Use the actual dataset size.\n",
    "    print(trn_accu_mod8)"
   ]
  },
  {
   "cell_type": "code",
   "execution_count": 163,
   "id": "04a3e444",
   "metadata": {
    "tags": []
   },
   "outputs": [
    {
     "name": "stdout",
     "output_type": "stream",
     "text": [
      "tensor(93.3400)\n",
      "tensor(95.1600)\n",
      "tensor(96.4600)\n",
      "tensor(96.7700)\n",
      "tensor(97.1300)\n",
      "tensor(97.5600)\n",
      "tensor(97.7300)\n",
      "tensor(97.2200)\n",
      "tensor(97.6700)\n",
      "tensor(97.9500)\n",
      "tensor(98.0400)\n",
      "tensor(97.9100)\n",
      "tensor(98.0600)\n",
      "tensor(98.1800)\n",
      "tensor(98.)\n",
      "tensor(97.9700)\n",
      "tensor(97.9500)\n",
      "tensor(98.0600)\n",
      "tensor(97.9700)\n",
      "tensor(98.1100)\n",
      "tensor(98.1700)\n",
      "tensor(98.1600)\n",
      "tensor(98.1400)\n",
      "tensor(98.1300)\n",
      "tensor(98.0800)\n",
      "tensor(98.1800)\n",
      "tensor(98.1500)\n",
      "tensor(98.1400)\n",
      "tensor(98.0900)\n",
      "tensor(98.1200)\n"
     ]
    }
   ],
   "source": [
    "for correct_test in test_accuracy_mod8:\n",
    "    tst_accu_mod8 = correct_test / 100  \n",
    "    print(tst_accu_mod8)"
   ]
  },
  {
   "cell_type": "code",
   "execution_count": null,
   "id": "c7eb642c",
   "metadata": {},
   "outputs": [],
   "source": []
  },
  {
   "cell_type": "code",
   "execution_count": null,
   "id": "11b606aa",
   "metadata": {},
   "outputs": [],
   "source": []
  },
  {
   "cell_type": "code",
   "execution_count": 106,
   "id": "f3608880",
   "metadata": {},
   "outputs": [],
   "source": [
    "#######################################----------Model-9------------#####################################################################"
   ]
  },
  {
   "cell_type": "code",
   "execution_count": 117,
   "id": "8a24b010",
   "metadata": {
    "tags": []
   },
   "outputs": [],
   "source": [
    "class LargeModel9(nn.Module):\n",
    "    def __init__(self, input_size=784, hidden_layer1=600, hidden_layer2=300, output_size=10):\n",
    "        super().__init__()\n",
    "        self.layer1 = nn.Linear(input_size, hidden_layer1)\n",
    "        self.layer2 = nn.Linear(hidden_layer1, hidden_layer2)\n",
    "        self.output_layer = nn.Linear(hidden_layer2, output_size)\n",
    "        \n",
    "    def forward(self, x):\n",
    "        x = F.relu(self.layer1(x))\n",
    "        x = F.relu(self.layer2(x))\n",
    "        x = self.output_layer(x)\n",
    "        return x"
   ]
  },
  {
   "cell_type": "code",
   "execution_count": 118,
   "id": "05fff889",
   "metadata": {
    "tags": []
   },
   "outputs": [],
   "source": [
    "large_model9 = LargeModel9()"
   ]
  },
  {
   "cell_type": "code",
   "execution_count": 119,
   "id": "63911964",
   "metadata": {
    "tags": []
   },
   "outputs": [
    {
     "data": {
      "text/plain": [
       "LargeModel9(\n",
       "  (layer1): Linear(in_features=784, out_features=600, bias=True)\n",
       "  (layer2): Linear(in_features=600, out_features=300, bias=True)\n",
       "  (output_layer): Linear(in_features=300, out_features=10, bias=True)\n",
       ")"
      ]
     },
     "execution_count": 119,
     "metadata": {},
     "output_type": "execute_result"
    }
   ],
   "source": [
    "large_model9"
   ]
  },
  {
   "cell_type": "code",
   "execution_count": 120,
   "id": "25a597a4",
   "metadata": {
    "tags": []
   },
   "outputs": [
    {
     "name": "stdout",
     "output_type": "stream",
     "text": [
      "654310\n"
     ]
    }
   ],
   "source": [
    "large_model9_params = count_parameters(large_model9)\n",
    "print(large_model9_params)"
   ]
  },
  {
   "cell_type": "code",
   "execution_count": 121,
   "id": "2580e58d",
   "metadata": {
    "tags": []
   },
   "outputs": [],
   "source": [
    "criterion_large_model9 = nn.CrossEntropyLoss()\n",
    "optimizer_large_model9 = torch.optim.Adam(large_model9.parameters(), lr=0.001)"
   ]
  },
  {
   "cell_type": "code",
   "execution_count": 122,
   "id": "514016de",
   "metadata": {
    "tags": []
   },
   "outputs": [
    {
     "name": "stdout",
     "output_type": "stream",
     "text": [
      "Epoch 1/30\n",
      "Training Accuracy: 52848/60000\n",
      "Testing Accuracy: 9388/10000\n",
      "Epoch 2/30\n",
      "Training Accuracy: 57093/60000\n",
      "Testing Accuracy: 9594/10000\n",
      "Epoch 3/30\n",
      "Training Accuracy: 58100/60000\n",
      "Testing Accuracy: 9705/10000\n",
      "Epoch 4/30\n",
      "Training Accuracy: 58645/60000\n",
      "Testing Accuracy: 9742/10000\n",
      "Epoch 5/30\n",
      "Training Accuracy: 58960/60000\n",
      "Testing Accuracy: 9772/10000\n",
      "Epoch 6/30\n",
      "Training Accuracy: 59224/60000\n",
      "Testing Accuracy: 9797/10000\n",
      "Epoch 7/30\n",
      "Training Accuracy: 59413/60000\n",
      "Testing Accuracy: 9781/10000\n",
      "Epoch 8/30\n",
      "Training Accuracy: 59557/60000\n",
      "Testing Accuracy: 9811/10000\n",
      "Epoch 9/30\n",
      "Training Accuracy: 59661/60000\n",
      "Testing Accuracy: 9805/10000\n",
      "Epoch 10/30\n",
      "Training Accuracy: 59743/60000\n",
      "Testing Accuracy: 9783/10000\n",
      "Epoch 11/30\n",
      "Training Accuracy: 59839/60000\n",
      "Testing Accuracy: 9790/10000\n",
      "Epoch 12/30\n",
      "Training Accuracy: 59882/60000\n",
      "Testing Accuracy: 9816/10000\n",
      "Epoch 13/30\n",
      "Training Accuracy: 59919/60000\n",
      "Testing Accuracy: 9780/10000\n",
      "Epoch 14/30\n",
      "Training Accuracy: 59927/60000\n",
      "Testing Accuracy: 9812/10000\n",
      "Epoch 15/30\n",
      "Training Accuracy: 59909/60000\n",
      "Testing Accuracy: 9790/10000\n",
      "Epoch 16/30\n",
      "Training Accuracy: 59910/60000\n",
      "Testing Accuracy: 9808/10000\n",
      "Epoch 17/30\n",
      "Training Accuracy: 59970/60000\n",
      "Testing Accuracy: 9805/10000\n",
      "Epoch 18/30\n",
      "Training Accuracy: 59950/60000\n",
      "Testing Accuracy: 9814/10000\n",
      "Epoch 19/30\n",
      "Training Accuracy: 59871/60000\n",
      "Testing Accuracy: 9796/10000\n",
      "Epoch 20/30\n",
      "Training Accuracy: 59900/60000\n",
      "Testing Accuracy: 9795/10000\n",
      "Epoch 21/30\n",
      "Training Accuracy: 59872/60000\n",
      "Testing Accuracy: 9802/10000\n",
      "Epoch 22/30\n",
      "Training Accuracy: 59865/60000\n",
      "Testing Accuracy: 9802/10000\n",
      "Epoch 23/30\n",
      "Training Accuracy: 59847/60000\n",
      "Testing Accuracy: 9792/10000\n",
      "Epoch 24/30\n",
      "Training Accuracy: 59909/60000\n",
      "Testing Accuracy: 9804/10000\n",
      "Epoch 25/30\n",
      "Training Accuracy: 59944/60000\n",
      "Testing Accuracy: 9797/10000\n",
      "Epoch 26/30\n",
      "Training Accuracy: 59950/60000\n",
      "Testing Accuracy: 9817/10000\n",
      "Epoch 27/30\n",
      "Training Accuracy: 59997/60000\n",
      "Testing Accuracy: 9825/10000\n",
      "Epoch 28/30\n",
      "Training Accuracy: 59999/60000\n",
      "Testing Accuracy: 9833/10000\n",
      "Epoch 29/30\n",
      "Training Accuracy: 60000/60000\n",
      "Testing Accuracy: 9832/10000\n",
      "Epoch 30/30\n",
      "Training Accuracy: 60000/60000\n",
      "Testing Accuracy: 9831/10000\n"
     ]
    }
   ],
   "source": [
    "num_epochs = 30\n",
    "train_accuracy_mod9 = []\n",
    "test_accuracy_mod9 = []\n",
    "\n",
    "for epoch in range(num_epochs):\n",
    "    correct_train = 0\n",
    "    correct_test = 0\n",
    "\n",
    "    print(f\"Epoch {epoch+1}/{num_epochs}\")\n",
    "    \n",
    "    for batch_idx, (X_batch_train, y_batch_train) in enumerate(train_data_loader):\n",
    "        predictions_train = large_model9(X_batch_train.view(500, -1))  \n",
    "        loss_train = criterion_large_model9(predictions_train, y_batch_train)\n",
    "\n",
    "        predicted_labels_train = torch.max(predictions_train.data, 1)[1]\n",
    "        correct_batch_train = (predicted_labels_train == y_batch_train).sum()\n",
    "        correct_train += correct_batch_train\n",
    "\n",
    "        optimizer_large_model9.zero_grad()\n",
    "        loss_train.backward()\n",
    "        optimizer_large_model9.step()\n",
    "\n",
    "    train_loss_mod9 = loss_train\n",
    "    train_accuracy_mod9.append(correct_train)\n",
    "    \n",
    "    with torch.no_grad():\n",
    "        for batch_idx, (X_batch_test, y_batch_test) in enumerate(test_data_loader):\n",
    "            predictions_test = large_model9(X_batch_test.view(100, -1))\n",
    "\n",
    "            predicted_labels_test = torch.max(predictions_test.data, 1)[1]\n",
    "            correct_test += (predicted_labels_test == y_batch_test).sum()\n",
    "    \n",
    "    test_loss_mod9 = criterion_large_model9(predictions_test, y_batch_test)\n",
    "    test_accuracy_mod9.append(correct_test)\n",
    "\n",
    "    print(f\"Training Accuracy: {correct_train}/{len(train_data_loader.dataset)}\")\n",
    "    print(f\"Testing Accuracy: {correct_test}/{len(test_data_loader.dataset)}\")\n"
   ]
  },
  {
   "cell_type": "code",
   "execution_count": 123,
   "id": "a01dae90",
   "metadata": {
    "tags": []
   },
   "outputs": [],
   "source": [
    "train_loss_mod9 = train_loss_mod9.detach().cpu().numpy()"
   ]
  },
  {
   "cell_type": "code",
   "execution_count": 165,
   "id": "2b2c0247",
   "metadata": {
    "tags": []
   },
   "outputs": [
    {
     "name": "stdout",
     "output_type": "stream",
     "text": [
      "tensor(88.0800)\n",
      "tensor(95.1550)\n",
      "tensor(96.8333)\n",
      "tensor(97.7417)\n",
      "tensor(98.2667)\n",
      "tensor(98.7067)\n",
      "tensor(99.0217)\n",
      "tensor(99.2617)\n",
      "tensor(99.4350)\n",
      "tensor(99.5717)\n",
      "tensor(99.7317)\n",
      "tensor(99.8033)\n",
      "tensor(99.8650)\n",
      "tensor(99.8783)\n",
      "tensor(99.8483)\n",
      "tensor(99.8500)\n",
      "tensor(99.9500)\n",
      "tensor(99.9167)\n",
      "tensor(99.7850)\n",
      "tensor(99.8333)\n",
      "tensor(99.7867)\n",
      "tensor(99.7750)\n",
      "tensor(99.7450)\n",
      "tensor(99.8483)\n",
      "tensor(99.9067)\n",
      "tensor(99.9167)\n",
      "tensor(99.9950)\n",
      "tensor(99.9983)\n",
      "tensor(100.)\n",
      "tensor(100.)\n"
     ]
    }
   ],
   "source": [
    "for correct_train in train_accuracy_mod9:\n",
    "    trn_accu_mod9 = correct_train / 600 # size\n",
    "    print(trn_accu_mod9)"
   ]
  },
  {
   "cell_type": "code",
   "execution_count": 164,
   "id": "5dd85de8",
   "metadata": {
    "tags": []
   },
   "outputs": [
    {
     "name": "stdout",
     "output_type": "stream",
     "text": [
      "tensor(93.8800)\n",
      "tensor(95.9400)\n",
      "tensor(97.0500)\n",
      "tensor(97.4200)\n",
      "tensor(97.7200)\n",
      "tensor(97.9700)\n",
      "tensor(97.8100)\n",
      "tensor(98.1100)\n",
      "tensor(98.0500)\n",
      "tensor(97.8300)\n",
      "tensor(97.9000)\n",
      "tensor(98.1600)\n",
      "tensor(97.8000)\n",
      "tensor(98.1200)\n",
      "tensor(97.9000)\n",
      "tensor(98.0800)\n",
      "tensor(98.0500)\n",
      "tensor(98.1400)\n",
      "tensor(97.9600)\n",
      "tensor(97.9500)\n",
      "tensor(98.0200)\n",
      "tensor(98.0200)\n",
      "tensor(97.9200)\n",
      "tensor(98.0400)\n",
      "tensor(97.9700)\n",
      "tensor(98.1700)\n",
      "tensor(98.2500)\n",
      "tensor(98.3300)\n",
      "tensor(98.3200)\n",
      "tensor(98.3100)\n"
     ]
    }
   ],
   "source": [
    "for correct_test in test_accuracy_mod9:\n",
    "    tst_accu_mod9 = correct_test / 100 # Use  size\n",
    "    print(tst_accu_mod9)"
   ]
  },
  {
   "cell_type": "code",
   "execution_count": null,
   "id": "305564a8",
   "metadata": {},
   "outputs": [],
   "source": []
  },
  {
   "cell_type": "code",
   "execution_count": null,
   "id": "88744efe",
   "metadata": {},
   "outputs": [],
   "source": []
  },
  {
   "cell_type": "code",
   "execution_count": 116,
   "id": "efedd78d",
   "metadata": {},
   "outputs": [],
   "source": [
    "#######################################----------Model-10------------#####################################################################"
   ]
  },
  {
   "cell_type": "code",
   "execution_count": 126,
   "id": "8e765abb",
   "metadata": {
    "tags": []
   },
   "outputs": [],
   "source": [
    "class LargeModel10(nn.Module):\n",
    "    def __init__(self, input_size=784, hidden_layer1=800, hidden_layer2=400, output_size=10):\n",
    "        super().__init__()\n",
    "        self.layer1 = nn.Linear(input_size, hidden_layer1)\n",
    "        self.layer2 = nn.Linear(hidden_layer1, hidden_layer2)\n",
    "        self.output_layer = nn.Linear(hidden_layer2, output_size)\n",
    "        \n",
    "    def forward(self, x):\n",
    "        x = F.relu(self.layer1(x))\n",
    "        x = F.relu(self.layer2(x))\n",
    "        x = self.output_layer(x)\n",
    "        return x"
   ]
  },
  {
   "cell_type": "code",
   "execution_count": 127,
   "id": "648c3140",
   "metadata": {
    "tags": []
   },
   "outputs": [],
   "source": [
    "large_model10 = LargeModel10()"
   ]
  },
  {
   "cell_type": "code",
   "execution_count": 128,
   "id": "ae49421c",
   "metadata": {
    "tags": []
   },
   "outputs": [
    {
     "data": {
      "text/plain": [
       "LargeModel10(\n",
       "  (layer1): Linear(in_features=784, out_features=800, bias=True)\n",
       "  (layer2): Linear(in_features=800, out_features=400, bias=True)\n",
       "  (output_layer): Linear(in_features=400, out_features=10, bias=True)\n",
       ")"
      ]
     },
     "execution_count": 128,
     "metadata": {},
     "output_type": "execute_result"
    }
   ],
   "source": [
    "large_model10"
   ]
  },
  {
   "cell_type": "code",
   "execution_count": 129,
   "id": "9abc5e68",
   "metadata": {
    "tags": []
   },
   "outputs": [
    {
     "name": "stdout",
     "output_type": "stream",
     "text": [
      "952410\n"
     ]
    }
   ],
   "source": [
    "large_model10_params = count_parameters(large_model10)\n",
    "print(large_model10_params)"
   ]
  },
  {
   "cell_type": "code",
   "execution_count": 130,
   "id": "0c7ae8e9",
   "metadata": {
    "tags": []
   },
   "outputs": [],
   "source": [
    "criterion_large_model10 = nn.CrossEntropyLoss()\n",
    "optimizer_large_model10 = torch.optim.Adam(large_model10.parameters(), lr=0.001)"
   ]
  },
  {
   "cell_type": "code",
   "execution_count": 131,
   "id": "f5286194",
   "metadata": {
    "tags": []
   },
   "outputs": [
    {
     "name": "stdout",
     "output_type": "stream",
     "text": [
      "Epoch 1/30\n",
      "Training Accuracy: 53351/60000\n",
      "Testing Accuracy: 9460/10000\n",
      "Epoch 2/30\n",
      "Training Accuracy: 57358/60000\n",
      "Testing Accuracy: 9626/10000\n",
      "Epoch 3/30\n",
      "Training Accuracy: 58233/60000\n",
      "Testing Accuracy: 9737/10000\n",
      "Epoch 4/30\n",
      "Training Accuracy: 58787/60000\n",
      "Testing Accuracy: 9778/10000\n",
      "Epoch 5/30\n",
      "Training Accuracy: 59120/60000\n",
      "Testing Accuracy: 9777/10000\n",
      "Epoch 6/30\n",
      "Training Accuracy: 59340/60000\n",
      "Testing Accuracy: 9778/10000\n",
      "Epoch 7/30\n",
      "Training Accuracy: 59487/60000\n",
      "Testing Accuracy: 9797/10000\n",
      "Epoch 8/30\n",
      "Training Accuracy: 59663/60000\n",
      "Testing Accuracy: 9797/10000\n",
      "Epoch 9/30\n",
      "Training Accuracy: 59727/60000\n",
      "Testing Accuracy: 9811/10000\n",
      "Epoch 10/30\n",
      "Training Accuracy: 59786/60000\n",
      "Testing Accuracy: 9800/10000\n",
      "Epoch 11/30\n",
      "Training Accuracy: 59823/60000\n",
      "Testing Accuracy: 9818/10000\n",
      "Epoch 12/30\n",
      "Training Accuracy: 59909/60000\n",
      "Testing Accuracy: 9816/10000\n",
      "Epoch 13/30\n",
      "Training Accuracy: 59929/60000\n",
      "Testing Accuracy: 9811/10000\n",
      "Epoch 14/30\n",
      "Training Accuracy: 59961/60000\n",
      "Testing Accuracy: 9808/10000\n",
      "Epoch 15/30\n",
      "Training Accuracy: 59980/60000\n",
      "Testing Accuracy: 9815/10000\n",
      "Epoch 16/30\n",
      "Training Accuracy: 59974/60000\n",
      "Testing Accuracy: 9825/10000\n",
      "Epoch 17/30\n",
      "Training Accuracy: 59996/60000\n",
      "Testing Accuracy: 9823/10000\n",
      "Epoch 18/30\n",
      "Training Accuracy: 60000/60000\n",
      "Testing Accuracy: 9835/10000\n",
      "Epoch 19/30\n",
      "Training Accuracy: 59999/60000\n",
      "Testing Accuracy: 9836/10000\n",
      "Epoch 20/30\n",
      "Training Accuracy: 60000/60000\n",
      "Testing Accuracy: 9835/10000\n",
      "Epoch 21/30\n",
      "Training Accuracy: 60000/60000\n",
      "Testing Accuracy: 9837/10000\n",
      "Epoch 22/30\n",
      "Training Accuracy: 60000/60000\n",
      "Testing Accuracy: 9833/10000\n",
      "Epoch 23/30\n",
      "Training Accuracy: 60000/60000\n",
      "Testing Accuracy: 9834/10000\n",
      "Epoch 24/30\n",
      "Training Accuracy: 60000/60000\n",
      "Testing Accuracy: 9834/10000\n",
      "Epoch 25/30\n",
      "Training Accuracy: 60000/60000\n",
      "Testing Accuracy: 9833/10000\n",
      "Epoch 26/30\n",
      "Training Accuracy: 60000/60000\n",
      "Testing Accuracy: 9835/10000\n",
      "Epoch 27/30\n",
      "Training Accuracy: 60000/60000\n",
      "Testing Accuracy: 9836/10000\n",
      "Epoch 28/30\n",
      "Training Accuracy: 60000/60000\n",
      "Testing Accuracy: 9835/10000\n",
      "Epoch 29/30\n",
      "Training Accuracy: 60000/60000\n",
      "Testing Accuracy: 9837/10000\n",
      "Epoch 30/30\n",
      "Training Accuracy: 60000/60000\n",
      "Testing Accuracy: 9834/10000\n"
     ]
    }
   ],
   "source": [
    "num_epochs = 30\n",
    "train_accuracy_mod10 = []\n",
    "test_accuracy_mod10 = []\n",
    "\n",
    "for epoch in range(num_epochs):\n",
    "    correct_train = 0\n",
    "    correct_test = 0\n",
    "\n",
    "    print(f\"Epoch {epoch+1}/{num_epochs}\")\n",
    "    \n",
    "    for batch_idx, (X_batch_train, y_batch_train) in enumerate(train_data_loader):\n",
    "        predictions_train = large_model10(X_batch_train.view(500, -1))  \n",
    "        loss_train = criterion_large_model10(predictions_train, y_batch_train)\n",
    "\n",
    "        predicted_labels_train = torch.max(predictions_train.data, 1)[1]\n",
    "        correct_batch_train = (predicted_labels_train == y_batch_train).sum()\n",
    "        correct_train += correct_batch_train\n",
    "\n",
    "        optimizer_large_model10.zero_grad()\n",
    "        loss_train.backward()\n",
    "        optimizer_large_model10.step()\n",
    "\n",
    "    train_loss_mod10 = loss_train\n",
    "    train_accuracy_mod10.append(correct_train)\n",
    "    \n",
    "    with torch.no_grad():\n",
    "        for batch_idx, (X_batch_test, y_batch_test) in enumerate(test_data_loader):\n",
    "            predictions_test = large_model10(X_batch_test.view(100, -1))\n",
    "\n",
    "            predicted_labels_test = torch.max(predictions_test.data, 1)[1]\n",
    "            correct_test += (predicted_labels_test == y_batch_test).sum()\n",
    "    \n",
    "    test_loss_mod10 = criterion_large_model10(predictions_test, y_batch_test)\n",
    "    test_accuracy_mod10.append(correct_test)\n",
    "\n",
    "    print(f\"Training Accuracy: {correct_train}/{len(train_data_loader.dataset)}\")\n",
    "    print(f\"Testing Accuracy: {correct_test}/{len(test_data_loader.dataset)}\")\n"
   ]
  },
  {
   "cell_type": "code",
   "execution_count": 132,
   "id": "556bf4a3",
   "metadata": {
    "tags": []
   },
   "outputs": [],
   "source": [
    "train_loss_mod10 = train_loss_mod10.detach().cpu().numpy()"
   ]
  },
  {
   "cell_type": "code",
   "execution_count": 166,
   "id": "cf41f249",
   "metadata": {
    "tags": []
   },
   "outputs": [
    {
     "name": "stdout",
     "output_type": "stream",
     "text": [
      "tensor(88.9183)\n",
      "tensor(95.5967)\n",
      "tensor(97.0550)\n",
      "tensor(97.9783)\n",
      "tensor(98.5333)\n",
      "tensor(98.9000)\n",
      "tensor(99.1450)\n",
      "tensor(99.4383)\n",
      "tensor(99.5450)\n",
      "tensor(99.6433)\n",
      "tensor(99.7050)\n",
      "tensor(99.8483)\n",
      "tensor(99.8817)\n",
      "tensor(99.9350)\n",
      "tensor(99.9667)\n",
      "tensor(99.9567)\n",
      "tensor(99.9933)\n",
      "tensor(100.)\n",
      "tensor(99.9983)\n",
      "tensor(100.)\n",
      "tensor(100.)\n",
      "tensor(100.)\n",
      "tensor(100.)\n",
      "tensor(100.)\n",
      "tensor(100.)\n",
      "tensor(100.)\n",
      "tensor(100.)\n",
      "tensor(100.)\n",
      "tensor(100.)\n",
      "tensor(100.)\n"
     ]
    }
   ],
   "source": [
    "for correct_train in train_accuracy_mod10:\n",
    "    trn_accu_mod10 = correct_train / 600 # Use the actual dataset size\n",
    "    print(trn_accu_mod10)"
   ]
  },
  {
   "cell_type": "code",
   "execution_count": 167,
   "id": "2f2db669",
   "metadata": {
    "tags": []
   },
   "outputs": [
    {
     "name": "stdout",
     "output_type": "stream",
     "text": [
      "tensor(94.6000)\n",
      "tensor(96.2600)\n",
      "tensor(97.3700)\n",
      "tensor(97.7800)\n",
      "tensor(97.7700)\n",
      "tensor(97.7800)\n",
      "tensor(97.9700)\n",
      "tensor(97.9700)\n",
      "tensor(98.1100)\n",
      "tensor(98.)\n",
      "tensor(98.1800)\n",
      "tensor(98.1600)\n",
      "tensor(98.1100)\n",
      "tensor(98.0800)\n",
      "tensor(98.1500)\n",
      "tensor(98.2500)\n",
      "tensor(98.2300)\n",
      "tensor(98.3500)\n",
      "tensor(98.3600)\n",
      "tensor(98.3500)\n",
      "tensor(98.3700)\n",
      "tensor(98.3300)\n",
      "tensor(98.3400)\n",
      "tensor(98.3400)\n",
      "tensor(98.3300)\n",
      "tensor(98.3500)\n",
      "tensor(98.3600)\n",
      "tensor(98.3500)\n",
      "tensor(98.3700)\n",
      "tensor(98.3400)\n"
     ]
    }
   ],
   "source": [
    "for correct_test in test_accuracy_mod10:\n",
    "    tst_accu_mod10 = correct_test /100 #  size\n",
    "    print(tst_accu_mod10)"
   ]
  },
  {
   "cell_type": "code",
   "execution_count": null,
   "id": "6246e15f",
   "metadata": {},
   "outputs": [],
   "source": []
  },
  {
   "cell_type": "code",
   "execution_count": null,
   "id": "d81ffef9",
   "metadata": {},
   "outputs": [],
   "source": []
  },
  {
   "cell_type": "code",
   "execution_count": 168,
   "id": "d4297045",
   "metadata": {
    "tags": []
   },
   "outputs": [
    {
     "data": {
      "image/png": "[encoded data removed]",
      "text/plain": [
       "<Figure size 640x480 with 1 Axes>"
      ]
     },
     "metadata": {},
     "output_type": "display_data"
    }
   ],
   "source": [
    "#Training Loss\n",
    "plt.scatter(simple_model_params, train_loss_mod1,c='b',label='Train')\n",
    "plt.scatter(larger_model_params, train_loss_mod2,c='b')\n",
    "plt.scatter(deeper_model_params, train_losses_mod3,c='b')\n",
    "plt.scatter(larger_model4_params, train_loss_mod4,c='b')\n",
    "plt.scatter(complex_model5_params, train_loss_mod5,c='b')\n",
    "plt.scatter(large_model6_params, train_loss_mod6,c='b')\n",
    "plt.scatter(deep_model7_params, train_loss_mod7,c='b')\n",
    "plt.scatter(large_model8_params, train_loss_mod8,c='b')\n",
    "plt.scatter(large_model9_params,train_loss_mod9,c='b')\n",
    "plt.scatter(large_model10_params, train_loss_mod10,c='b')\n",
    "\n",
    "#Testing Loss\n",
    "\n",
    "plt.scatter(simple_model_params, test_loss_mod1,c='r',label='Test')\n",
    "plt.scatter(larger_model_params, test_loss_mod2,c='r')\n",
    "plt.scatter(deeper_model_params, test_loss_mod3,c='r')\n",
    "plt.scatter(larger_model4_params, test_loss_mod4,c='r')\n",
    "plt.scatter(complex_model5_params, test_loss_mod5,c='r')\n",
    "plt.scatter(large_model6_params, test_loss_mod6,c='r')\n",
    "plt.scatter(deep_model7_params, test_loss_mod7,c='r')\n",
    "plt.scatter(large_model8_params, test_loss_mod8,c='r')\n",
    "plt.scatter(large_model9_params, test_loss_mod9,c='r')\n",
    "plt.scatter(large_model10_params, test_loss_mod10,c='r')\n",
    "\n",
    "plt.title(\"Loss of Models\")\n",
    "plt.xlabel(\"Number of Parameters\")\n",
    "plt.ylabel(\"Loss\")\n",
    "plt.legend(loc=\"upper right\")\n",
    "plt.show()"
   ]
  },
  {
   "cell_type": "code",
   "execution_count": null,
   "id": "f3ffc706",
   "metadata": {},
   "outputs": [],
   "source": []
  },
  {
   "cell_type": "code",
   "execution_count": 174,
   "id": "7ab50e77",
   "metadata": {
    "tags": []
   },
   "outputs": [
    {
     "data": {
      "image/png": "[encoded data removed]",
      "text/plain": [
       "<Figure size 640x480 with 1 Axes>"
      ]
     },
     "metadata": {},
     "output_type": "display_data"
    }
   ],
   "source": [
    "# Plotting Training Accuracy\n",
    "plt.scatter(simple_model_params, trn_accu_mod1, c='green', label='Train Models')\n",
    "plt.scatter(larger_model_params, trn_accu_mod2, c='green')\n",
    "plt.scatter(deeper_model_params, trn_accu_mod3, c='green')\n",
    "plt.scatter(larger_model4_params, trn_accu_mod4, c='green')\n",
    "plt.scatter(complex_model5_params, trn_accu_mod5, c='green')\n",
    "plt.scatter(large_model6_params, trn_accu_mod6, c='green')\n",
    "plt.scatter(deep_model7_params, trn_accu_mod7, c='green')\n",
    "plt.scatter(large_model8_params, trn_accu_mod8, c='green')\n",
    "plt.scatter(large_model9_params, trn_accu_mod9, c='green')\n",
    "plt.scatter(large_model10_params, trn_accu_mod10, c='green')\n",
    "\n",
    "# Plotting Testing Accuracy\n",
    "plt.scatter(simple_model_params, tst_accu_mod1, c='red', label='Test Models')\n",
    "plt.scatter(larger_model_params, test_accu_mod2, c='red')\n",
    "plt.scatter(deeper_model_params, tst_accu_mod3, c='red')\n",
    "plt.scatter(larger_model4_params, tst_accu_mod4, c='red')\n",
    "plt.scatter(complex_model5_params, tst_accu_mod5, c='red')\n",
    "plt.scatter(large_model6_params, tst_accu_mod6, c='red')\n",
    "plt.scatter(deep_model7_params, tst_accu_mod7, c='red')\n",
    "plt.scatter(large_model8_params, tst_accu_mod8, c='red')\n",
    "plt.scatter(large_model9_params, tst_accu_mod9, c='red')\n",
    "plt.scatter(large_model10_params, tst_accu_mod10, c='red')\n",
    "\n",
    "plt.title(\"Models Accuracy\")\n",
    "plt.xlabel(\"Number of Parameters\")\n",
    "plt.ylabel(\"Accuracy\")\n",
    "plt.legend(loc=\"upper right\")\n",
    "plt.show()\n"
   ]
  }
 ],
 "metadata": {
  "kernelspec": {
   "display_name": "Python 3 (ipykernel)",
   "language": "python",
   "name": "python3"
  },
  "language_info": {
   "codemirror_mode": {
    "name": "ipython",
    "version": 3
   },
   "file_extension": ".py",
   "mimetype": "text/x-python",
   "name": "python",
   "nbconvert_exporter": "python",
   "pygments_lexer": "ipython3",
   "version": "3.11.5"
  }
 },
 "nbformat": 4,
 "nbformat_minor": 5
}
